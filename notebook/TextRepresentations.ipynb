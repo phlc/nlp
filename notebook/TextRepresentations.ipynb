{
  "cells": [
    {
      "cell_type": "markdown",
      "metadata": {
        "id": "czFBqPc5HwET"
      },
      "source": [
        "# Text Representations\n",
        "---\n",
        "Every community in human history possesses language, a feature regarded innate and defining of humanity. Non-human species can exchange information, but none of them have a communication system with a complexity that in any way is comparable to human language \\[[37](#Scott-Phillips:2013@JRSI)\\]. Although humans have always develop means and media to preserve and reproduce expressions of their culture, history shows that different cultures developed different technologies to create these means and media to accommodate their socioeconomic needs and to extend knowledge \\[[14](#Gabrial:2007@book)\\]. Furthermore, history also shows that the development of writing systems have been sporadic, uneven and slow \\[[4](#Berwick:2015@book)\\]. \n",
        "\n",
        "Due to the different definitions of language reported in the literature, it is important to emphasize that from now, when one refer to language one are referring to a strict sense of linguistic communication \\[[15](#Glasersfeld:1977@book)\\]. Additionally, one refer to natural languages and not to artificial and restricted languages, such as mathematics or formal logic. Moreover, one focus in written language. Particularly, one define language as a set of symbols structured according to specific set of rules to express ideas. Furthermore, one define writing as a communication system that represents language with inscriptions to make it understandable, creating a durable version of speech that can be stored for future reference or transmitted across distance. Writing allows societies to transmit information and to share knowledge by using a key piece called text, a sequence of symbols forming words, sentences and larger units, such as paragraphs and documents, that can be understood in context. \n",
        "\n",
        "Over the centuries writing has been evolving due to the development of new technologies. From finger, bone, clay, papyrus, pen, pencil, paper and printing press to digital computing devices, technology have altered what is written, the medium through which the text are produced, and how fast they are produced \\[[14](#Gabrial:2007@book)\\]. Recently, the growing volume of information available in digital media, especially the Web \\[[43](#Gulli:2005@WWW), [44](#vandenBosch:2016@SCIENTOMETRICS)\\], is demanding ever more technologies for efficient information consume. In particular, the development of technologies for text representation to be used in different computational tasks, such as natural language processing, information retrieval and data mining is paramount to ensure the effective consumption of the increasing amount of digital information \\[[25](#Manning:2008@book)\\]. \n",
        "\n",
        "Text representation aims to numerically represent written symbols (letters, words, sentences, documents) to make them mathematically computable \\[[42](#Yan:2009@book)\\]. In the computer science research field, some text representation strategies have been proposed in the past decades for different application purposes. Commonly, text is represented by a numerical vector such that the similarity between vectors (two different piece of text) can be computed by different approaches, for instance by the vector normalized inner product, also known as the Cosine similarity \\[[36](#Salton:1975@CACM)\\]. \n",
        "\n",
        "Besides enable mathematically computation, representing text as vector provides support for language modeling, the development of models that are able to predict the next word in a sequence given the words that precede it \\[[35](#Ponte:1998@SIGIR)\\]. Language modeling is a root problem for a large range of natural language processing tasks. Practically, language models are used as a basis for more sophisticated models for tasks that require language understanding. Therefore, they are crucial components in real world applications such as machine translation and automatic speech recognition, playing a central role in information retrieval, natural language processing, artificial intelligence, and machine learning research \\[[16](#Goldberg:2017@book), [25](#Manning:2008@book)\\].\n",
        "Considering the word prediction strategy, one can categorize language models into three distinct groups: probabilistic, topic, and neural models. "
      ]
    },
    {
      "cell_type": "markdown",
      "metadata": {
        "id": "8DDepChFatt3"
      },
      "source": [
        "## Probabilistic Models\n",
        "Probabilistic models, also known as probabilistic language models or statistical language models, are probabilistic distributions over sequences or words that are able to predict the next word in a sequence given the words that precede it \\[[35](#Ponte:1998@SIGIR)\\]. A probabilistic model learns the probability of word occurrence based on examples of text. Simpler models may look at a context of a short sequence of words, whereas complex models may work at large sequences. Formally, a probabilistic model can be represented by a conditional probability of the next word given all the previous ones \\[[3](Bengio:2003@JMLR)\\], since\n",
        "\n",
        "\n",
        "$$P(w_{1}^T) = \\prod _{{i=1}}^{T}P(w_{t}\\mid w_{1}^{t-1})$$\n",
        "\n",
        "where $w_t$ is the t-th word, and a sequence $w_{i}^{j} = (w_i, w_{i+1},\\ldots,w_{j-1}, w_j)$. Such models have already been used to address many natural language problems, such as speech recognition, language translation and information retrieval. The most popular models used for this purpose are the Bag of Words (BoW) and n-gram models."
      ]
    },
    {
      "cell_type": "markdown",
      "metadata": {
        "id": "-Dxj11nlRSgO"
      },
      "source": [
        "### <a name=\"BoW\"></a>BoW\n",
        "BoW is an acronym for *Bag of Words*, a probabilistic language model where all words in a text are mutually independent. It is called a \"bag\" of words, since text structure, the order and distance of words are discarded, only concerning with whether known words occur, not where, next or close to. The intuition is that similar text share similar words, regardless of their structure. In this model, the probability of each word only depends on that word's own probability in the text. Formally, the sum of the probabilities of each word in the text vocabulary is one:\n",
        "$$\\sum_{{i=1}}^{T}P(w_{i}) = 1$$\n",
        "BoW is a very simple and easy to understand model, hence it has been used on several information retrieval and natural language problems. Nevertheless, it has some limitations. First, the size of the vocabulary impacts the sparsity of the text representation. Accordingly, sparse representations are harder to compute (space and time complexity) and to leverage the available information in such a large representational space. Second, discarding word correlations, such as the order and distance of words, the model ignores context and therefore the meaning of the words in text. Semantics can help to address several information retrieval and natural language problems, by incorporating important correlation between words such as polysemy, synonyms and hyponyms.\n",
        "\n",
        "An usual text representation with BoW represents a text as a $T$-dimensional vector of reals numbers, where $T$ is the size of the text vocabulary, i.e., the set of unique words in the text, and real numbers are word metrics extracted from the text. For instance, considering the text *\\\"the who is the band\\\"*, their vocabulary is composed by four words: *\\\"band\\\"*, *\\\"is\\\"*, *\\\"the\\\"* and *\\\"who\\\"*. Therefore, one represents the text using BoW as $[1.0, 1.0, 2.0, 1.0]$, where each dimension corresponds to a word in the vocabulary and the real numbers are the frequency of the word in the text. Analogously, for a collection of texts one have a larger vocabulary and therefore larger vectors representing each text of the collection. The representation of large text collections commonly culminates in the curse of dimensionality \\[[45](#Chen:2009@book)\\]. Is such phenomena, when the dimensionality increases, the volume of the space increases so fast that the data (vectors) become sparse. Course dimensionality is a fundamental problem, making language modeling and learning tasks too difficult \\[[3](Bengio:2003@JMLR)\\]. \n",
        "\n",
        "A widely used approach to address the high dimensionality - that leads to sparsity - problem is managing vocabulary.\n",
        "Sparse vectors require more memory and computational resources therefore decreasing the size of the vocabulary improves text processing efficiency. There are simple but effective techniques that can be used as a preliminary strategy, such as ignoring case, punctuation and stop words, fix misspelled words and stemming \\[[25](Manning:2008@book)\\]. Although these techniques do not definitively solve the sparsity problem, they offer a way to lower the computational cost at the price of a semantically more restrictive representation of the original text, which may be useful in some learning, natural language processing, and information retrieval tasks.\n",
        "\n",
        "In addition to word frequency, one can also use different metrics for the real-valued vectors. TF-IDF is a very popular word weighting schema in information retrieval, providing a numerical statistic that is intended to reflect how important a word is to a text in a collection. Particularly, the TF-IDF value of a word increases proportionally to the word frequency in the text (term frequency) and decreases proportionally to the number of distinct texts it occurs in the collection (inverted document frequency). There are different variants proposed in literature for accounting TF and IDF metrics \\[[25](Manning:2008@book)\\], and one of the most used variants defines $TF = \\log(1+f_{{t,d}})$, where $f_{{t,d}}$ is the frequency of a word $t$ in a text $d$, and $IDF = \\log ({N}/{n_{t}})$, where $N$ is the number of texts in the collection and $n_{t}$ is number of distinct texts where the word $t$ occurs in the collection. \n",
        "\n",
        "For instance, for a collection composed of three texts $T_1 = $ *\\\"the who is the band\\\"*, $T2 = $ *\\\"who is the band\\\"* and $T3 = $ *\\\"the band who plays the who\\\"*, one have a vocabulary composed of five words: *\\\"band\\\"*, *\\\"is\\\"*, *\\\"plays\\\"*, *\\\"the\\\"* and *\\\"who\\\"*. Therefore, one represents the texts using BoW with TF-IDF as $T_1 = [1.0, 1.0, 2.0, 1.0]$, $T_2 = [1.0, 1.0, 2.0, 1.0]$ and $T_3 = [1.0, 1.0, 2.0, 1.0]$.\n",
        "\n",
        "\n",
        "\n"
      ]
    },
    {
      "cell_type": "markdown",
      "metadata": {
        "id": "WKObZNCQSYtB"
      },
      "source": [
        "#### Examples and Code\n",
        "Consider a collection $C$ composed of $m$ texts $\\{t_1,\\ldots,t_m\\}$, from where one extract the vocabulary $V$. In these case, one represent each text $t_k \\in C$ as a vector $v_k$. For instance, consider $t_1 = $ *\\\"The Who is the band!\\\"*, $t_2 = $ *\\\"Who is the band?\\\"* and $t_3 = $ *\\\"The band who plays the who.\\\"*, one have $V = $ {*band*, *is*, *play*, *the*, *who*}, and represent $t_1$ as the vector $v_1 = [1,1,0,1,1]$, $v2 = [1,1,0,1,1]$ and $v_3 = [1,0,1,1,1]$.\n",
        "\n",
        "Considering the examples above, let's take a look at the following Python code:"
      ]
    },
    {
      "cell_type": "code",
      "execution_count": 1,
      "metadata": {
        "colab": {
          "base_uri": "https://localhost:8080/",
          "height": 85
        },
        "id": "-Px7pcAwSaj4",
        "outputId": "d7275f73-2340-4c51-bf03-d573c3418626"
      },
      "outputs": [
        {
          "name": "stdout",
          "output_type": "stream",
          "text": [
            "C has 3 texts:\n",
            "t1 = The who is the band!\n",
            "t2 = who is the band?\n",
            "t3 = The band who plays the who.\n"
          ]
        }
      ],
      "source": [
        "C = ['The who is the band!',\n",
        "     'who is the band?',\n",
        "     'The band who plays the who.']\n",
        "\n",
        "print(\"C has %d texts:\" % len(C))\n",
        "for i in range(len(C)):\n",
        "    print(\"t{} = {}\".format(i+1, C[i]))\n"
      ]
    },
    {
      "cell_type": "markdown",
      "metadata": {
        "id": "TQPbxan2SiO8"
      },
      "source": [
        "In our example, the corpus $C$ is composed by $3$ documents (texts). One can take the vocabulary $V$ extracting the set of distinct terms from $C$:"
      ]
    },
    {
      "cell_type": "code",
      "execution_count": 2,
      "metadata": {
        "colab": {
          "base_uri": "https://localhost:8080/",
          "height": 34
        },
        "id": "Jb-Q1k5xSqTt",
        "outputId": "43a18e5d-55d1-4215-e1d3-d8a59140eaa0"
      },
      "outputs": [
        {
          "name": "stdout",
          "output_type": "stream",
          "text": [
            "V has 5 words: ['band', 'is', 'plays', 'the', 'who']\n"
          ]
        }
      ],
      "source": [
        "import re\n",
        "\n",
        "def get_tokens(text):    \n",
        "  #ignore = ['a', \"the\", \"is\"]    \n",
        "  tokens = re.sub(\"[^\\w]\", \" \", text).split()\n",
        "  #cleaned_text = [w.lower() for w in words if w not in ignore]\n",
        "  cleaned_text = [w.lower() for w in tokens]\n",
        "  return cleaned_text\n",
        "\n",
        "def tokenize(texts):\n",
        "  words = []    \n",
        "  for text in texts:        \n",
        "    w = get_tokens(text)        \n",
        "    words.extend(w)            \n",
        "    words = sorted(list(set(words)))    \n",
        "  return words\n",
        "\n",
        "V = tokenize(C)\n",
        "print(\"V has {0} words: {1}\".format(len(V),V))"
      ]
    },
    {
      "cell_type": "code",
      "execution_count": 4,
      "metadata": {
        "colab": {
          "base_uri": "https://localhost:8080/",
          "height": 68
        },
        "id": "-FHpfWeY5CDg",
        "outputId": "e72f7b11-389d-49b2-f0eb-5bbd371f40f5"
      },
      "outputs": [
        {
          "name": "stdout",
          "output_type": "stream",
          "text": [
            "The who is the band! = [1. 1. 0. 2. 1.]\n",
            "who is the band? = [1. 1. 0. 1. 1.]\n",
            "The band who plays the who. = [1. 0. 1. 2. 2.]\n"
          ]
        }
      ],
      "source": [
        "import numpy\n",
        "\n",
        "for text in C:        \n",
        "  words = get_tokens(text)        \n",
        "  bag_vector = numpy.zeros(len(V))        \n",
        "  for w in words:            \n",
        "    for i,word in enumerate(V):                \n",
        "      if word == w:                     \n",
        "        bag_vector[i] += 1                            \n",
        "  print(\"{0} = {1}\".format(text,numpy.array(bag_vector)))"
      ]
    },
    {
      "cell_type": "markdown",
      "metadata": {
        "id": "7z7XpE0yS8zO"
      },
      "source": [
        "From the matrix $x_{j,k}$ above, one can observe that the [bag-of-words model](https://en.wikipedia.org/wiki/Bag-of-words_model) represent a document as a bag (multiset) of its words, disregarding grammar and word order. For instance, $d_1$ and $d_4$ are different, with words occurring in different positions, but they have the same vector representation $x_1$ and $x_4$. To enrich the binary representation, one can regard multiplicity, i.e., the frequency of the terms in documents. Thus, in our example, the element $x_{2,7}$ has the value $2$ instead of $1$."
      ]
    },
    {
      "cell_type": "markdown",
      "metadata": {
        "id": "bqcaTtlzRe1j"
      },
      "source": [
        "### N-grams\n",
        "\n",
        "To solve the limitations of [BoW model](#BoW), various advanced text representation strategies have been proposed. The N-gram statistical language models [2] were proposed to capture the term correlation within document. However, the exponentially increasing data dimension with the increase of N limits the application of N-gram models.\n",
        "\n",
        "In fact, the BoW model is also known as the unigram model (n-gram model with $n=1$)."
      ]
    },
    {
      "cell_type": "markdown",
      "metadata": {
        "id": "TR5kB7Tua4Zs"
      },
      "source": [
        "## Topic Models\n",
        "topic models are statistical models for discovering latent topics from text"
      ]
    },
    {
      "cell_type": "markdown",
      "metadata": {
        "id": "kBN4RgsyRw3G"
      },
      "source": [
        "### LSA\n",
        "The Latent Semantic Indexing (LSI) [3] was proposed to reduce the polysemy and synonym problems. At the same time, LSI can also represent the semantics of text documents through the linear combination of terms, which is computed by the Singular Value Decomposition (SVD). However, the high complexity of SVD [1] make LSI seldom used in real IR tasks. In addition, some external resources such as the Wordnet and Wikipedia are recently used for solving the polysemy and synonym problems in text representation. Since the effectiveness of these external resources for text representation can only be learned in research papers and there still has no evidence to show their power in real IR applications, this article will not introduce their details."
      ]
    },
    {
      "cell_type": "markdown",
      "metadata": {
        "id": "GYjFL_ZqSBM6"
      },
      "source": [
        "### PLSA\n",
        "Motivated by the LSI, the Probabilistic Latent Semantic Indexing (PLSI) [6] is also proposed for representing the semantics of text documents. However, it is still limited by the computation complexity due to the increasing scale of Web data. As a summary, though various approaches have been proposed for solving the limitations of BOW, the BOW with TFIDF term weighting schema is still one of the most commonly used text representation strategies in real IR applications."
      ]
    },
    {
      "cell_type": "markdown",
      "metadata": {
        "id": "lwPgLYGTajwM"
      },
      "source": [
        "### PDA\n",
        "Motivated by the LSI, the Probabilistic Latent Semantic Indexing (PLSI) [6] is also proposed for representing the semantics of text documents. However, it is still limited by the computation complexity due to the increasing scale of Web data. As a summary, though various approaches have been proposed for solving the limitations of BOW, the BOW with TFIDF term weighting schema is still one of the most commonly used text representation strategies in real IR applications."
      ]
    },
    {
      "cell_type": "markdown",
      "metadata": {
        "id": "Z7VvVUIYbBSB"
      },
      "source": [
        "## Neural Models\n",
        "neural models use neural network to provide continuous representations or embeddings of words"
      ]
    },
    {
      "cell_type": "markdown",
      "metadata": {
        "id": "4dOzUkhxVef3"
      },
      "source": [
        "### Word Embeddings"
      ]
    },
    {
      "cell_type": "markdown",
      "metadata": {
        "id": "CZx1nUCobLNu"
      },
      "source": [
        "#### NPLM"
      ]
    },
    {
      "cell_type": "markdown",
      "metadata": {
        "id": "UGaJPZW9bUvh"
      },
      "source": [
        "#### Skip-gram"
      ]
    },
    {
      "cell_type": "markdown",
      "metadata": {
        "id": "vL7F5O4Kbg89"
      },
      "source": [
        "#### Word2Vec"
      ]
    },
    {
      "cell_type": "markdown",
      "metadata": {
        "id": "BvfuGe6Bbmuh"
      },
      "source": [
        "#### GloVe"
      ]
    },
    {
      "cell_type": "markdown",
      "metadata": {
        "id": "9CG6qYzWbqQJ"
      },
      "source": [
        "#### CoVe"
      ]
    },
    {
      "cell_type": "markdown",
      "metadata": {
        "id": "miFoEQFibsV6"
      },
      "source": [
        "#### FastText"
      ]
    },
    {
      "cell_type": "markdown",
      "metadata": {
        "id": "nfMSskX9byc9"
      },
      "source": [
        "#### ELMo"
      ]
    },
    {
      "cell_type": "markdown",
      "metadata": {
        "id": "Uz-o7Y5OVv35"
      },
      "source": [
        "### Sentence Embeddings"
      ]
    },
    {
      "cell_type": "markdown",
      "metadata": {
        "id": "IcnrLBclb34L"
      },
      "source": [
        "#### StarSpace"
      ]
    },
    {
      "cell_type": "markdown",
      "metadata": {
        "id": "tuiRDUf_b7UK"
      },
      "source": [
        "#### Skip-Thought"
      ]
    },
    {
      "cell_type": "markdown",
      "metadata": {
        "id": "CS3pYiPRcA0f"
      },
      "source": [
        "#### Quick-Thought"
      ]
    },
    {
      "cell_type": "markdown",
      "metadata": {
        "id": "NImZttRbcEZv"
      },
      "source": [
        "#### FastSent"
      ]
    },
    {
      "cell_type": "markdown",
      "metadata": {
        "id": "WPd9aosEcG8-"
      },
      "source": [
        "#### DiscSent"
      ]
    },
    {
      "cell_type": "markdown",
      "metadata": {
        "id": "USQp5EH7cKGF"
      },
      "source": [
        "#### DisSent"
      ]
    },
    {
      "cell_type": "markdown",
      "metadata": {
        "id": "j7e0dyv1cMZI"
      },
      "source": [
        "#### DAN"
      ]
    },
    {
      "cell_type": "markdown",
      "metadata": {
        "id": "yCHtpnU5WSP0"
      },
      "source": [
        "#### AdaSent"
      ]
    },
    {
      "cell_type": "markdown",
      "metadata": {
        "id": "h6EkclgWcR1b"
      },
      "source": [
        "#### InferSent"
      ]
    },
    {
      "cell_type": "markdown",
      "metadata": {
        "id": "jvfYu3CWcTli"
      },
      "source": [
        "#### InferLite"
      ]
    },
    {
      "cell_type": "markdown",
      "metadata": {
        "id": "VlhgBkNrWz7l"
      },
      "source": [
        "#### Transformer"
      ]
    },
    {
      "cell_type": "markdown",
      "metadata": {
        "id": "NUrPRysXXBAH"
      },
      "source": [
        "#### BERT"
      ]
    },
    {
      "cell_type": "markdown",
      "metadata": {
        "id": "s4N6jnLYcWAZ"
      },
      "source": [
        "#### GenSen"
      ]
    },
    {
      "cell_type": "markdown",
      "metadata": {
        "id": "sDMIbB7Ucafe"
      },
      "source": [
        "#### USE"
      ]
    },
    {
      "cell_type": "markdown",
      "metadata": {
        "id": "c61a2Sh7chQu"
      },
      "source": [
        "#### SIF"
      ]
    },
    {
      "cell_type": "markdown",
      "metadata": {
        "id": "ZA28A1FEclj8"
      },
      "source": [
        "#### Sent2Vec"
      ]
    },
    {
      "cell_type": "markdown",
      "metadata": {
        "id": "xtZk8lQ8W5ES"
      },
      "source": [
        "#### XLNet"
      ]
    },
    {
      "cell_type": "markdown",
      "metadata": {
        "id": "ORTVfidcScQw"
      },
      "source": [
        "# References\n",
        "\n",
        "<a name=\"Arora:2017@ICLR\"></a>\\[[1][1]\\] Sanjeev Arora, Yingyu Liang, and Tengyu Ma. An efficient framework for learning sentence representations. In Proceedings of the 5th International Conference on Learning Representations, ICLR’17, April 2017. <!--- SIF -->\n",
        "\n",
        "<a name=\"Baker:1962@JACM\"></a>\\[[2][2]\\] Frank B. Baker. Information retrieval based upon latent class analysis. Journal of the ACM, 9(4):512–521, October 1962. <!--- LSA -->\n",
        "\n",
        "<a name=\"Bengio:2003@JMLR\"></a>\\[[3][3]\\] Yoshua Bengio, Réjean Ducharme, Pascal Vincent, and Christian Janvin. A neural probabilistic language model. The Journal of Machine Learning Research, 3:1137–1155, March 2003. <!--- NPLM -->\n",
        "\n",
        "<a name=\"Berwick:2015@book\"></a>\\[[4][4]\\] Robert C. Berwick and Noam Chomsky. Why Only Us: Language and Evolution. MIT Press, 2015.\n",
        "\n",
        "<a name=\"Blei:2003@JMLR\"></a>\\[[5][5]\\] David M. Blei, Andrew Y. Ng, and Michael I. Jordan. Latent dirichlet allocation. The Journal of Machine Learning Research, 3:993–1022, March 2003. <!--- LDA -->\n",
        "\n",
        "<a name=\"Bojanowski:2017@TACL\"></a>\\[[6][6]\\] Piotr Bojanowski, Edouard Grave, Armand Joulin, and Tomas Mikolov.  Enriching word vectors with subword information. Transactions of the Association for Computational Linguistics, 5:135–146, June 2017. <!--- FastText -->\n",
        "\n",
        "<a name=\"Brown:1992@CL\"></a>\\[[7][7]\\] Peter F. Brown, Peter V. deSouza, Robert L. Mercer, Vincent J. Della Pietra, and Jenifer C. Lai. Class-based n-gram models of natural language. Computational Linguistics, 18(4):467–479, December 1992. <!--- N-gram -->\n",
        "\n",
        "<a name=\"Cer:2018@EMNLP\"></a>\\[[8][8]\\] Daniel Cer, Yinfei Yang, Sheng-yi Kong, Nan Hua, Nicole Limtiaco, Rhomni St. John, Noah Constant, Mario Guajardo-Cespedes, Steve Yuan, Chris Tar, Brian Strope, and Ray Kurzweil. Universal sentence encoder for English. In Proceedings of the 2018 Conference on Empirical Methods in Natural Language Processing, EMNLP’18, pages 169–174, October 2018. <!--- USE -->\n",
        "\n",
        "<a name=\"Conneau:2018@CoRR\"></a>\\[[9][9]\\] Alexis Conneau and Douwe Kiela. SentEval: An evaluation toolkit for universal sentence representations. In Proceedings of the 19th International Conference on Language Resources and Evaluation, LREC’18, pages 1699–1704, May 2018. <!--- Evaluation -->\n",
        "\n",
        "<a name=\"Conneau:2017@EMNLP\"></a>\\[[10][10]\\] Alexis Conneau, Douwe Kiela, Holger Schwenk, Loïc Barrault, and Antoine Bordes. Supervised learning of universal sentence representations from natural language inference data. In Proceedings of the 2017 Conference on Empirical Methods in Natural Language Processing, EMNLP’17, pages 1532–1543, September 2017. <!--- InferSent -->\n",
        "\n",
        "<a name=\"Deerwester:1990@JASIS\"></a>\\[[11][11]\\] Scott Deerwester, Susan T. Dumais, George W. Furnas, Thomas K. Landauer, and Richard Harshman. Indexing by latent semantic analysis. Journal of the American Society for Information Science, 41(6):391–407, 1990. <!--- LSI -->\n",
        "\n",
        "<a name=\"Firth:1935@TPS\"></a>\\[[12][12]\\] John Rupert Firth.  The technique of semantics. Transactions of the Philological Society, 34(1):36–73, 1935. <!--- Foundations -->\n",
        "\n",
        "<a name=\"Firth:1957@book\"></a>\\[[13][13]\\] John Rupert Firth. A synopsis of linguistic theory 1930-1955. In Studies in Linguistic Analysist, pages 1–32. 1957. <!--- Foundations -->\n",
        "\n",
        "<a name=\"Gabrial:2007@book\"></a>\\[[14][14]\\] Brian Gabrial.  History of writing technologies. In Handbook of Research on Writing: History, Society, School, Individual, Text, pages 27–39. July 2007.\n",
        "\n",
        "<a name=\"Glasersfeld:1977@book\"></a>\\[[15][15]\\] Ernst Von Glasersfeld. Linguistic communication: Theory and definition. In Language Learning by a Chimpanzee, pages 55-71. Academic Press, 1977. \n",
        "\n",
        "<a name=\"Goldberg:2017@book\"></a>\\[[16][16]\\] Yoav Goldberg, and Graeme Hirst. Neural Network Methods in Natural Language Processing. Morgan \\& Claypool Publishers, 2017. \n",
        "\n",
        "<a name=\"Harris:1954@WORD\"></a>\\[[17][17]\\] Zellig S. Harris. Distributional structure. WORD, 10:146–162, 1954. <!--- BoW -->\n",
        "\n",
        "<a name=\"Hill:2016@NAACL\"></a>\\[[18][18]\\] Felix Hill, Kyunghyun Cho, and Anna Korhonen. Learning distributed representations of sentences from unlabelled data. In Proceedings of the 2016 Conference of the North American Chapter of the Association for Computational Linguistics: Human Language Technologies, NAACL-HLT’16, pages 1367–1377, June 2016. <!--- FastSent -->\n",
        "\n",
        "<a name=\"Iyyer:2015@ACL\"></a>\\[[19][19]\\] Mohit Iyyer, Varun Manjunatha, Jordan Boyd-Graber, and Hal Daumé III. Deep unordered composition rivals syntactic methods for text classification. In Proceedings of the 53rd Annual Meeting of the Association for Computational Linguistics, ACL’15, pages 1681–1691, July 2015. <!--- DAN -->\n",
        "\n",
        "<a name=\"Jernite:2017@CoRR\"></a>\\[[20][20]\\] Yacine Jernite, Samuel R. Bowman, and David Sontag. Discourse-based objectives for fast unsupervised sentence representation learning. CoRR, 1705.00557, 2017. <!--- DiscSent -->\n",
        "\n",
        "<a name=\"Kiros:2018@EMNLP\"></a>\\[[21][21]\\] Jamie Ryan Kiros and William Chan. InferLite: Simple universal sentence representations from natural language inference data. In Proceedings of the 2018 Conference on Empirical Methods in Natural Language Processing, EMNLP’18, pages 4868–4874, October 2018. <!--- InferLite -->\n",
        "\n",
        "<a name=\"Kiros:2015@NIPS\"></a>\\[[22][22]\\] Ryan Kiros, Yukun Zhu, Ruslan Salakhutdinov, Richard S. Zemel, Antonio Torralba, Raquel Urtasun, and Sanja Fidler. Skip-Thought vectors. In Proceedings of the 29th Conference on Neural Information Processing Systems, NIPS’15, pages 1532–1543, December 2015. <!--- Skip-Thought -->\n",
        "\n",
        "<a name=\"Levy:2015@TACL\"></a>\\[[23][23]\\] Omer Levy, Yoav Goldberg, and Ido Dagan. Improving distributional similarity with lessons learned from word embeddings. Transactions of the Association for Computational Linguistics, 2015.\n",
        "\n",
        "<a name=\"Logeswaran:2018@ICLR\"></a>\\[[24][24]\\] Lajanugen Logeswaran and Honglak Lee. An efficient framework for learning sentence representations. In Proceedings of the 6th International Conference on Learning Representations, ICLR’18, April 2018. <!--- Quick-Thought -->\n",
        "\n",
        "<a name=\"Manning:2008@book\"></a>\\[[25][25]\\] Christopher D. Manning, Prabhakar Raghavan, and Hinrich Schütze. Introduction to Information Retrieval. Cambridge University Press, 1 edition, July 2008.\n",
        "\n",
        "<a name=\"Manning:1999@book\"></a>\\[[26][26]\\] Christopher D. Manning and Hinrich Schütze. Foundations of Statistical Natural Language Processing. MIT Press, 1 edition, May 1999. <!--- N-gram -->\n",
        "\n",
        "<a name=\"McCann:2017@CoRR\"></a>\\[[27][27]\\] Bryan McCann, James Bradbury, Caiming Xiong, and Richard Socher. Learned in translation: Contextualized word vectors. CoRR, 1708.00107, 2017. <!--- CoVe -->\n",
        "\n",
        "<a name=\"Mikolov:2013@CoRR\"></a>\\[[28][28]\\] Tomas Mikolov, Kai Chen, Gregory S. Corrado, and Jeffrey Dean. Efficient estimation of word representations in vector space. CoRR, abs/1301.3781, 2013. <!--- Skip-gram -->\n",
        "\n",
        "<a name=\"Mikolov:2013@NIPS\"></a>\\[[29][29]\\] Tomas Mikolov, Ilya Sutskever, Kai Chen, Gregory S. Corrado, and Jeffrey Dean. Distributed representations of words and phrases and their compositionality. In Proceedings of the 26th International Conference on Neural Information Processing Systems, NIPS’13, December 2013.\n",
        "\n",
        "<a name=\"Nie:2017@CoRR\"></a>\\[[30][30]\\] Allen Nie, Erin D. Bennett, and Noah D. Goodman. DisSent: Sentence representation learning from explicit discourse relations. CoRR, 1710.04334, 2017. <!--- DisSent -->\n",
        "\n",
        "<a name=\"Pagliardini:2018@NAACL\"></a>\\[[31][31]\\] Matteo Pagliardini, Prakhar Gupta, and Martin Jaggi. Unsupervised learning of sentence embeddings using compositional n-gram features. In Proceedings of the 2018 Conference of the North American Chapter of the Association for Computational Linguistics: Human Language Technologies, NAACL-HLP’18, pages 528–540, June 2018. <!--- Sent2Vec -->\n",
        "\n",
        "<a name=\"Pennington:2014@EMNLP\"></a>\\[[32][32]\\] Jeffrey Pennington, Richard Socher, and Christopher D. Manning. GloVe: Global vectors for word representation. In Proceedings of the 2014 Conference on Empirical Methods in Natural Language Processing, EMNLP’14, pages 1532–1543, October 2014. <!--- GloVe -->\n",
        "\n",
        "<a name=\"Perone:2018@CoRR\"></a>\\[[33][33]\\] Christian S. Perone, Roberto Silveira, and Thomas S. Paula. Evaluation of sentence embeddings in downstream and linguistic probing tasks. CoRR, 1806.06259, 2018. <!--- Evaluation -->\n",
        "\n",
        "<a name=\"Peters:2018@NAACL\"></a>\\[[34][34]\\] Matthew Peters, Mark Neumann, Mohit Iyyer, Matt Gardner, Christopher Clark, Kenton Lee, and Luke Zettlemoyer. Deep contextualized word representations. In Proceedings of the 2018 Conference of the North American Chapter of the Association for Computational Linguistics: Human Language Technologies, NAACL-HLP’18, pages 2227–2237, June 2018. <!--- ELMo -->\n",
        "\n",
        "<a name=\"Ponte:1998@SIGIR\"></a>\\[[35][35]\\] Jay M. Ponte and W. Bruce Croft. A language modeling approach to information retrieval. In Proceedingsof the 21st Annual International ACM SIGIR Conference on Research and Development in Information Retrieval, SIGIR’98, pages 275–281, 1998.\n",
        "\n",
        "<a name=\"Salton:1975@CACM\"></a>\\[[36][36]\\] Gerald Salton, Andrew Wong, and Yang Chung-Shu. A vector space model for automatic indexing. Communications of the ACM, 18(11):613–620, November 1975. <!--- BoW -->\n",
        "\n",
        "<a name=\"Scott-Phillips:2013@JRSI\"></a>\\[[37][37]\\] Thomas C. Scott-Phillips and Richard A. Blythe. Why is combinatorial communication rare in the natural world, and why is language an exception to this trend? Journal of the Royal Society Interface, 10(88), 2013.\n",
        "\n",
        "<a name=\"Subramanian:2018@ICLR\"></a>\\[[38][38]\\] Sandeep Subramanian, Adam Trischler, Yoshua Bengio, and Christopher J. Pal. Learning general purpose distributed sentence representations via large scale multi-task learning. In Proceedings of the 6th International Conference on Learning Representations, ICLR’18, April 2018. <!--- GenSen -->\n",
        "\n",
        "<a name=\"Vaswani:2017@NIPS\"></a>\\[[39][39]\\] Ashish Vaswani, Noam Shazeer, Niki Parmar, Jakob Uszkoreit, Llion Jones, Aidan N. Gomez, Lukasz Kaiser, and Illia Polosukhin. Attention is all you need. In Proceedings of the 31st Conference on Neural Information Processing Systems, NIPS’17, December 2017. <!--- Transformer -->\n",
        "\n",
        "<a name=\"Weaver:1955@book\"></a>\\[[40][40]\\] Warren Weaver. Translation. In Machine Translation of Languages: Fourteen Essays, pages 15–23. 1955. <!--- Foundations -->\n",
        "\n",
        "<a name=\"Ledell:2018@AAAI\"></a>\\[[41][41]\\] Ledell Wu, Adam Fisch, Sumit Chopra, Keith Adams, Antoine Bordes, and Jason Weston. StarSpace: Embed all the things. In Proceedings of the 32nd AAAI Conference on Artificial Intelligence, AAAI’18, pages 5569–5577, February 2018. <!--- StarSpace -->\n",
        "\n",
        "<a name=\"Yan:2009@book\"></a>\\[[42][42]\\] Jun Yan. Text representation. In Encyclopedia of Database Systems, pages 3069–3072. 2009.\n",
        "\n",
        "<a name=\"Gulli:2005@WWW\"></a>\\[[43][43]\\] Antonio Gulli and Alessio Signorini. The indexable Web is more than 11.5 billion pages. In Proceedings of the 14th International Conference on World Wide Web, WWW’15, pages 902–903, May 2015.\n",
        "\n",
        "<a name=\"vandenBosch:2016@SCIENTOMETRICS\"></a>\\[[44][44]\\] Antal van den Bosch, Toine Bogers, and Maurice de Kunder. Estimating search engine index size variability: a 9-year longitudinal study. Scientometrics, 107(2):839–856, May 2016.\n",
        "\n",
        "<a name=\"Chen:2009@book\"></a>\\[[45][45]\\] Lei Chen. Curse of dimensionality. In Encyclopedia of Database Systems, pages 545–546. Springer, 2009.\n",
        "\n",
        "\n",
        "[1]: https://arxiv.org/abs/1803.02893\n",
        "[2]: http://doi.org/10.1145/321138.321148\n",
        "[3]: http://dl.acm.org/citation.cfm?id=944919.944966\n",
        "[4]: https://doi.org/10.7551/mitpress/9780262034241.001.0001\n",
        "[5]: http://dl.acm.org/citation.cfm?id=944919.944937\n",
        "[6]: http://dx.doi.org/10.1162/tacl_a_00051\n",
        "[7]: http://dl.acm.org/citation.cfm?id=176313.176316\n",
        "[8]: http://dx.doi.org/10.18653/v1/D18-2029\n",
        "[9]: https://www.aclweb.org/anthology/L18-1269\n",
        "[10]: http://dx.doi.org/10.18653/v1/d17-1070\n",
        "[11]: http://dx.doi.org/10.1002/%28SICI%291097-4571%28199009%2941%3A6%3C391%3A%3AAID-ASI1%3E3.0.CO%3B2-9\n",
        "[12]: https://doi.org/10.1111/j.1467-968X.1935.tb01254.x\n",
        "[13]: http://cs.brown.edu/courses/csci2952d/readings/lecture1-firth.pdf\n",
        "[14]: https://doi.org/10.4324/9781410616470.ch2\n",
        "[15]: https://doi.org/10.1016/B978-0-12-601850-9.50009-9\n",
        "[16]: https://doi.org/10.2200/S00762ED1V01Y201703HLT037\n",
        "[17]: http://dx.doi.org/10.1080/00437956.1954.11659520\n",
        "[18]: http://dx.doi.org/10.18653/v1/n16-1162\n",
        "[19]: https://www.aclweb.org/anthology/P15-1162\n",
        "[20]: https://arxiv.org/abs/1705.00557\n",
        "[21]: http://dx.doi.org/10.18653/v1/D18-1524\n",
        "[22]: https://arxiv.org/abs/1506.06726\n",
        "[23]: http://dx.doi.org/10.1162/tacl_a_00134\n",
        "[24]: https://arxiv.org/abs/1803.02893\n",
        "[25]: https://nlp.stanford.edu/IR-book/pdf/irbookonlinereading.pdf\n",
        "[26]: https://nlp.stanford.edu/fsnlp/\n",
        "[27]: https://arxiv.org/abs/1708.00107\n",
        "[28]: https://arxiv.org/abs/1301.3781\n",
        "[29]: https://arxiv.org/abs/1310.4546\n",
        "[30]: https://arxiv.org/abs/1710.04334\n",
        "[31]: http://dx.doi.org/10.18653/v1/n18-1049\n",
        "[32]: http://www.aclweb.org/anthology/D14-1162\n",
        "[33]: https://arxiv.org/abs/1806.06259\n",
        "[34]: http://dx.doi.org/10.18653/v1/n18-1202\n",
        "[35]: http://doi.org/10.1145/290941.291008\n",
        "[36]: http://doi.acm.org/10.1145/361219.361220\n",
        "[37]: http://doi.org/10.1098/rsif.2013.0520\n",
        "[38]: https://arxiv.org/abs/1804.00079\n",
        "[39]: https://arxiv.org/abs/1706.03762\n",
        "[40]: http://www.mt-archive.info/Weaver-1949.pdf\n",
        "[41]: https://aaai.org/ocs/index.php/AAAI/AAAI18/paper/download/16998/16114\n",
        "[42]: https://doi.org/10.1007/978-0-387-39940-9_420\n",
        "[43]: http://doi.org/10.1145/1062745.1062789\n",
        "[44]: https://doi.org/10.1007/s11192-016-1863-z\n",
        "[45]: https://doi.org/10.1007/978-0-387-39940-9_133\n",
        "\n",
        " "
      ]
    },
    {
      "cell_type": "code",
      "execution_count": null,
      "metadata": {
        "colab": {
          "base_uri": "https://localhost:8080/",
          "height": 51
        },
        "id": "ZYS3p-h-PJjQ",
        "outputId": "846d477b-c272-42fc-b279-6e58bd82f655"
      },
      "outputs": [
        {
          "name": "stdout",
          "output_type": "stream",
          "text": [
            "[nltk_data] Downloading package stopwords to /root/nltk_data...\n",
            "[nltk_data]   Unzipping corpora/stopwords.zip.\n"
          ]
        }
      ],
      "source": [
        "import numpy as np\n",
        "import scipy\n",
        "import pandas as pd\n",
        "import math\n",
        "import random\n",
        "import sklearn\n",
        "import nltk\n",
        "\n",
        "nltk.download('stopwords')\n",
        "\n",
        "from nltk.corpus import stopwords\n",
        "from sklearn.model_selection import train_test_split\n",
        "from sklearn.feature_extraction.text import TfidfVectorizer\n",
        "from sklearn.metrics.pairwise import cosine_similarity\n",
        "from sklearn.metrics.pairwise import pairwise_distances\n",
        "from sklearn.metrics import mean_squared_error\n",
        "from math import sqrt\n",
        "from scipy.sparse.linalg import svds\n",
        "import matplotlib.pyplot as plt"
      ]
    },
    {
      "cell_type": "markdown",
      "metadata": {
        "id": "8Xw8Pbo-ABeC"
      },
      "source": [
        "## Base de Dados\n",
        "\n",
        "---\n",
        "\n",
        "Precisamos definir o contexto da recomendação, bem como estabelecer uma base de dados para experimentação. Aqui utilizaremos o contexto de recomendação de filmes e os dados de interação de usuários na plataforma [MovieLens](http://grouplens.org/datasets/movielens/20m/). Os dados de interação foram previamente processados para obtenção de descritores textuais de itens. Dessa forma, utilizaremos a base de dados denominada [The Movie Dataset](https://www.kaggle.com/rounakbanik/the-movies-dataset) disponibilizada na plataforma [Kaggle](https://www.kaggle.com)."
      ]
    },
    {
      "cell_type": "markdown",
      "metadata": {
        "id": "j_3_E6i2BkwF"
      },
      "source": [
        "### Mapeamento do *Google Drive*\n",
        "---\n",
        "A base de dados é composta por dois [arquivos CSV](https://pt.wikipedia.org/wiki/Comma-separated_values) que foram previamente descarregados do  [The Movie Dataset](https://www.kaggle.com/rounakbanik/the-movies-dataset) e carregados no *Google Drive*. A seguir, faremos o mapeamento e *download* dos arquivos. Um deles contém a descrição textual dos itens a serem recomendados e o outro contém as interações (avaliações - *ratings*) de usuários em itens. "
      ]
    },
    {
      "cell_type": "code",
      "execution_count": null,
      "metadata": {
        "colab": {
          "base_uri": "https://localhost:8080/",
          "height": 34
        },
        "id": "U6VIFSM1Bvwj",
        "outputId": "c950ea38-291c-4fe2-dacc-70efe1976c27"
      },
      "outputs": [
        {
          "data": {
            "text/plain": [
              "0"
            ]
          },
          "execution_count": 2,
          "metadata": {
            "tags": []
          },
          "output_type": "execute_result"
        }
      ],
      "source": [
        "from google.colab import auth\n",
        "auth.authenticate_user()\n",
        "\n",
        "from googleapiclient.discovery import build\n",
        "drive_service = build('drive', 'v3')\n",
        "\n",
        "# Google FID (File ID) of the items and ratings files\n",
        "itemsFID = '1Kh7WRbFgDj1n268GNOG1M6LIEiM6aY6e'\n",
        "ratingsFID = '1ZRmooAYM4Xf6NI0QqhuENZcHFdE4XtcM'\n",
        "\n",
        "import io\n",
        "from googleapiclient.http import MediaIoBaseDownload\n",
        "\n",
        "# Downloading the items csv file\n",
        "request = drive_service.files().get_media(fileId=itemsFID)\n",
        "items = io.BytesIO()\n",
        "downloader = MediaIoBaseDownload(items, request)\n",
        "done = False\n",
        "while done is False:\n",
        "  _, done = downloader.next_chunk()\n",
        "items.seek(0)\n",
        "\n",
        "# Downloading the ratings csv file\n",
        "request = drive_service.files().get_media(fileId=ratingsFID)\n",
        "ratings = io.BytesIO()\n",
        "downloader = MediaIoBaseDownload(ratings, request)\n",
        "done = False\n",
        "while done is False:\n",
        "  _, done = downloader.next_chunk()\n",
        "ratings.seek(0)"
      ]
    },
    {
      "cell_type": "markdown",
      "metadata": {
        "id": "c_dwvGze9Qw8"
      },
      "source": [
        "### Carga da Base de Dados\n",
        "---\n",
        "A base de dados é composta por 45.463 itens e 100.004 *ratings* de 671 usuários em 9.066 itens. A seguir, carregaremos os arquivos descarregados do *Google Drive* para processamento: "
      ]
    },
    {
      "cell_type": "markdown",
      "metadata": {
        "id": "uR2tk28d9ykf"
      },
      "source": [
        "#### movies_metadata.csv\n",
        "\n",
        "Contém informação sobre itens (filmes), tal como identificador, título, descrição textual, a língua."
      ]
    },
    {
      "cell_type": "code",
      "execution_count": null,
      "metadata": {
        "colab": {
          "base_uri": "https://localhost:8080/",
          "height": 34
        },
        "id": "-ft7e4TFVZGs",
        "outputId": "f3508d4a-382b-402e-8058-d877c57f6da2"
      },
      "outputs": [
        {
          "name": "stdout",
          "output_type": "stream",
          "text": [
            "# itens: 45463\n"
          ]
        }
      ],
      "source": [
        "itemsDF = pd.read_csv(items,usecols=['id', 'title', 'overview', 'original_language'])\n",
        "itemsDF = itemsDF[['id', 'title', 'overview', 'original_language']]\n",
        "itemsDF.columns = ['itemId', 'itemName', 'itemDescription', 'itemLanguage']\n",
        "itemsDF = itemsDF.fillna('')\n",
        "print('# itens: %d' % len(itemsDF))"
      ]
    },
    {
      "cell_type": "code",
      "execution_count": null,
      "metadata": {
        "colab": {
          "base_uri": "https://localhost:8080/",
          "height": 204
        },
        "id": "3Us4l_Ztud_O",
        "outputId": "dc311311-0efe-49f8-f88d-fd336fac8819"
      },
      "outputs": [
        {
          "data": {
            "text/html": [
              "<div>\n",
              "<style scoped>\n",
              "    .dataframe tbody tr th:only-of-type {\n",
              "        vertical-align: middle;\n",
              "    }\n",
              "\n",
              "    .dataframe tbody tr th {\n",
              "        vertical-align: top;\n",
              "    }\n",
              "\n",
              "    .dataframe thead th {\n",
              "        text-align: right;\n",
              "    }\n",
              "</style>\n",
              "<table border=\"1\" class=\"dataframe\">\n",
              "  <thead>\n",
              "    <tr style=\"text-align: right;\">\n",
              "      <th></th>\n",
              "      <th>itemId</th>\n",
              "      <th>itemName</th>\n",
              "      <th>itemDescription</th>\n",
              "      <th>itemLanguage</th>\n",
              "    </tr>\n",
              "  </thead>\n",
              "  <tbody>\n",
              "    <tr>\n",
              "      <th>4342</th>\n",
              "      <td>2</td>\n",
              "      <td>Ariel</td>\n",
              "      <td>Taisto Kasurinen is a Finnish coal miner whose...</td>\n",
              "      <td>fi</td>\n",
              "    </tr>\n",
              "    <tr>\n",
              "      <th>12947</th>\n",
              "      <td>3</td>\n",
              "      <td>Shadows in Paradise</td>\n",
              "      <td>An episode in the life of Nikander, a garbage ...</td>\n",
              "      <td>fi</td>\n",
              "    </tr>\n",
              "    <tr>\n",
              "      <th>17</th>\n",
              "      <td>5</td>\n",
              "      <td>Four Rooms</td>\n",
              "      <td>It's Ted the Bellhop's first night on the job....</td>\n",
              "      <td>en</td>\n",
              "    </tr>\n",
              "    <tr>\n",
              "      <th>474</th>\n",
              "      <td>6</td>\n",
              "      <td>Judgment Night</td>\n",
              "      <td>While racing to a boxing match, Frank, Mike, J...</td>\n",
              "      <td>en</td>\n",
              "    </tr>\n",
              "    <tr>\n",
              "      <th>256</th>\n",
              "      <td>11</td>\n",
              "      <td>Star Wars</td>\n",
              "      <td>Princess Leia is captured and held hostage by ...</td>\n",
              "      <td>en</td>\n",
              "    </tr>\n",
              "  </tbody>\n",
              "</table>\n",
              "</div>"
            ],
            "text/plain": [
              "       itemId             itemName  \\\n",
              "4342        2                Ariel   \n",
              "12947       3  Shadows in Paradise   \n",
              "17          5           Four Rooms   \n",
              "474         6       Judgment Night   \n",
              "256        11            Star Wars   \n",
              "\n",
              "                                         itemDescription itemLanguage  \n",
              "4342   Taisto Kasurinen is a Finnish coal miner whose...           fi  \n",
              "12947  An episode in the life of Nikander, a garbage ...           fi  \n",
              "17     It's Ted the Bellhop's first night on the job....           en  \n",
              "474    While racing to a boxing match, Frank, Mike, J...           en  \n",
              "256    Princess Leia is captured and held hostage by ...           en  "
            ]
          },
          "execution_count": 4,
          "metadata": {
            "tags": []
          },
          "output_type": "execute_result"
        }
      ],
      "source": [
        "itemsDF.sort_values(by=['itemId']).head(5)"
      ]
    },
    {
      "cell_type": "markdown",
      "metadata": {
        "id": "I_y22t1mVbJ6"
      },
      "source": [
        "#### ratings_small.csv\n",
        "\n",
        "Contém os registros de *ratings* de usuários em itens (filmes). O arquivo pode ser juntado ao arquivo *movies_metadata.csv* pela coluna *itemId*. "
      ]
    },
    {
      "cell_type": "code",
      "execution_count": null,
      "metadata": {
        "colab": {
          "base_uri": "https://localhost:8080/",
          "height": 34
        },
        "id": "C4xCLKlBaOuc",
        "outputId": "b89a2bb7-466d-4e2f-ffc1-13e01dc30b68"
      },
      "outputs": [
        {
          "name": "stdout",
          "output_type": "stream",
          "text": [
            "# ratings: 100004\n"
          ]
        }
      ],
      "source": [
        "ratingsDF = pd.read_csv(ratings,usecols=['userId', 'movieId', 'rating'])\n",
        "ratingsDF.columns = ['userId', 'itemId', 'rating']\n",
        "print('# ratings: %d' % len(ratingsDF))"
      ]
    },
    {
      "cell_type": "code",
      "execution_count": null,
      "metadata": {
        "colab": {
          "base_uri": "https://localhost:8080/",
          "height": 204
        },
        "id": "ueLkaxOLuor6",
        "outputId": "a58866e8-4217-4e2d-a6a5-3f5e4511c372"
      },
      "outputs": [
        {
          "data": {
            "text/html": [
              "<div>\n",
              "<style scoped>\n",
              "    .dataframe tbody tr th:only-of-type {\n",
              "        vertical-align: middle;\n",
              "    }\n",
              "\n",
              "    .dataframe tbody tr th {\n",
              "        vertical-align: top;\n",
              "    }\n",
              "\n",
              "    .dataframe thead th {\n",
              "        text-align: right;\n",
              "    }\n",
              "</style>\n",
              "<table border=\"1\" class=\"dataframe\">\n",
              "  <thead>\n",
              "    <tr style=\"text-align: right;\">\n",
              "      <th></th>\n",
              "      <th>userId</th>\n",
              "      <th>itemId</th>\n",
              "      <th>rating</th>\n",
              "    </tr>\n",
              "  </thead>\n",
              "  <tbody>\n",
              "    <tr>\n",
              "      <th>0</th>\n",
              "      <td>1</td>\n",
              "      <td>31</td>\n",
              "      <td>2.5</td>\n",
              "    </tr>\n",
              "    <tr>\n",
              "      <th>1</th>\n",
              "      <td>1</td>\n",
              "      <td>1029</td>\n",
              "      <td>3.0</td>\n",
              "    </tr>\n",
              "    <tr>\n",
              "      <th>2</th>\n",
              "      <td>1</td>\n",
              "      <td>1061</td>\n",
              "      <td>3.0</td>\n",
              "    </tr>\n",
              "    <tr>\n",
              "      <th>3</th>\n",
              "      <td>1</td>\n",
              "      <td>1129</td>\n",
              "      <td>2.0</td>\n",
              "    </tr>\n",
              "    <tr>\n",
              "      <th>4</th>\n",
              "      <td>1</td>\n",
              "      <td>1172</td>\n",
              "      <td>4.0</td>\n",
              "    </tr>\n",
              "  </tbody>\n",
              "</table>\n",
              "</div>"
            ],
            "text/plain": [
              "   userId  itemId  rating\n",
              "0       1      31     2.5\n",
              "1       1    1029     3.0\n",
              "2       1    1061     3.0\n",
              "3       1    1129     2.0\n",
              "4       1    1172     4.0"
            ]
          },
          "execution_count": 6,
          "metadata": {
            "tags": []
          },
          "output_type": "execute_result"
        }
      ],
      "source": [
        "ratingsDF.sort_values(by=['userId', 'itemId']).head(5)"
      ]
    },
    {
      "cell_type": "markdown",
      "metadata": {
        "id": "H-I57S0Zp8X4"
      },
      "source": [
        "### Transformação da Base de Dados\n",
        "---\n",
        "O processo de transformação de dados a fim de torná-los apropriados para análise ([data wrangling](https://en.wikipedia.org/wiki/Data_wrangling)) é muitas vezes necessário. Nesse caso, a base de dados apresenta algumas características que devem ser tratadas para que as abordagens de recomendação possam ser efetivamente aplicadas. "
      ]
    },
    {
      "cell_type": "markdown",
      "metadata": {
        "id": "dmpVajNw3F3A"
      },
      "source": [
        "#### Remoção de Duplicatas\n",
        "\n",
        "---\n",
        "\n",
        "Vamos dar uma olhada nos nossos registros de itens na base de dados:"
      ]
    },
    {
      "cell_type": "code",
      "execution_count": null,
      "metadata": {
        "colab": {
          "base_uri": "https://localhost:8080/",
          "height": 51
        },
        "id": "WEHVLMVY3ZK7",
        "outputId": "cb5da1c5-c213-411d-a283-df1f459e5c98"
      },
      "outputs": [
        {
          "name": "stdout",
          "output_type": "stream",
          "text": [
            "# itens: 45463\n",
            "# itens únicos: 45433\n"
          ]
        }
      ],
      "source": [
        "print ('# itens: %d' % itemsDF.itemId.shape[0])\n",
        "print ('# itens únicos: %d' % itemsDF.itemId.unique().shape[0])"
      ]
    },
    {
      "cell_type": "markdown",
      "metadata": {
        "id": "U-eKWzna0qXN"
      },
      "source": [
        "Como podemos observar, dos 45.463 registros de itens, 30 deles apresentam identificadores duplicados. Para evitar problemas com duplicidade de dados, removeremos as réplicas mantendo apenas a primeira ocorrência de cada item."
      ]
    },
    {
      "cell_type": "code",
      "execution_count": null,
      "metadata": {
        "colab": {
          "base_uri": "https://localhost:8080/",
          "height": 34
        },
        "id": "_BOpRPmbiFSG",
        "outputId": "ddb4337b-23a5-4237-9fec-ce462426d68b"
      },
      "outputs": [
        {
          "name": "stdout",
          "output_type": "stream",
          "text": [
            "# itens: 45433\n"
          ]
        }
      ],
      "source": [
        "itemsDF = itemsDF.drop_duplicates(subset='itemId',keep='first')\n",
        "print('# itens: %d' % len(itemsDF))"
      ]
    },
    {
      "cell_type": "markdown",
      "metadata": {
        "id": "s7YQScCY3vq3"
      },
      "source": [
        "#### Tratamento de Ausentes\n",
        "\n",
        "---\n",
        "\n",
        "Agora vamos dar uma olhada no número de usuários que atribuíram *ratings* a itens e no número de itens com *ratings* atribuídos:"
      ]
    },
    {
      "cell_type": "code",
      "execution_count": null,
      "metadata": {
        "colab": {
          "base_uri": "https://localhost:8080/",
          "height": 51
        },
        "id": "wCuq7I2VNYlb",
        "outputId": "efe7c494-bda6-48c7-c62a-de44566cf8b4"
      },
      "outputs": [
        {
          "name": "stdout",
          "output_type": "stream",
          "text": [
            "# itens: 9066\n",
            "# usuarios: 671\n"
          ]
        }
      ],
      "source": [
        "print ('# itens: %d' % ratingsDF.itemId.unique().shape[0])\n",
        "print ('# usuarios: %d' % ratingsDF.userId.unique().shape[0])"
      ]
    },
    {
      "cell_type": "markdown",
      "metadata": {
        "id": "9tLQKXMdTH3J"
      },
      "source": [
        "Como podemos observar, na base de dados existem *ratings* de usuários em itens que não estão presentes no arquivo de itens. Dessa forma, para evitar problemas de *matching* (casamento de identificadores de itens em arquivos), eliminaremos os 55.015 *ratings* de usuários em itens ausentes:"
      ]
    },
    {
      "cell_type": "code",
      "execution_count": null,
      "metadata": {
        "colab": {
          "base_uri": "https://localhost:8080/",
          "height": 34
        },
        "id": "3ukbGvUOTbZ6",
        "outputId": "b80a7751-3cb1-4297-b94a-2e9f3e01b0ab"
      },
      "outputs": [
        {
          "name": "stdout",
          "output_type": "stream",
          "text": [
            "# ratings: 44989\n"
          ]
        }
      ],
      "source": [
        "ratingsDF = ratingsDF.merge(itemsDF, on='itemId')[['userId', 'itemId','rating']]\n",
        "print('# ratings: %d' % len(ratingsDF))"
      ]
    },
    {
      "cell_type": "markdown",
      "metadata": {
        "id": "oBU2yM97wmX5"
      },
      "source": [
        "Vamos dar uma olhada novamente no número de usuários que fizeram avaliações e no número de itens que foram avaliados:"
      ]
    },
    {
      "cell_type": "code",
      "execution_count": null,
      "metadata": {
        "colab": {
          "base_uri": "https://localhost:8080/",
          "height": 51
        },
        "id": "cdJ95C-Ywuoh",
        "outputId": "c5e29897-bfda-420d-91fa-fc60d85d0d11"
      },
      "outputs": [
        {
          "name": "stdout",
          "output_type": "stream",
          "text": [
            "# itens: 2830\n",
            "# usuarios: 671\n"
          ]
        }
      ],
      "source": [
        "print ('# itens: %d' % ratingsDF.itemId.unique().shape[0])\n",
        "print ('# usuarios: %d' % ratingsDF.userId.unique().shape[0])"
      ]
    },
    {
      "cell_type": "markdown",
      "metadata": {
        "id": "iD1SL_b-w3XN"
      },
      "source": [
        "Como podemos observar, o número de itens preentes no arquivo de *ratings* em itens por usuário caiu de 9.066 para 2.830."
      ]
    },
    {
      "cell_type": "markdown",
      "metadata": {
        "id": "4hyXIDzQGN_e"
      },
      "source": [
        "## Abordagens de Recomendação\n",
        "---\n",
        "A seguir apresento quatro abordagens de recomendação: abordagem baseada em popularidade (PB), abordagem baseada em filtragem colaborativa (CF), abordagem baseada em conteúdo (CB) e abordagem híbrida (HB). Para a abordagem de filtragem colaborativa, foram implementadas quatro diferentes estratégias: baseada em usuário (CF-UB), baseada em item (CF-IB) e baseada em fatoração de matriz utilizando [decomposição de valores singulares](https://pt.wikipedia.org/wiki/Decomposi%C3%A7%C3%A3o_em_valores_singulares) (CF-SVD)."
      ]
    },
    {
      "cell_type": "markdown",
      "metadata": {
        "id": "qrTtSPZUGinZ"
      },
      "source": [
        "### Baseada em Popularidade\n",
        "Por ser simples de entender e fácil de implementar, esta abordagem ainda é muito utilizada, uma vez que frequentemente provê boas recomendações, especialmente para usuários iniciantes sem interesses específicos. Entretanto, um dos principais objetivos da recomendação é a personalização, a fim de oferecer itens que atendam a interesses específicos (e não muito populares) dos usuários (*[long-tail](https://pt.wikipedia.org/wiki/Cauda_longa) itens*). Veja aqui um artigo interessante sobre [os desafios de prover novidade na recomendação, considerando itens na cauda-longa (*long-tail*)](http://vldb.org/pvldb/vol5/p896_hongzhiyin_vldb2012.pdf).\n"
      ]
    },
    {
      "cell_type": "markdown",
      "metadata": {
        "id": "LpoVmWMR5YJd"
      },
      "source": [
        "Primeiramente, vamos computar a popularidades dos itens:"
      ]
    },
    {
      "cell_type": "code",
      "execution_count": null,
      "metadata": {
        "colab": {
          "base_uri": "https://localhost:8080/",
          "height": 204
        },
        "id": "GaegwgX7Gqkc",
        "outputId": "4365cc9b-3fa7-46eb-d253-2c520534aee7"
      },
      "outputs": [
        {
          "data": {
            "text/html": [
              "<div>\n",
              "<style scoped>\n",
              "    .dataframe tbody tr th:only-of-type {\n",
              "        vertical-align: middle;\n",
              "    }\n",
              "\n",
              "    .dataframe tbody tr th {\n",
              "        vertical-align: top;\n",
              "    }\n",
              "\n",
              "    .dataframe thead th {\n",
              "        text-align: right;\n",
              "    }\n",
              "</style>\n",
              "<table border=\"1\" class=\"dataframe\">\n",
              "  <thead>\n",
              "    <tr style=\"text-align: right;\">\n",
              "      <th></th>\n",
              "      <th>itemId</th>\n",
              "      <th>score</th>\n",
              "    </tr>\n",
              "  </thead>\n",
              "  <tbody>\n",
              "    <tr>\n",
              "      <th>0</th>\n",
              "      <td>318</td>\n",
              "      <td>1395.5</td>\n",
              "    </tr>\n",
              "    <tr>\n",
              "      <th>1</th>\n",
              "      <td>296</td>\n",
              "      <td>1379.0</td>\n",
              "    </tr>\n",
              "    <tr>\n",
              "      <th>2</th>\n",
              "      <td>593</td>\n",
              "      <td>1258.0</td>\n",
              "    </tr>\n",
              "    <tr>\n",
              "      <th>3</th>\n",
              "      <td>260</td>\n",
              "      <td>1228.5</td>\n",
              "    </tr>\n",
              "    <tr>\n",
              "      <th>4</th>\n",
              "      <td>527</td>\n",
              "      <td>1050.0</td>\n",
              "    </tr>\n",
              "  </tbody>\n",
              "</table>\n",
              "</div>"
            ],
            "text/plain": [
              "   itemId   score\n",
              "0     318  1395.5\n",
              "1     296  1379.0\n",
              "2     593  1258.0\n",
              "3     260  1228.5\n",
              "4     527  1050.0"
            ]
          },
          "execution_count": 28,
          "metadata": {
            "tags": []
          },
          "output_type": "execute_result"
        }
      ],
      "source": [
        "itemPopularityDF = ratingsDF.groupby('itemId')['rating'].sum().sort_values(ascending=False).reset_index()\n",
        "itemPopularityDF.columns = ['itemId', 'score']\n",
        "itemPopularityDF.sort_values(ascending=False,by=['score']).head(5)"
      ]
    },
    {
      "cell_type": "markdown",
      "metadata": {
        "id": "_UtK26KH5eOw"
      },
      "source": [
        "Agora, vamos implementar a abordagem de recomendação baseada em popularidade:"
      ]
    },
    {
      "cell_type": "code",
      "execution_count": null,
      "metadata": {
        "id": "YLsAsrxMGw38"
      },
      "outputs": [],
      "source": [
        "class PBRecommender:\n",
        "    \n",
        "    def __init__(self, modelName, itemPopularityDF, itemsDF=None):\n",
        "        self.modelName = modelName \n",
        "        self.itemPopularityDF = itemPopularityDF\n",
        "        self.itemsDF = itemsDF\n",
        "        \n",
        "    def getModelName(self):\n",
        "        return self.modelName\n",
        "        \n",
        "    def recommend(self, user_id, items_to_ignore=[], topn=10, verbose=False):\n",
        "        # Recommend the more popular items that the user hasn't seen yet.\n",
        "        recommendationsDF = self.itemPopularityDF[~self.itemPopularityDF['itemId'].isin(items_to_ignore)] \\\n",
        "                            .sort_values('score', ascending = False) \\\n",
        "                            .head(topn)\n",
        "        if verbose:\n",
        "            if self.itemsDF is None:\n",
        "                raise Exception(' The items data frame (itemsDF) is required in verbose mode')\n",
        "            recommendationsDF = recommendationsDF.merge(self.itemsDF, how = 'left', \n",
        "                                                        left_on = 'itemId', \n",
        "                                                        right_on = 'itemId')[['itemId', 'itemName', 'score']]\n",
        "        return recommendationsDF"
      ]
    },
    {
      "cell_type": "code",
      "execution_count": null,
      "metadata": {
        "id": "_dh9QXsZhaUB"
      },
      "outputs": [],
      "source": [
        "PBModel = PBRecommender('PB',itemPopularityDF, itemsDF)"
      ]
    },
    {
      "cell_type": "markdown",
      "metadata": {
        "id": "1P-LeQMF5oZI"
      },
      "source": [
        "Finalmente, vamos conferir as recomendações oferecidas pela abordagem para um usuário específico de nossa base de dados:"
      ]
    },
    {
      "cell_type": "code",
      "execution_count": null,
      "metadata": {
        "colab": {
          "base_uri": "https://localhost:8080/",
          "height": 204
        },
        "id": "kq5DXZ0aaya1",
        "outputId": "79f61d6a-b714-4d06-d8b0-52183151fd6b"
      },
      "outputs": [
        {
          "data": {
            "text/html": [
              "<div>\n",
              "<style scoped>\n",
              "    .dataframe tbody tr th:only-of-type {\n",
              "        vertical-align: middle;\n",
              "    }\n",
              "\n",
              "    .dataframe tbody tr th {\n",
              "        vertical-align: top;\n",
              "    }\n",
              "\n",
              "    .dataframe thead th {\n",
              "        text-align: right;\n",
              "    }\n",
              "</style>\n",
              "<table border=\"1\" class=\"dataframe\">\n",
              "  <thead>\n",
              "    <tr style=\"text-align: right;\">\n",
              "      <th></th>\n",
              "      <th>itemId</th>\n",
              "      <th>itemName</th>\n",
              "      <th>score</th>\n",
              "    </tr>\n",
              "  </thead>\n",
              "  <tbody>\n",
              "    <tr>\n",
              "      <th>0</th>\n",
              "      <td>318</td>\n",
              "      <td>The Million Dollar Hotel</td>\n",
              "      <td>1395.5</td>\n",
              "    </tr>\n",
              "    <tr>\n",
              "      <th>1</th>\n",
              "      <td>296</td>\n",
              "      <td>Terminator 3: Rise of the Machines</td>\n",
              "      <td>1379.0</td>\n",
              "    </tr>\n",
              "    <tr>\n",
              "      <th>2</th>\n",
              "      <td>593</td>\n",
              "      <td>Solaris</td>\n",
              "      <td>1258.0</td>\n",
              "    </tr>\n",
              "    <tr>\n",
              "      <th>3</th>\n",
              "      <td>260</td>\n",
              "      <td>The 39 Steps</td>\n",
              "      <td>1228.5</td>\n",
              "    </tr>\n",
              "    <tr>\n",
              "      <th>4</th>\n",
              "      <td>527</td>\n",
              "      <td>Once Were Warriors</td>\n",
              "      <td>1050.0</td>\n",
              "    </tr>\n",
              "  </tbody>\n",
              "</table>\n",
              "</div>"
            ],
            "text/plain": [
              "   itemId                            itemName   score\n",
              "0     318            The Million Dollar Hotel  1395.5\n",
              "1     296  Terminator 3: Rise of the Machines  1379.0\n",
              "2     593                             Solaris  1258.0\n",
              "3     260                        The 39 Steps  1228.5\n",
              "4     527                  Once Were Warriors  1050.0"
            ]
          },
          "execution_count": 31,
          "metadata": {
            "tags": []
          },
          "output_type": "execute_result"
        }
      ],
      "source": [
        "recommendedItens = PBModel.recommend(2, topn=10, verbose=True)\n",
        "recommendedItens.sort_values(ascending=False,by=['score']).head(5)"
      ]
    },
    {
      "cell_type": "markdown",
      "metadata": {
        "id": "JvvZbbVgHsDx"
      },
      "source": [
        "### Filtragem Colaborativa\n",
        "Abordagens de filtragem colaborativa comumente adotam duas estratégias diferentes:\n",
        "\n",
        "\n",
        "\n",
        "*   Baseada em Memória ([*memory-based*](https://en.wikipedia.org/wiki/Collaborative_filtering#Memory-based)): usa a memória de *ratings* passados para computar similaridades entre usuários baseado nos itens em que eles atribuíram *rating* (*user-based*), ou para computar similaridades entre itens baseado nos usuários que atribuíram *rating* a esses itens (*item-based*). Um exemplo dessa estratégia é a Filtragem Colaborativa baseada na Vizinhança de Usuário, onde os *top-k* usuários mais similares a um usuário específico são selecionados e usados para sugerir itens de interesse para o usuário específico, desde que ele ainda não tenha atribuído *rating* aos itens. Apesar de ser simples de implementar, essa estratégia é cara computacionalmente quando se tem muitos usuários. \n",
        "*   Baseada em Modelo ([*model-based*](https://en.wikipedia.org/wiki/Collaborative_filtering#Model-based)): modelos são construídos usando diferentes algoritmos de aprendizagem [supervisionada](https://en.wikipedia.org/wiki/Supervised_learning) e [não-supervisionada](https://en.wikipedia.org/wiki/Unsupervised_learning) para sugerir itens a usuários. Para a construção de modelos podemos utilizar inúmeras abordagens, como redes neurais ([*neural networks*](https://en.wikipedia.org/wiki/Artificial_neural_network)), redes bayesianas ([*bayesian networks*](https://en.wikipedia.org/wiki/Bayesian_network)), agrupamento ([*clustering*](https://en.wikipedia.org/wiki/Cluster_analysis)), e fatores latentes (*latent factor models*), tais como [*Singular-Value Decomposition (SVD)*](https://en.wikipedia.org/wiki/Singular-value_decomposition) e [*probabilistic latent semantic analysis*](https://en.wikipedia.org/wiki/Probabilistic_latent_semantic_analysis).\n",
        "\n",
        "Independentemente da estratégia, as abordagens de filtragem colaborativa usam uma representação matricial dos *ratings* de usuários em itens para computar os *ratings* ausentes. Abaixo criaremos uma matriz de usuário-itens, onde nas linhas temos usuários, nas colunas itens e em cada célula da matriz o *rating* de usuários em itens:"
      ]
    },
    {
      "cell_type": "code",
      "execution_count": null,
      "metadata": {
        "colab": {
          "base_uri": "https://localhost:8080/",
          "height": 136
        },
        "id": "jmaIAfNz06dU",
        "outputId": "6326d8f3-44a6-406f-c389-d1cd24a54e5b"
      },
      "outputs": [
        {
          "data": {
            "text/plain": [
              "array([[0., 0., 0., ..., 0., 0., 0.],\n",
              "       [0., 0., 0., ..., 0., 0., 0.],\n",
              "       [0., 0., 0., ..., 0., 0., 0.],\n",
              "       ...,\n",
              "       [0., 0., 0., ..., 0., 0., 0.],\n",
              "       [0., 0., 0., ..., 0., 0., 0.],\n",
              "       [0., 0., 0., ..., 0., 0., 0.]])"
            ]
          },
          "execution_count": 32,
          "metadata": {
            "tags": []
          },
          "output_type": "execute_result"
        }
      ],
      "source": [
        "#Creating a sparse pivot users-items table\n",
        "usersItemsDF = ratingsDF.pivot(index='userId',columns='itemId',values='rating').fillna(0)\n",
        "usersItemsMatrix = usersItemsDF.as_matrix()\n",
        "usersItemsMatrix[:10]"
      ]
    },
    {
      "cell_type": "markdown",
      "metadata": {
        "id": "IY8RgQ-GjNSa"
      },
      "source": [
        "Com base na representação matricial de *ratings* de usuários em itens, podemos extrair informação sobre usuários e itens, tal como a lista de todos os usuários que atribuíram *rating* a itens:"
      ]
    },
    {
      "cell_type": "code",
      "execution_count": null,
      "metadata": {
        "colab": {
          "base_uri": "https://localhost:8080/",
          "height": 34
        },
        "id": "_z6yaobgIEJ2",
        "outputId": "749c86d0-ce2d-4f2b-eea0-3fe073cec557"
      },
      "outputs": [
        {
          "data": {
            "text/plain": [
              "[1, 2, 3, 4, 5, 6, 7, 8, 9, 10]"
            ]
          },
          "execution_count": 33,
          "metadata": {
            "tags": []
          },
          "output_type": "execute_result"
        }
      ],
      "source": [
        "usersIds = list(usersItemsDF.index)\n",
        "usersIds[:10]"
      ]
    },
    {
      "cell_type": "markdown",
      "metadata": {
        "id": "YFZYlw8wjnwp"
      },
      "source": [
        "A partir daí podemos implementar a abordagem de filtragem colaborativa para recomendação:"
      ]
    },
    {
      "cell_type": "code",
      "execution_count": null,
      "metadata": {
        "id": "edahl4hH-4LG"
      },
      "outputs": [],
      "source": [
        "class CFRecommender:\n",
        "      \n",
        "    def __init__(self, modelName, CFPredictionsDF, itemsDF=None):\n",
        "        self.modelName = modelName\n",
        "        self.CFPredictionsDF = CFPredictionsDF\n",
        "        self.itemsDF = itemsDF\n",
        "        \n",
        "    def getModelName(self):\n",
        "        return self.modelName\n",
        "        \n",
        "    def recommend(self, user_id, items_to_ignore=[], topn=10, verbose=False):\n",
        "        # Get and sort the user's predictions\n",
        "        sorted_user_predictions = self.CFPredictionsDF[user_id].sort_values(ascending=False) \\\n",
        "                                  .reset_index().rename(columns={user_id: 'score'})\n",
        "        # Recommend the highest predicted rating movies that the user hasn't seen yet.\n",
        "        recommendationsDF = sorted_user_predictions[~sorted_user_predictions['itemId'].isin(items_to_ignore)] \\\n",
        "                            .sort_values('score', ascending = False) \\\n",
        "                            .head(topn)\n",
        "        if verbose:\n",
        "            if self.itemsDF is None:\n",
        "                raise Exception('The items data frame (itemsDF) is required in verbose mode')\n",
        "            recommendationsDF = recommendationsDF.merge(self.itemsDF, how = 'left', \n",
        "                                                        left_on = 'itemId', \n",
        "                                                        right_on = 'itemId')[['itemId', 'itemName','score']]\n",
        "        return recommendationsDF"
      ]
    },
    {
      "cell_type": "markdown",
      "metadata": {
        "id": "_neIowLqw4F_"
      },
      "source": [
        "#### Baseada em Usuário\n",
        "Estratégias de filtragem colaborativa baseadas em usuário utilizam os *ratings* de usuários similares a um usuário alvo para estimarem o interesse desse usuário alvo a itens que ele não atribuiu *rating*. Uma métrica de distância comumente utilizada para cálculo de similaridade é o coseno. Nesse caso, usuários são representados como vetores em um espaço $n$-dimensional e a similaridade entre eles é calculada usando o coseno do ângulo entre os vetores:"
      ]
    },
    {
      "cell_type": "code",
      "execution_count": null,
      "metadata": {
        "id": "-RYC5rUvz0kA"
      },
      "outputs": [],
      "source": [
        "usersSimilarity = pairwise_distances(usersItemsMatrix, metric='cosine')"
      ]
    },
    {
      "cell_type": "markdown",
      "metadata": {
        "id": "-PRKn3OQlgik"
      },
      "source": [
        "Uma vez calculada as similaridades entre usuários, podemos utiliza-las para computar as predições de *ratings* ausentes, estimando assim os *ratings* que usuários atribuiriam a itens ainda sem *rating*:"
      ]
    },
    {
      "cell_type": "code",
      "execution_count": null,
      "metadata": {
        "colab": {
          "base_uri": "https://localhost:8080/",
          "height": 284
        },
        "id": "xPdLZGpx35FR",
        "outputId": "0efdd53c-4e74-45c0-c388-dd3c5c742007"
      },
      "outputs": [
        {
          "data": {
            "text/html": [
              "<div>\n",
              "<style scoped>\n",
              "    .dataframe tbody tr th:only-of-type {\n",
              "        vertical-align: middle;\n",
              "    }\n",
              "\n",
              "    .dataframe tbody tr th {\n",
              "        vertical-align: top;\n",
              "    }\n",
              "\n",
              "    .dataframe thead th {\n",
              "        text-align: right;\n",
              "    }\n",
              "</style>\n",
              "<table border=\"1\" class=\"dataframe\">\n",
              "  <thead>\n",
              "    <tr style=\"text-align: right;\">\n",
              "      <th></th>\n",
              "      <th>1</th>\n",
              "      <th>2</th>\n",
              "      <th>3</th>\n",
              "      <th>4</th>\n",
              "      <th>5</th>\n",
              "      <th>6</th>\n",
              "      <th>7</th>\n",
              "      <th>8</th>\n",
              "      <th>9</th>\n",
              "      <th>10</th>\n",
              "      <th>...</th>\n",
              "      <th>662</th>\n",
              "      <th>663</th>\n",
              "      <th>664</th>\n",
              "      <th>665</th>\n",
              "      <th>666</th>\n",
              "      <th>667</th>\n",
              "      <th>668</th>\n",
              "      <th>669</th>\n",
              "      <th>670</th>\n",
              "      <th>671</th>\n",
              "    </tr>\n",
              "    <tr>\n",
              "      <th>itemId</th>\n",
              "      <th></th>\n",
              "      <th></th>\n",
              "      <th></th>\n",
              "      <th></th>\n",
              "      <th></th>\n",
              "      <th></th>\n",
              "      <th></th>\n",
              "      <th></th>\n",
              "      <th></th>\n",
              "      <th></th>\n",
              "      <th></th>\n",
              "      <th></th>\n",
              "      <th></th>\n",
              "      <th></th>\n",
              "      <th></th>\n",
              "      <th></th>\n",
              "      <th></th>\n",
              "      <th></th>\n",
              "      <th></th>\n",
              "      <th></th>\n",
              "      <th></th>\n",
              "    </tr>\n",
              "  </thead>\n",
              "  <tbody>\n",
              "    <tr>\n",
              "      <th>2</th>\n",
              "      <td>0.460635</td>\n",
              "      <td>0.463226</td>\n",
              "      <td>0.471673</td>\n",
              "      <td>0.602039</td>\n",
              "      <td>0.490400</td>\n",
              "      <td>0.486675</td>\n",
              "      <td>0.469549</td>\n",
              "      <td>0.514710</td>\n",
              "      <td>0.490586</td>\n",
              "      <td>0.480631</td>\n",
              "      <td>...</td>\n",
              "      <td>0.419115</td>\n",
              "      <td>0.452173</td>\n",
              "      <td>0.654877</td>\n",
              "      <td>0.642072</td>\n",
              "      <td>0.429618</td>\n",
              "      <td>0.484722</td>\n",
              "      <td>0.478333</td>\n",
              "      <td>0.474277</td>\n",
              "      <td>0.469902</td>\n",
              "      <td>0.513200</td>\n",
              "    </tr>\n",
              "    <tr>\n",
              "      <th>3</th>\n",
              "      <td>0.198841</td>\n",
              "      <td>0.264382</td>\n",
              "      <td>0.243443</td>\n",
              "      <td>0.364793</td>\n",
              "      <td>0.254159</td>\n",
              "      <td>0.232384</td>\n",
              "      <td>0.235266</td>\n",
              "      <td>0.271077</td>\n",
              "      <td>0.235197</td>\n",
              "      <td>0.226318</td>\n",
              "      <td>...</td>\n",
              "      <td>0.248272</td>\n",
              "      <td>0.204080</td>\n",
              "      <td>0.427082</td>\n",
              "      <td>0.424713</td>\n",
              "      <td>0.230867</td>\n",
              "      <td>0.257618</td>\n",
              "      <td>0.218483</td>\n",
              "      <td>0.211039</td>\n",
              "      <td>0.220879</td>\n",
              "      <td>0.275258</td>\n",
              "    </tr>\n",
              "    <tr>\n",
              "      <th>5</th>\n",
              "      <td>0.194463</td>\n",
              "      <td>0.251727</td>\n",
              "      <td>0.231586</td>\n",
              "      <td>0.361748</td>\n",
              "      <td>0.251708</td>\n",
              "      <td>0.225486</td>\n",
              "      <td>0.236491</td>\n",
              "      <td>0.260930</td>\n",
              "      <td>0.223854</td>\n",
              "      <td>0.217996</td>\n",
              "      <td>...</td>\n",
              "      <td>0.230611</td>\n",
              "      <td>0.198764</td>\n",
              "      <td>0.419401</td>\n",
              "      <td>0.409553</td>\n",
              "      <td>0.219138</td>\n",
              "      <td>0.249325</td>\n",
              "      <td>0.211765</td>\n",
              "      <td>0.208869</td>\n",
              "      <td>0.212235</td>\n",
              "      <td>0.263870</td>\n",
              "    </tr>\n",
              "    <tr>\n",
              "      <th>6</th>\n",
              "      <td>0.521854</td>\n",
              "      <td>0.561050</td>\n",
              "      <td>0.550277</td>\n",
              "      <td>0.676705</td>\n",
              "      <td>0.577453</td>\n",
              "      <td>0.545370</td>\n",
              "      <td>0.543951</td>\n",
              "      <td>0.577589</td>\n",
              "      <td>0.548708</td>\n",
              "      <td>0.541911</td>\n",
              "      <td>...</td>\n",
              "      <td>0.548712</td>\n",
              "      <td>0.522884</td>\n",
              "      <td>0.704785</td>\n",
              "      <td>0.735488</td>\n",
              "      <td>0.506330</td>\n",
              "      <td>0.535068</td>\n",
              "      <td>0.524651</td>\n",
              "      <td>0.528043</td>\n",
              "      <td>0.520258</td>\n",
              "      <td>0.581492</td>\n",
              "    </tr>\n",
              "    <tr>\n",
              "      <th>11</th>\n",
              "      <td>0.371027</td>\n",
              "      <td>0.380062</td>\n",
              "      <td>0.395387</td>\n",
              "      <td>0.512415</td>\n",
              "      <td>0.413559</td>\n",
              "      <td>0.397388</td>\n",
              "      <td>0.388820</td>\n",
              "      <td>0.429940</td>\n",
              "      <td>0.389689</td>\n",
              "      <td>0.384763</td>\n",
              "      <td>...</td>\n",
              "      <td>0.362027</td>\n",
              "      <td>0.364388</td>\n",
              "      <td>0.586023</td>\n",
              "      <td>0.564658</td>\n",
              "      <td>0.357057</td>\n",
              "      <td>0.381789</td>\n",
              "      <td>0.381571</td>\n",
              "      <td>0.380858</td>\n",
              "      <td>0.375606</td>\n",
              "      <td>0.429582</td>\n",
              "    </tr>\n",
              "  </tbody>\n",
              "</table>\n",
              "<p>5 rows × 671 columns</p>\n",
              "</div>"
            ],
            "text/plain": [
              "             1         2         3         4         5         6         7    \\\n",
              "itemId                                                                         \n",
              "2       0.460635  0.463226  0.471673  0.602039  0.490400  0.486675  0.469549   \n",
              "3       0.198841  0.264382  0.243443  0.364793  0.254159  0.232384  0.235266   \n",
              "5       0.194463  0.251727  0.231586  0.361748  0.251708  0.225486  0.236491   \n",
              "6       0.521854  0.561050  0.550277  0.676705  0.577453  0.545370  0.543951   \n",
              "11      0.371027  0.380062  0.395387  0.512415  0.413559  0.397388  0.388820   \n",
              "\n",
              "             8         9         10     ...          662       663       664  \\\n",
              "itemId                                  ...                                    \n",
              "2       0.514710  0.490586  0.480631    ...     0.419115  0.452173  0.654877   \n",
              "3       0.271077  0.235197  0.226318    ...     0.248272  0.204080  0.427082   \n",
              "5       0.260930  0.223854  0.217996    ...     0.230611  0.198764  0.419401   \n",
              "6       0.577589  0.548708  0.541911    ...     0.548712  0.522884  0.704785   \n",
              "11      0.429940  0.389689  0.384763    ...     0.362027  0.364388  0.586023   \n",
              "\n",
              "             665       666       667       668       669       670       671  \n",
              "itemId                                                                        \n",
              "2       0.642072  0.429618  0.484722  0.478333  0.474277  0.469902  0.513200  \n",
              "3       0.424713  0.230867  0.257618  0.218483  0.211039  0.220879  0.275258  \n",
              "5       0.409553  0.219138  0.249325  0.211765  0.208869  0.212235  0.263870  \n",
              "6       0.735488  0.506330  0.535068  0.524651  0.528043  0.520258  0.581492  \n",
              "11      0.564658  0.357057  0.381789  0.381571  0.380858  0.375606  0.429582  \n",
              "\n",
              "[5 rows x 671 columns]"
            ]
          },
          "execution_count": 36,
          "metadata": {
            "tags": []
          },
          "output_type": "execute_result"
        }
      ],
      "source": [
        "meanUserRating = usersItemsMatrix.mean(axis=1)\n",
        "DiffRating = (usersItemsMatrix - meanUserRating[:, np.newaxis])\n",
        "predictedRatings = meanUserRating[:, np.newaxis] + usersSimilarity.dot(DiffRating) / np.array([np.abs(usersSimilarity).sum(axis=1)]).T\n",
        "CFPredictionsDF = pd.DataFrame(predictedRatings, columns = usersItemsDF.columns, index=usersIds).transpose()\n",
        "CFPredictionsDF.head(5)"
      ]
    },
    {
      "cell_type": "markdown",
      "metadata": {
        "id": "W8j685Y06h2u"
      },
      "source": [
        "Finalmente, vamos conferir as recomendações oferecidas pela abordagem para um usuário específico de nossa base de dados:"
      ]
    },
    {
      "cell_type": "code",
      "execution_count": null,
      "metadata": {
        "id": "YvBh5vAk3GWR"
      },
      "outputs": [],
      "source": [
        "UBModel = CFRecommender('CF-UB',CFPredictionsDF, itemsDF)"
      ]
    },
    {
      "cell_type": "code",
      "execution_count": null,
      "metadata": {
        "colab": {
          "base_uri": "https://localhost:8080/",
          "height": 204
        },
        "id": "trWSqhDchNwp",
        "outputId": "9c6076cd-d3f3-42e1-f762-6243b11d7528"
      },
      "outputs": [
        {
          "data": {
            "text/html": [
              "<div>\n",
              "<style scoped>\n",
              "    .dataframe tbody tr th:only-of-type {\n",
              "        vertical-align: middle;\n",
              "    }\n",
              "\n",
              "    .dataframe tbody tr th {\n",
              "        vertical-align: top;\n",
              "    }\n",
              "\n",
              "    .dataframe thead th {\n",
              "        text-align: right;\n",
              "    }\n",
              "</style>\n",
              "<table border=\"1\" class=\"dataframe\">\n",
              "  <thead>\n",
              "    <tr style=\"text-align: right;\">\n",
              "      <th></th>\n",
              "      <th>itemId</th>\n",
              "      <th>itemName</th>\n",
              "      <th>score</th>\n",
              "    </tr>\n",
              "  </thead>\n",
              "  <tbody>\n",
              "    <tr>\n",
              "      <th>0</th>\n",
              "      <td>318</td>\n",
              "      <td>The Million Dollar Hotel</td>\n",
              "      <td>2.004843</td>\n",
              "    </tr>\n",
              "    <tr>\n",
              "      <th>1</th>\n",
              "      <td>296</td>\n",
              "      <td>Terminator 3: Rise of the Machines</td>\n",
              "      <td>1.977742</td>\n",
              "    </tr>\n",
              "    <tr>\n",
              "      <th>2</th>\n",
              "      <td>593</td>\n",
              "      <td>Solaris</td>\n",
              "      <td>1.795806</td>\n",
              "    </tr>\n",
              "    <tr>\n",
              "      <th>3</th>\n",
              "      <td>260</td>\n",
              "      <td>The 39 Steps</td>\n",
              "      <td>1.737960</td>\n",
              "    </tr>\n",
              "    <tr>\n",
              "      <th>4</th>\n",
              "      <td>527</td>\n",
              "      <td>Once Were Warriors</td>\n",
              "      <td>1.485626</td>\n",
              "    </tr>\n",
              "  </tbody>\n",
              "</table>\n",
              "</div>"
            ],
            "text/plain": [
              "   itemId                            itemName     score\n",
              "0     318            The Million Dollar Hotel  2.004843\n",
              "1     296  Terminator 3: Rise of the Machines  1.977742\n",
              "2     593                             Solaris  1.795806\n",
              "3     260                        The 39 Steps  1.737960\n",
              "4     527                  Once Were Warriors  1.485626"
            ]
          },
          "execution_count": 38,
          "metadata": {
            "tags": []
          },
          "output_type": "execute_result"
        }
      ],
      "source": [
        "recommendedItens = UBModel.recommend(1, topn=10, verbose=True)\n",
        "recommendedItens.sort_values(ascending=False,by=['score']).head(5)"
      ]
    },
    {
      "cell_type": "markdown",
      "metadata": {
        "id": "HwClk-JAxDyI"
      },
      "source": [
        "#### Baseada em Item\n",
        "Estratégias de filtragem colaborativa baseadas em item utilizam os *ratings* que o usuário atribuiu a diversos itens para estimarem o interesse do usuário a itens semelhantes aos que ele atribuiu melhores *ratings*. Similarmente à estratégia baseada em usuário, podemos utilizar a distância por coseno para calcular a similaridade entre itens:"
      ]
    },
    {
      "cell_type": "code",
      "execution_count": null,
      "metadata": {
        "id": "NJGEp6uryyxg"
      },
      "outputs": [],
      "source": [
        "itemsSimilarity = pairwise_distances(usersItemsMatrix.T, metric='cosine')"
      ]
    },
    {
      "cell_type": "markdown",
      "metadata": {
        "id": "sL2ZgVtjm8Lv"
      },
      "source": [
        "Tal como na estratégia baseada em usuário, uma vez que calculada as similaridades entre itens, podemos utiliza-las para computar as predições de *ratings* ausentes, estimando assim os *ratings* que usuários atribuiriam a itens ainda sem *rating*:"
      ]
    },
    {
      "cell_type": "code",
      "execution_count": null,
      "metadata": {
        "colab": {
          "base_uri": "https://localhost:8080/",
          "height": 284
        },
        "id": "4mzBmMOr8u6P",
        "outputId": "10498c7e-3ad9-44bb-8ae9-ab41cacf6315"
      },
      "outputs": [
        {
          "data": {
            "text/html": [
              "<div>\n",
              "<style scoped>\n",
              "    .dataframe tbody tr th:only-of-type {\n",
              "        vertical-align: middle;\n",
              "    }\n",
              "\n",
              "    .dataframe tbody tr th {\n",
              "        vertical-align: top;\n",
              "    }\n",
              "\n",
              "    .dataframe thead th {\n",
              "        text-align: right;\n",
              "    }\n",
              "</style>\n",
              "<table border=\"1\" class=\"dataframe\">\n",
              "  <thead>\n",
              "    <tr style=\"text-align: right;\">\n",
              "      <th></th>\n",
              "      <th>1</th>\n",
              "      <th>2</th>\n",
              "      <th>3</th>\n",
              "      <th>4</th>\n",
              "      <th>5</th>\n",
              "      <th>6</th>\n",
              "      <th>7</th>\n",
              "      <th>8</th>\n",
              "      <th>9</th>\n",
              "      <th>10</th>\n",
              "      <th>...</th>\n",
              "      <th>662</th>\n",
              "      <th>663</th>\n",
              "      <th>664</th>\n",
              "      <th>665</th>\n",
              "      <th>666</th>\n",
              "      <th>667</th>\n",
              "      <th>668</th>\n",
              "      <th>669</th>\n",
              "      <th>670</th>\n",
              "      <th>671</th>\n",
              "    </tr>\n",
              "    <tr>\n",
              "      <th>itemId</th>\n",
              "      <th></th>\n",
              "      <th></th>\n",
              "      <th></th>\n",
              "      <th></th>\n",
              "      <th></th>\n",
              "      <th></th>\n",
              "      <th></th>\n",
              "      <th></th>\n",
              "      <th></th>\n",
              "      <th></th>\n",
              "      <th></th>\n",
              "      <th></th>\n",
              "      <th></th>\n",
              "      <th></th>\n",
              "      <th></th>\n",
              "      <th></th>\n",
              "      <th></th>\n",
              "      <th></th>\n",
              "      <th></th>\n",
              "      <th></th>\n",
              "      <th></th>\n",
              "    </tr>\n",
              "  </thead>\n",
              "  <tbody>\n",
              "    <tr>\n",
              "      <th>2</th>\n",
              "      <td>0.004239</td>\n",
              "      <td>0.053840</td>\n",
              "      <td>0.024946</td>\n",
              "      <td>0.146122</td>\n",
              "      <td>0.057820</td>\n",
              "      <td>0.028953</td>\n",
              "      <td>0.042273</td>\n",
              "      <td>0.053677</td>\n",
              "      <td>0.029944</td>\n",
              "      <td>0.025033</td>\n",
              "      <td>...</td>\n",
              "      <td>0.035505</td>\n",
              "      <td>0.003141</td>\n",
              "      <td>0.195005</td>\n",
              "      <td>0.198095</td>\n",
              "      <td>0.024007</td>\n",
              "      <td>0.057753</td>\n",
              "      <td>0.012497</td>\n",
              "      <td>0.012786</td>\n",
              "      <td>0.018401</td>\n",
              "      <td>0.056126</td>\n",
              "    </tr>\n",
              "    <tr>\n",
              "      <th>3</th>\n",
              "      <td>0.004618</td>\n",
              "      <td>0.063822</td>\n",
              "      <td>0.028986</td>\n",
              "      <td>0.158385</td>\n",
              "      <td>0.063488</td>\n",
              "      <td>0.031483</td>\n",
              "      <td>0.046775</td>\n",
              "      <td>0.059128</td>\n",
              "      <td>0.032471</td>\n",
              "      <td>0.026692</td>\n",
              "      <td>...</td>\n",
              "      <td>0.047508</td>\n",
              "      <td>0.003699</td>\n",
              "      <td>0.213839</td>\n",
              "      <td>0.214995</td>\n",
              "      <td>0.030247</td>\n",
              "      <td>0.064021</td>\n",
              "      <td>0.013681</td>\n",
              "      <td>0.013716</td>\n",
              "      <td>0.020379</td>\n",
              "      <td>0.062918</td>\n",
              "    </tr>\n",
              "    <tr>\n",
              "      <th>5</th>\n",
              "      <td>0.004635</td>\n",
              "      <td>0.061957</td>\n",
              "      <td>0.028366</td>\n",
              "      <td>0.156823</td>\n",
              "      <td>0.063401</td>\n",
              "      <td>0.030905</td>\n",
              "      <td>0.047632</td>\n",
              "      <td>0.057365</td>\n",
              "      <td>0.030968</td>\n",
              "      <td>0.026057</td>\n",
              "      <td>...</td>\n",
              "      <td>0.045329</td>\n",
              "      <td>0.003602</td>\n",
              "      <td>0.210830</td>\n",
              "      <td>0.206491</td>\n",
              "      <td>0.029465</td>\n",
              "      <td>0.062845</td>\n",
              "      <td>0.013521</td>\n",
              "      <td>0.013736</td>\n",
              "      <td>0.019639</td>\n",
              "      <td>0.060774</td>\n",
              "    </tr>\n",
              "    <tr>\n",
              "      <th>6</th>\n",
              "      <td>0.004457</td>\n",
              "      <td>0.059599</td>\n",
              "      <td>0.025416</td>\n",
              "      <td>0.153226</td>\n",
              "      <td>0.061681</td>\n",
              "      <td>0.028692</td>\n",
              "      <td>0.044619</td>\n",
              "      <td>0.053416</td>\n",
              "      <td>0.029555</td>\n",
              "      <td>0.024313</td>\n",
              "      <td>...</td>\n",
              "      <td>0.044027</td>\n",
              "      <td>0.003285</td>\n",
              "      <td>0.189748</td>\n",
              "      <td>0.212910</td>\n",
              "      <td>0.025509</td>\n",
              "      <td>0.056576</td>\n",
              "      <td>0.011491</td>\n",
              "      <td>0.012307</td>\n",
              "      <td>0.017161</td>\n",
              "      <td>0.055968</td>\n",
              "    </tr>\n",
              "    <tr>\n",
              "      <th>11</th>\n",
              "      <td>0.004478</td>\n",
              "      <td>0.053668</td>\n",
              "      <td>0.026343</td>\n",
              "      <td>0.146228</td>\n",
              "      <td>0.060320</td>\n",
              "      <td>0.029757</td>\n",
              "      <td>0.043240</td>\n",
              "      <td>0.055026</td>\n",
              "      <td>0.028530</td>\n",
              "      <td>0.024058</td>\n",
              "      <td>...</td>\n",
              "      <td>0.039372</td>\n",
              "      <td>0.003312</td>\n",
              "      <td>0.208598</td>\n",
              "      <td>0.202425</td>\n",
              "      <td>0.025320</td>\n",
              "      <td>0.054840</td>\n",
              "      <td>0.012179</td>\n",
              "      <td>0.012598</td>\n",
              "      <td>0.017921</td>\n",
              "      <td>0.057015</td>\n",
              "    </tr>\n",
              "  </tbody>\n",
              "</table>\n",
              "<p>5 rows × 671 columns</p>\n",
              "</div>"
            ],
            "text/plain": [
              "             1         2         3         4         5         6         7    \\\n",
              "itemId                                                                         \n",
              "2       0.004239  0.053840  0.024946  0.146122  0.057820  0.028953  0.042273   \n",
              "3       0.004618  0.063822  0.028986  0.158385  0.063488  0.031483  0.046775   \n",
              "5       0.004635  0.061957  0.028366  0.156823  0.063401  0.030905  0.047632   \n",
              "6       0.004457  0.059599  0.025416  0.153226  0.061681  0.028692  0.044619   \n",
              "11      0.004478  0.053668  0.026343  0.146228  0.060320  0.029757  0.043240   \n",
              "\n",
              "             8         9         10     ...          662       663       664  \\\n",
              "itemId                                  ...                                    \n",
              "2       0.053677  0.029944  0.025033    ...     0.035505  0.003141  0.195005   \n",
              "3       0.059128  0.032471  0.026692    ...     0.047508  0.003699  0.213839   \n",
              "5       0.057365  0.030968  0.026057    ...     0.045329  0.003602  0.210830   \n",
              "6       0.053416  0.029555  0.024313    ...     0.044027  0.003285  0.189748   \n",
              "11      0.055026  0.028530  0.024058    ...     0.039372  0.003312  0.208598   \n",
              "\n",
              "             665       666       667       668       669       670       671  \n",
              "itemId                                                                        \n",
              "2       0.198095  0.024007  0.057753  0.012497  0.012786  0.018401  0.056126  \n",
              "3       0.214995  0.030247  0.064021  0.013681  0.013716  0.020379  0.062918  \n",
              "5       0.206491  0.029465  0.062845  0.013521  0.013736  0.019639  0.060774  \n",
              "6       0.212910  0.025509  0.056576  0.011491  0.012307  0.017161  0.055968  \n",
              "11      0.202425  0.025320  0.054840  0.012179  0.012598  0.017921  0.057015  \n",
              "\n",
              "[5 rows x 671 columns]"
            ]
          },
          "execution_count": 40,
          "metadata": {
            "tags": []
          },
          "output_type": "execute_result"
        }
      ],
      "source": [
        "predictedRatings = usersItemsMatrix.dot(itemsSimilarity) / np.array([np.abs(itemsSimilarity).sum(axis=1)])\n",
        "CFPredictionsDF = pd.DataFrame(predictedRatings, columns = usersItemsDF.columns, index=usersIds).transpose()\n",
        "CFPredictionsDF.head(5)"
      ]
    },
    {
      "cell_type": "markdown",
      "metadata": {
        "id": "ApGegi6f6qrH"
      },
      "source": [
        "Vamos conferir as recomendações oferecidas pela abordagem para um usuário específico de nossa base de dados:"
      ]
    },
    {
      "cell_type": "code",
      "execution_count": null,
      "metadata": {
        "id": "1bVgNKYq9QF4"
      },
      "outputs": [],
      "source": [
        "IBModel = CFRecommender('CF-IB',CFPredictionsDF, itemsDF)"
      ]
    },
    {
      "cell_type": "code",
      "execution_count": null,
      "metadata": {
        "colab": {
          "base_uri": "https://localhost:8080/",
          "height": 204
        },
        "id": "AvHk47DCiPf0",
        "outputId": "708791e9-a01d-4070-a1ce-a17b50d6decc"
      },
      "outputs": [
        {
          "data": {
            "text/html": [
              "<div>\n",
              "<style scoped>\n",
              "    .dataframe tbody tr th:only-of-type {\n",
              "        vertical-align: middle;\n",
              "    }\n",
              "\n",
              "    .dataframe tbody tr th {\n",
              "        vertical-align: top;\n",
              "    }\n",
              "\n",
              "    .dataframe thead th {\n",
              "        text-align: right;\n",
              "    }\n",
              "</style>\n",
              "<table border=\"1\" class=\"dataframe\">\n",
              "  <thead>\n",
              "    <tr style=\"text-align: right;\">\n",
              "      <th></th>\n",
              "      <th>itemId</th>\n",
              "      <th>itemName</th>\n",
              "      <th>score</th>\n",
              "    </tr>\n",
              "  </thead>\n",
              "  <tbody>\n",
              "    <tr>\n",
              "      <th>0</th>\n",
              "      <td>26242</td>\n",
              "      <td>Park Row</td>\n",
              "      <td>0.005230</td>\n",
              "    </tr>\n",
              "    <tr>\n",
              "      <th>1</th>\n",
              "      <td>6639</td>\n",
              "      <td>Love in the Time of Cholera</td>\n",
              "      <td>0.005222</td>\n",
              "    </tr>\n",
              "    <tr>\n",
              "      <th>2</th>\n",
              "      <td>32728</td>\n",
              "      <td>Before Stonewall</td>\n",
              "      <td>0.005209</td>\n",
              "    </tr>\n",
              "    <tr>\n",
              "      <th>3</th>\n",
              "      <td>8194</td>\n",
              "      <td>A Guide To Recognizing Your Saints</td>\n",
              "      <td>0.005205</td>\n",
              "    </tr>\n",
              "    <tr>\n",
              "      <th>4</th>\n",
              "      <td>8987</td>\n",
              "      <td>The River Wild</td>\n",
              "      <td>0.005204</td>\n",
              "    </tr>\n",
              "  </tbody>\n",
              "</table>\n",
              "</div>"
            ],
            "text/plain": [
              "   itemId                            itemName     score\n",
              "0   26242                            Park Row  0.005230\n",
              "1    6639         Love in the Time of Cholera  0.005222\n",
              "2   32728                    Before Stonewall  0.005209\n",
              "3    8194  A Guide To Recognizing Your Saints  0.005205\n",
              "4    8987                      The River Wild  0.005204"
            ]
          },
          "execution_count": 42,
          "metadata": {
            "tags": []
          },
          "output_type": "execute_result"
        }
      ],
      "source": [
        "recommendedItens = IBModel.recommend(1, topn=10, verbose=True)\n",
        "recommendedItens.sort_values(ascending=False,by=['score']).head(5)"
      ]
    },
    {
      "cell_type": "markdown",
      "metadata": {
        "id": "50Xyp9o9H5T2"
      },
      "source": [
        "#### Fatoração de Matriz\n",
        "Modelos de [fatores latentes](https://en.wikipedia.org/wiki/Latent_variable) são capazes de comprimir a matriz usuário-item em uma representação matricial de baixa dimensionalidade. A principal vantagem de se usar essa técnica é a substituição de uma matriz esparsa de alta dimensionalidade por uma matriz densa de baixa dimensionalidade. Essa representação reduzida pode ser tanto utilizada em estratégias baseadas em vizinhança de usuário (*user-based*), quanto em vizinhança de itens (*item-based*). Particularmente, esses modelos tratam o problema de esparsidade melhor que os modelos baseados em memória e os cálculos de similaridade na matriz de baixa dimensionalidade resultante são mais eficientes e escaláveis.\n",
        "\n",
        "Aqui usaremos a implementação [SciPy](https://docs.scipy.org/doc/scipy/reference/generated/scipy.sparse.linalg.svds.html) de um modelo de fatores latentes popular denominado [*Singular-Value Decomposition (SVD)*](https://en.wikipedia.org/wiki/Singular-value_decomposition). Cabe ressaltar que existem diversos *frameworks* para fatoração de matrizes específicos para filtragem colaborativa, como [surprise](https://github.com/NicolasHug/Surprise), [mrec](https://github.com/Mendeley/mrec) e [python-recsys](https://github.com/ocelma/python-recsys). Veja outro [exemplo de SVD para recomendação de filmes](https://beckernick.github.io/matrix-factorization-recommender/).\n",
        "\n",
        "Um importante parâmetro da fatoração é o número de fatores utilizados para fatorar a matriz. Quanto maior o número de fatores, mais precisa será a fatoração para reconstrução da matriz original. Entretanto, se o modelo \"memorizar\" muitos detalhes da matriz original, ele pode perder capacidade de generalização. Em suma, o aumento  do número de fatores aumenta a precisão, enquanto a redução do número de fatores aumenta a capacidade de generalização do modelo. Aqui usaremos 15 fatores:"
      ]
    },
    {
      "cell_type": "code",
      "execution_count": null,
      "metadata": {
        "id": "Nbsp-mbbIHBV"
      },
      "outputs": [],
      "source": [
        "U, sigma, Vt = svds(usersItemsMatrix, k=15)\n",
        "sigma = np.diag(sigma)"
      ]
    },
    {
      "cell_type": "code",
      "execution_count": null,
      "metadata": {
        "colab": {
          "base_uri": "https://localhost:8080/",
          "height": 34
        },
        "id": "WPZZXL5hIKiX",
        "outputId": "0bf6f136-a1c6-499f-a9d0-6c0022726469"
      },
      "outputs": [
        {
          "data": {
            "text/plain": [
              "(671, 15)"
            ]
          },
          "execution_count": 44,
          "metadata": {
            "tags": []
          },
          "output_type": "execute_result"
        }
      ],
      "source": [
        "U.shape"
      ]
    },
    {
      "cell_type": "code",
      "execution_count": null,
      "metadata": {
        "colab": {
          "base_uri": "https://localhost:8080/",
          "height": 34
        },
        "id": "As33sgtqIM0_",
        "outputId": "94649311-eac4-4943-a441-a37353a7787d"
      },
      "outputs": [
        {
          "data": {
            "text/plain": [
              "(15, 2830)"
            ]
          },
          "execution_count": 45,
          "metadata": {
            "tags": []
          },
          "output_type": "execute_result"
        }
      ],
      "source": [
        "Vt.shape"
      ]
    },
    {
      "cell_type": "code",
      "execution_count": null,
      "metadata": {
        "colab": {
          "base_uri": "https://localhost:8080/",
          "height": 34
        },
        "id": "t1mQIXOdIPUH",
        "outputId": "51c2d85b-9ad3-467d-ba6f-c2221be8fcfc"
      },
      "outputs": [
        {
          "data": {
            "text/plain": [
              "(15, 15)"
            ]
          },
          "execution_count": 46,
          "metadata": {
            "tags": []
          },
          "output_type": "execute_result"
        }
      ],
      "source": [
        "sigma.shape"
      ]
    },
    {
      "cell_type": "markdown",
      "metadata": {
        "id": "ObnNX4xnIRwf"
      },
      "source": [
        "Após a fatoração matricial, podemos reconstruir a matriz original através da multiplicação de seus fatores. A matriz resultante será uma aproximação da matriz original, porém não será mais tão esparsa, apresentando valores para itens sobre os quais os usuários não atribuíram *rating*, o que poderá ser explorado para recomendação."
      ]
    },
    {
      "cell_type": "code",
      "execution_count": null,
      "metadata": {
        "colab": {
          "base_uri": "https://localhost:8080/",
          "height": 238
        },
        "id": "Cw2wAbIgIWOS",
        "outputId": "5b33d14d-1e22-4908-ddff-507ba6fc02d0"
      },
      "outputs": [
        {
          "data": {
            "text/plain": [
              "array([[ 1.50887128e-02, -4.20488889e-02, -4.17670436e-02, ...,\n",
              "         5.06005118e-05,  1.13713874e-02,  5.66332405e-03],\n",
              "       [ 1.46422224e+00, -2.27533449e-01,  2.19713210e-01, ...,\n",
              "        -1.15715717e-03, -8.98586576e-03,  7.30391584e-03],\n",
              "       [ 3.94918704e-01, -3.48298158e-01, -2.91717877e-01, ...,\n",
              "         2.68233746e-03, -2.13364888e-02, -6.65164890e-03],\n",
              "       ...,\n",
              "       [ 4.24426478e-02,  1.42263800e-01,  1.79218284e-02, ...,\n",
              "        -2.10690760e-04, -2.08464385e-02,  1.76477862e-02],\n",
              "       [ 8.64833890e-02,  7.63032801e-03, -5.60620988e-02, ...,\n",
              "        -2.99907175e-03, -1.50740462e-02,  3.69114656e-02],\n",
              "       [ 1.47720869e-01, -1.47112272e-01,  9.95140511e-02, ...,\n",
              "         7.37370306e-03, -1.25474624e-01, -4.52218520e-02]])"
            ]
          },
          "execution_count": 47,
          "metadata": {
            "tags": []
          },
          "output_type": "execute_result"
        }
      ],
      "source": [
        "predictedRatings = np.dot(np.dot(U, sigma), Vt) \n",
        "predictedRatings"
      ]
    },
    {
      "cell_type": "code",
      "execution_count": null,
      "metadata": {
        "colab": {
          "base_uri": "https://localhost:8080/",
          "height": 284
        },
        "id": "KI_kfqbdIa3k",
        "outputId": "1c46ec2e-7166-4458-f586-619b67017679"
      },
      "outputs": [
        {
          "data": {
            "text/html": [
              "<div>\n",
              "<style scoped>\n",
              "    .dataframe tbody tr th:only-of-type {\n",
              "        vertical-align: middle;\n",
              "    }\n",
              "\n",
              "    .dataframe tbody tr th {\n",
              "        vertical-align: top;\n",
              "    }\n",
              "\n",
              "    .dataframe thead th {\n",
              "        text-align: right;\n",
              "    }\n",
              "</style>\n",
              "<table border=\"1\" class=\"dataframe\">\n",
              "  <thead>\n",
              "    <tr style=\"text-align: right;\">\n",
              "      <th></th>\n",
              "      <th>1</th>\n",
              "      <th>2</th>\n",
              "      <th>3</th>\n",
              "      <th>4</th>\n",
              "      <th>5</th>\n",
              "      <th>6</th>\n",
              "      <th>7</th>\n",
              "      <th>8</th>\n",
              "      <th>9</th>\n",
              "      <th>10</th>\n",
              "      <th>...</th>\n",
              "      <th>662</th>\n",
              "      <th>663</th>\n",
              "      <th>664</th>\n",
              "      <th>665</th>\n",
              "      <th>666</th>\n",
              "      <th>667</th>\n",
              "      <th>668</th>\n",
              "      <th>669</th>\n",
              "      <th>670</th>\n",
              "      <th>671</th>\n",
              "    </tr>\n",
              "    <tr>\n",
              "      <th>itemId</th>\n",
              "      <th></th>\n",
              "      <th></th>\n",
              "      <th></th>\n",
              "      <th></th>\n",
              "      <th></th>\n",
              "      <th></th>\n",
              "      <th></th>\n",
              "      <th></th>\n",
              "      <th></th>\n",
              "      <th></th>\n",
              "      <th></th>\n",
              "      <th></th>\n",
              "      <th></th>\n",
              "      <th></th>\n",
              "      <th></th>\n",
              "      <th></th>\n",
              "      <th></th>\n",
              "      <th></th>\n",
              "      <th></th>\n",
              "      <th></th>\n",
              "      <th></th>\n",
              "    </tr>\n",
              "  </thead>\n",
              "  <tbody>\n",
              "    <tr>\n",
              "      <th>2</th>\n",
              "      <td>0.015089</td>\n",
              "      <td>1.464222</td>\n",
              "      <td>0.394919</td>\n",
              "      <td>1.151839</td>\n",
              "      <td>1.218894</td>\n",
              "      <td>0.103664</td>\n",
              "      <td>0.756785</td>\n",
              "      <td>-0.024258</td>\n",
              "      <td>-0.029734</td>\n",
              "      <td>-0.015510</td>\n",
              "      <td>...</td>\n",
              "      <td>1.700426</td>\n",
              "      <td>0.118143</td>\n",
              "      <td>1.182535</td>\n",
              "      <td>2.586990</td>\n",
              "      <td>0.978242</td>\n",
              "      <td>0.773836</td>\n",
              "      <td>-0.021408</td>\n",
              "      <td>0.042443</td>\n",
              "      <td>0.086483</td>\n",
              "      <td>0.147721</td>\n",
              "    </tr>\n",
              "    <tr>\n",
              "      <th>3</th>\n",
              "      <td>-0.042049</td>\n",
              "      <td>-0.227533</td>\n",
              "      <td>-0.348298</td>\n",
              "      <td>0.271228</td>\n",
              "      <td>0.701572</td>\n",
              "      <td>-0.062068</td>\n",
              "      <td>0.479418</td>\n",
              "      <td>-0.201965</td>\n",
              "      <td>-0.234154</td>\n",
              "      <td>-0.100168</td>\n",
              "      <td>...</td>\n",
              "      <td>0.041023</td>\n",
              "      <td>0.009695</td>\n",
              "      <td>0.176872</td>\n",
              "      <td>0.714282</td>\n",
              "      <td>0.082891</td>\n",
              "      <td>0.352401</td>\n",
              "      <td>0.122162</td>\n",
              "      <td>0.142264</td>\n",
              "      <td>0.007630</td>\n",
              "      <td>-0.147112</td>\n",
              "    </tr>\n",
              "    <tr>\n",
              "      <th>5</th>\n",
              "      <td>-0.041767</td>\n",
              "      <td>0.219713</td>\n",
              "      <td>-0.291718</td>\n",
              "      <td>-0.101899</td>\n",
              "      <td>0.869133</td>\n",
              "      <td>-0.074739</td>\n",
              "      <td>0.179799</td>\n",
              "      <td>0.232122</td>\n",
              "      <td>0.005235</td>\n",
              "      <td>-0.080508</td>\n",
              "      <td>...</td>\n",
              "      <td>0.352525</td>\n",
              "      <td>-0.051377</td>\n",
              "      <td>-0.254482</td>\n",
              "      <td>1.589775</td>\n",
              "      <td>0.037953</td>\n",
              "      <td>0.449851</td>\n",
              "      <td>-0.011629</td>\n",
              "      <td>0.017922</td>\n",
              "      <td>-0.056062</td>\n",
              "      <td>0.099514</td>\n",
              "    </tr>\n",
              "    <tr>\n",
              "      <th>6</th>\n",
              "      <td>-0.046386</td>\n",
              "      <td>0.252806</td>\n",
              "      <td>-0.077288</td>\n",
              "      <td>-1.117858</td>\n",
              "      <td>0.355588</td>\n",
              "      <td>0.085903</td>\n",
              "      <td>0.576312</td>\n",
              "      <td>-0.117166</td>\n",
              "      <td>0.144093</td>\n",
              "      <td>0.028049</td>\n",
              "      <td>...</td>\n",
              "      <td>0.105157</td>\n",
              "      <td>0.027306</td>\n",
              "      <td>3.095155</td>\n",
              "      <td>-0.214641</td>\n",
              "      <td>0.526836</td>\n",
              "      <td>1.579897</td>\n",
              "      <td>0.264164</td>\n",
              "      <td>0.112134</td>\n",
              "      <td>0.500302</td>\n",
              "      <td>-0.273945</td>\n",
              "    </tr>\n",
              "    <tr>\n",
              "      <th>11</th>\n",
              "      <td>-0.048270</td>\n",
              "      <td>1.257234</td>\n",
              "      <td>-0.073282</td>\n",
              "      <td>0.508031</td>\n",
              "      <td>0.959346</td>\n",
              "      <td>-0.069973</td>\n",
              "      <td>0.212066</td>\n",
              "      <td>0.415783</td>\n",
              "      <td>0.210476</td>\n",
              "      <td>0.058316</td>\n",
              "      <td>...</td>\n",
              "      <td>1.382667</td>\n",
              "      <td>-0.001926</td>\n",
              "      <td>-0.496062</td>\n",
              "      <td>2.332994</td>\n",
              "      <td>0.631987</td>\n",
              "      <td>1.074589</td>\n",
              "      <td>0.092265</td>\n",
              "      <td>-0.124170</td>\n",
              "      <td>0.148990</td>\n",
              "      <td>0.006175</td>\n",
              "    </tr>\n",
              "  </tbody>\n",
              "</table>\n",
              "<p>5 rows × 671 columns</p>\n",
              "</div>"
            ],
            "text/plain": [
              "             1         2         3         4         5         6         7    \\\n",
              "itemId                                                                         \n",
              "2       0.015089  1.464222  0.394919  1.151839  1.218894  0.103664  0.756785   \n",
              "3      -0.042049 -0.227533 -0.348298  0.271228  0.701572 -0.062068  0.479418   \n",
              "5      -0.041767  0.219713 -0.291718 -0.101899  0.869133 -0.074739  0.179799   \n",
              "6      -0.046386  0.252806 -0.077288 -1.117858  0.355588  0.085903  0.576312   \n",
              "11     -0.048270  1.257234 -0.073282  0.508031  0.959346 -0.069973  0.212066   \n",
              "\n",
              "             8         9         10     ...          662       663       664  \\\n",
              "itemId                                  ...                                    \n",
              "2      -0.024258 -0.029734 -0.015510    ...     1.700426  0.118143  1.182535   \n",
              "3      -0.201965 -0.234154 -0.100168    ...     0.041023  0.009695  0.176872   \n",
              "5       0.232122  0.005235 -0.080508    ...     0.352525 -0.051377 -0.254482   \n",
              "6      -0.117166  0.144093  0.028049    ...     0.105157  0.027306  3.095155   \n",
              "11      0.415783  0.210476  0.058316    ...     1.382667 -0.001926 -0.496062   \n",
              "\n",
              "             665       666       667       668       669       670       671  \n",
              "itemId                                                                        \n",
              "2       2.586990  0.978242  0.773836 -0.021408  0.042443  0.086483  0.147721  \n",
              "3       0.714282  0.082891  0.352401  0.122162  0.142264  0.007630 -0.147112  \n",
              "5       1.589775  0.037953  0.449851 -0.011629  0.017922 -0.056062  0.099514  \n",
              "6      -0.214641  0.526836  1.579897  0.264164  0.112134  0.500302 -0.273945  \n",
              "11      2.332994  0.631987  1.074589  0.092265 -0.124170  0.148990  0.006175  \n",
              "\n",
              "[5 rows x 671 columns]"
            ]
          },
          "execution_count": 48,
          "metadata": {
            "tags": []
          },
          "output_type": "execute_result"
        }
      ],
      "source": [
        "CFPredictionsDF = pd.DataFrame(predictedRatings, columns = usersItemsDF.columns, index=usersIds).transpose()\n",
        "CFPredictionsDF.head(5)"
      ]
    },
    {
      "cell_type": "markdown",
      "metadata": {
        "id": "66vpXXv-63MQ"
      },
      "source": [
        "Agora vamos conferir as recomendações oferecidas pela abordagem para um usuário específico de nossa base de dados:"
      ]
    },
    {
      "cell_type": "code",
      "execution_count": null,
      "metadata": {
        "id": "9kFyXxtzIg2M"
      },
      "outputs": [],
      "source": [
        "SVDModel = CFRecommender('CF-SVD',CFPredictionsDF, itemsDF)"
      ]
    },
    {
      "cell_type": "code",
      "execution_count": null,
      "metadata": {
        "colab": {
          "base_uri": "https://localhost:8080/",
          "height": 204
        },
        "id": "MnZG-sdTinKN",
        "outputId": "b4d6398d-a3b1-43eb-cde5-65525fc64740"
      },
      "outputs": [
        {
          "data": {
            "text/html": [
              "<div>\n",
              "<style scoped>\n",
              "    .dataframe tbody tr th:only-of-type {\n",
              "        vertical-align: middle;\n",
              "    }\n",
              "\n",
              "    .dataframe tbody tr th {\n",
              "        vertical-align: top;\n",
              "    }\n",
              "\n",
              "    .dataframe thead th {\n",
              "        text-align: right;\n",
              "    }\n",
              "</style>\n",
              "<table border=\"1\" class=\"dataframe\">\n",
              "  <thead>\n",
              "    <tr style=\"text-align: right;\">\n",
              "      <th></th>\n",
              "      <th>itemId</th>\n",
              "      <th>itemName</th>\n",
              "      <th>score</th>\n",
              "    </tr>\n",
              "  </thead>\n",
              "  <tbody>\n",
              "    <tr>\n",
              "      <th>0</th>\n",
              "      <td>1374</td>\n",
              "      <td>Rocky IV</td>\n",
              "      <td>0.212125</td>\n",
              "    </tr>\n",
              "    <tr>\n",
              "      <th>1</th>\n",
              "      <td>541</td>\n",
              "      <td>The Man with the Golden Arm</td>\n",
              "      <td>0.200492</td>\n",
              "    </tr>\n",
              "    <tr>\n",
              "      <th>2</th>\n",
              "      <td>260</td>\n",
              "      <td>The 39 Steps</td>\n",
              "      <td>0.188152</td>\n",
              "    </tr>\n",
              "    <tr>\n",
              "      <th>3</th>\n",
              "      <td>1376</td>\n",
              "      <td>Sweet Sixteen</td>\n",
              "      <td>0.179777</td>\n",
              "    </tr>\n",
              "    <tr>\n",
              "      <th>4</th>\n",
              "      <td>1127</td>\n",
              "      <td>Princesses</td>\n",
              "      <td>0.168647</td>\n",
              "    </tr>\n",
              "  </tbody>\n",
              "</table>\n",
              "</div>"
            ],
            "text/plain": [
              "   itemId                     itemName     score\n",
              "0    1374                     Rocky IV  0.212125\n",
              "1     541  The Man with the Golden Arm  0.200492\n",
              "2     260                 The 39 Steps  0.188152\n",
              "3    1376                Sweet Sixteen  0.179777\n",
              "4    1127                   Princesses  0.168647"
            ]
          },
          "execution_count": 50,
          "metadata": {
            "tags": []
          },
          "output_type": "execute_result"
        }
      ],
      "source": [
        "recommendedItens = SVDModel.recommend(1, topn=10, verbose=True)\n",
        "recommendedItens.sort_values(ascending=False,by=['score']).head(5)"
      ]
    },
    {
      "cell_type": "markdown",
      "metadata": {
        "id": "-alhSw9WG-d4"
      },
      "source": [
        "### Baseada em Conteúdo\n",
        "Abordagens de recomendação baseadas em conteúdo levam em conta a descrição (ou atributos) de itens relevantes a usuários para sugerir itens similares. Elas consideram apenas escolhas prévias do próprio usuário, o que as torna resilientes ao problema de  [cold-start](https://en.wikipedia.org/wiki/Cold_start). Para recomendação de itens com farto conteúdo textual, como artigos, livros e notícias, o uso do texto associado ao item para construir perfis de itens e usuários se mostra uma tarefa muito simples e intuitiva.\n",
        "\n",
        "Aqui utilizaremos um modelo clássico de recuperação de informação para representação de itens e usuários, o [modelo vetorial](https://pt.wikipedia.org/wiki/Modelo_vetorial_em_sistemas_de_recupera%C3%A7%C3%A3o_da_informa%C3%A7%C3%A3o). Nesse modelo, textos não estruturados são convertidos em vetores de palavras, onde cada palavra é representada por uma posição no vetor e o valor nessa posição indica a importância (peso) da palavra no texto. Como todos os itens e usuários são representados em um espaço vetorial, o cálculo de similaridade entre itens e usuários pode ser feito utilizando o cosseno ([cosine similarity](https://en.wikipedia.org/wiki/Cosine_similarity)) entre seus respectivos vetores. Para o cálculo do peso das palavras no texto geralmente utiliza-se o [esquema TF-IDF](https://pt.wikipedia.org/wiki/Tf%E2%80%93idf), onde a frequência da palavra no texto e a raridade da palavra entre os diversos textos determinam sua importância."
      ]
    },
    {
      "cell_type": "code",
      "execution_count": null,
      "metadata": {
        "colab": {
          "base_uri": "https://localhost:8080/",
          "height": 51
        },
        "id": "pM1p37AVHHHv",
        "outputId": "83925f27-27ef-4b2a-a97a-dee5295aac4b"
      },
      "outputs": [
        {
          "data": {
            "text/plain": [
              "<45433x1824 sparse matrix of type '<class 'numpy.float64'>'\n",
              "\twith 795061 stored elements in Compressed Sparse Row format>"
            ]
          },
          "execution_count": 51,
          "metadata": {
            "tags": []
          },
          "output_type": "execute_result"
        }
      ],
      "source": [
        "englishStopwordsList = stopwords.words('english')\n",
        "\n",
        "#Trains a model whose vectors size is 5000, composed by the main unigrams and bigrams found in the corpus, ignoring stopwords\n",
        "vectorizer = TfidfVectorizer(analyzer='word',\n",
        "                     ngram_range=(1, 2),\n",
        "                     min_df=0.003,\n",
        "                     max_df=0.5,\n",
        "                     max_features=5000,\n",
        "                     stop_words=englishStopwordsList)\n",
        "\n",
        "item_ids = itemsDF['itemId'].tolist()\n",
        "tfIdfMatrix = vectorizer.fit_transform(itemsDF['itemName'] + \"\" + itemsDF['itemDescription'])\n",
        "tfIdfFeatureNames = vectorizer.get_feature_names()\n",
        "tfIdfMatrix"
      ]
    },
    {
      "cell_type": "markdown",
      "metadata": {
        "id": "11BOwjRdHKWL"
      },
      "source": [
        "Para modelar o perfil de usuário, utilizaremos todos os perfis de itens que o usuário atribuiu *rating*. Mais especificamente, o vetor de palavras representativos de um usuário será constituído por todas as palavras presentes nos vetores de itens que o usuário atribuiu *rating* e os pesos de cada palavra serão determinados pelo TF-IDF ponderado pelo *rating* do usuário."
      ]
    },
    {
      "cell_type": "code",
      "execution_count": null,
      "metadata": {
        "id": "CAS-OhGHHK-m"
      },
      "outputs": [],
      "source": [
        "def getItemProfile(item_id):\n",
        "    idx = item_ids.index(item_id)\n",
        "    item_profile = tfIdfMatrix[idx:idx+1]\n",
        "    return item_profile\n",
        "\n",
        "def getItemProfiles(ids):\n",
        "    item_profiles_list = [getItemProfile(x) for x in ids]\n",
        "    item_profiles = scipy.sparse.vstack(item_profiles_list)\n",
        "    return item_profiles\n",
        "\n",
        "def buildUsersProfile(user_id, ratingsIndexedDF):\n",
        "    ratingsUserDF = ratingsIndexedDF.loc[user_id]\n",
        "    user_item_profiles = getItemProfiles(ratingsUserDF['itemId'])\n",
        "    \n",
        "    user_item_strengths = np.array(ratingsUserDF['rating']).reshape(-1,1)\n",
        "    #Weighted average of item profiles by the ratings strength\n",
        "    user_item_strengths_weighted_avg = np.sum(user_item_profiles.multiply(user_item_strengths), axis=0) / np.sum(user_item_strengths)\n",
        "    user_profile_norm = sklearn.preprocessing.normalize(user_item_strengths_weighted_avg)\n",
        "    return user_profile_norm\n",
        "\n",
        "def buildUsersProfiles(): \n",
        "    ratingsIndexedDF = ratingsDF[ratingsDF['itemId'] \\\n",
        "                                 .isin(itemsDF['itemId'])].set_index('userId')\n",
        "    user_profiles = {}\n",
        "    for user_id in ratingsIndexedDF.index.unique():\n",
        "        user_profiles[user_id] = buildUsersProfile(user_id, ratingsIndexedDF)\n",
        "    return user_profiles"
      ]
    },
    {
      "cell_type": "code",
      "execution_count": null,
      "metadata": {
        "colab": {
          "base_uri": "https://localhost:8080/",
          "height": 34
        },
        "id": "szBEBmZKHQLR",
        "outputId": "d673ee4f-be44-45d3-e353-dec80a07f58c"
      },
      "outputs": [
        {
          "data": {
            "text/plain": [
              "671"
            ]
          },
          "execution_count": 53,
          "metadata": {
            "tags": []
          },
          "output_type": "execute_result"
        }
      ],
      "source": [
        "userProfiles = buildUsersProfiles()\n",
        "len(userProfiles)"
      ]
    },
    {
      "cell_type": "markdown",
      "metadata": {
        "id": "eEOsxauAHUU_"
      },
      "source": [
        "Para simplificar e tornar os cálculos mais rápidos, faremos uma poda nos vetores de palavras e fixaremos o tamanho máximo do vetor em 5.000 palavras. Observando o perfil de um usuário específico, espera-se que as palavras mais representativas no perfil do usuário estejam realmente relacionadas aos conceitos que o usuário se interessa. "
      ]
    },
    {
      "cell_type": "code",
      "execution_count": null,
      "metadata": {
        "colab": {
          "base_uri": "https://localhost:8080/",
          "height": 221
        },
        "id": "XJiDJVKSHVLd",
        "outputId": "66f6bdfd-f467-48af-8ced-5e6fd33ddaf7"
      },
      "outputs": [
        {
          "name": "stdout",
          "output_type": "stream",
          "text": [
            "(1, 1824)\n"
          ]
        },
        {
          "data": {
            "text/html": [
              "<div>\n",
              "<style scoped>\n",
              "    .dataframe tbody tr th:only-of-type {\n",
              "        vertical-align: middle;\n",
              "    }\n",
              "\n",
              "    .dataframe tbody tr th {\n",
              "        vertical-align: top;\n",
              "    }\n",
              "\n",
              "    .dataframe thead th {\n",
              "        text-align: right;\n",
              "    }\n",
              "</style>\n",
              "<table border=\"1\" class=\"dataframe\">\n",
              "  <thead>\n",
              "    <tr style=\"text-align: right;\">\n",
              "      <th></th>\n",
              "      <th>token</th>\n",
              "      <th>relevance</th>\n",
              "    </tr>\n",
              "  </thead>\n",
              "  <tbody>\n",
              "    <tr>\n",
              "      <th>0</th>\n",
              "      <td>senior</td>\n",
              "      <td>0.264241</td>\n",
              "    </tr>\n",
              "    <tr>\n",
              "      <th>1</th>\n",
              "      <td>losing</td>\n",
              "      <td>0.240960</td>\n",
              "    </tr>\n",
              "    <tr>\n",
              "      <th>2</th>\n",
              "      <td>score</td>\n",
              "      <td>0.185604</td>\n",
              "    </tr>\n",
              "    <tr>\n",
              "      <th>3</th>\n",
              "      <td>silent</td>\n",
              "      <td>0.179911</td>\n",
              "    </tr>\n",
              "    <tr>\n",
              "      <th>4</th>\n",
              "      <td>easy</td>\n",
              "      <td>0.168202</td>\n",
              "    </tr>\n",
              "  </tbody>\n",
              "</table>\n",
              "</div>"
            ],
            "text/plain": [
              "    token  relevance\n",
              "0  senior   0.264241\n",
              "1  losing   0.240960\n",
              "2   score   0.185604\n",
              "3  silent   0.179911\n",
              "4    easy   0.168202"
            ]
          },
          "execution_count": 54,
          "metadata": {
            "tags": []
          },
          "output_type": "execute_result"
        }
      ],
      "source": [
        "user1 = userProfiles[1]\n",
        "print(user1.shape)\n",
        "pd.DataFrame(sorted(zip(tfIdfFeatureNames, \n",
        "                        userProfiles[1].flatten().tolist()), key=lambda x: -x[1])[:5],\n",
        "             columns=['token', 'relevance'])"
      ]
    },
    {
      "cell_type": "markdown",
      "metadata": {
        "id": "H6eubsJk7Wfm"
      },
      "source": [
        "Agora, vamos implementar a abordagem de recomendação baseada em conteúdo:"
      ]
    },
    {
      "cell_type": "code",
      "execution_count": null,
      "metadata": {
        "id": "TwuouHDuHcLD"
      },
      "outputs": [],
      "source": [
        "class CBRecommender:\n",
        "    \n",
        "    def __init__(self, modelName, itemsDF=None):\n",
        "        self.modelName = modelName\n",
        "        self.item_ids = item_ids\n",
        "        self.itemsDF = itemsDF\n",
        "        \n",
        "    def getModelName(self):\n",
        "        return self.modelName\n",
        "        \n",
        "    def _getSimilarItems(self, user_id, topn=1000):\n",
        "        #Computes the cosine similarity between the user profile and all item profiles\n",
        "        cosine_similarities = cosine_similarity(userProfiles[user_id], tfIdfMatrix)\n",
        "        #Gets the top similar items\n",
        "        similar_indices = cosine_similarities.argsort().flatten()[-topn:]\n",
        "        #Sort the similar items by similarity\n",
        "        similar_items = sorted([(item_ids[i], cosine_similarities[0,i]) for i in similar_indices], key=lambda x: -x[1])\n",
        "        return similar_items\n",
        "        \n",
        "    def recommend(self, user_id, items_to_ignore=[], topn=10, verbose=False):\n",
        "        similar_items = self._getSimilarItems(user_id)\n",
        "        #Ignores items the user has already interacted\n",
        "        similar_items_filtered = list(filter(lambda x: x[0] not in items_to_ignore, similar_items))\n",
        "        recommendationsDF = pd.DataFrame(similar_items_filtered, columns=['itemId', 'score']) \\\n",
        "                                         .head(topn)\n",
        "        if verbose:\n",
        "            if self.itemsDF is None:\n",
        "                raise Exception('The items data frame (itemsDF) is required in verbose mode')\n",
        "            recommendationsDF = recommendationsDF.merge(self.itemsDF, how = 'left', \n",
        "                                                        left_on = 'itemId', \n",
        "                                                        right_on = 'itemId')[['itemId', 'itemName','score']]\n",
        "        return recommendationsDF"
      ]
    },
    {
      "cell_type": "code",
      "execution_count": null,
      "metadata": {
        "id": "AkRthhUOsJ36"
      },
      "outputs": [],
      "source": [
        "CBModel = CBRecommender('CB',itemsDF)"
      ]
    },
    {
      "cell_type": "markdown",
      "metadata": {
        "id": "tD7wvF727NVC"
      },
      "source": [
        "Finalmente, vamos conferir as recomendações oferecidas pela abordagem para um usuário específico de nossa base de dados:"
      ]
    },
    {
      "cell_type": "code",
      "execution_count": null,
      "metadata": {
        "colab": {
          "base_uri": "https://localhost:8080/",
          "height": 204
        },
        "id": "N5aCM5YUjWJB",
        "outputId": "a188dab9-c5ce-4b7c-88cd-4ebb02e370ef"
      },
      "outputs": [
        {
          "data": {
            "text/html": [
              "<div>\n",
              "<style scoped>\n",
              "    .dataframe tbody tr th:only-of-type {\n",
              "        vertical-align: middle;\n",
              "    }\n",
              "\n",
              "    .dataframe tbody tr th {\n",
              "        vertical-align: top;\n",
              "    }\n",
              "\n",
              "    .dataframe thead th {\n",
              "        text-align: right;\n",
              "    }\n",
              "</style>\n",
              "<table border=\"1\" class=\"dataframe\">\n",
              "  <thead>\n",
              "    <tr style=\"text-align: right;\">\n",
              "      <th></th>\n",
              "      <th>itemId</th>\n",
              "      <th>itemName</th>\n",
              "      <th>score</th>\n",
              "    </tr>\n",
              "  </thead>\n",
              "  <tbody>\n",
              "    <tr>\n",
              "      <th>0</th>\n",
              "      <td>2105</td>\n",
              "      <td>American Pie</td>\n",
              "      <td>0.683285</td>\n",
              "    </tr>\n",
              "    <tr>\n",
              "      <th>1</th>\n",
              "      <td>2193</td>\n",
              "      <td>My Tutor</td>\n",
              "      <td>0.442932</td>\n",
              "    </tr>\n",
              "    <tr>\n",
              "      <th>2</th>\n",
              "      <td>1371</td>\n",
              "      <td>Rocky III</td>\n",
              "      <td>0.397199</td>\n",
              "    </tr>\n",
              "    <tr>\n",
              "      <th>3</th>\n",
              "      <td>2455</td>\n",
              "      <td>Confidentially Yours</td>\n",
              "      <td>0.389079</td>\n",
              "    </tr>\n",
              "    <tr>\n",
              "      <th>4</th>\n",
              "      <td>2294</td>\n",
              "      <td>Jay and Silent Bob Strike Back</td>\n",
              "      <td>0.326906</td>\n",
              "    </tr>\n",
              "  </tbody>\n",
              "</table>\n",
              "</div>"
            ],
            "text/plain": [
              "   itemId                        itemName     score\n",
              "0    2105                    American Pie  0.683285\n",
              "1    2193                        My Tutor  0.442932\n",
              "2    1371                       Rocky III  0.397199\n",
              "3    2455            Confidentially Yours  0.389079\n",
              "4    2294  Jay and Silent Bob Strike Back  0.326906"
            ]
          },
          "execution_count": 57,
          "metadata": {
            "tags": []
          },
          "output_type": "execute_result"
        }
      ],
      "source": [
        "recommendedItens = CBModel.recommend(1, topn=10, verbose=True)\n",
        "recommendedItens.sort_values(ascending=False,by=['score']).head(5)"
      ]
    },
    {
      "cell_type": "markdown",
      "metadata": {
        "id": "DDa37NF2ItEf"
      },
      "source": [
        "### Híbrida\n",
        "Abordagens híbridas têm apresentado melhores resultados que abordagens puras em muitos casos reais e por esse motivo têm sido muito utilizadas na prática. Aqui, implementaremos uma abordagem híbrida simples obtida usando a multiplicação dos pesos das abordagens de filtragem colaborativa baseada em modelo (SVD) e baseada em conteúdo previamente apresentadas, para prover um ranking obtido a partir dos pesos combinados."
      ]
    },
    {
      "cell_type": "code",
      "execution_count": null,
      "metadata": {
        "id": "X1VFGRCtI2mp"
      },
      "outputs": [],
      "source": [
        "class HBRecommender:\n",
        "    \n",
        "    def __init__(self, modelName, CBModel, SVDmodel, itemsDF):\n",
        "        self.modelName = modelName\n",
        "        self.CBModel = CBModel\n",
        "        self.SVDmodel = SVDmodel\n",
        "        self.itemsDF = itemsDF\n",
        "        \n",
        "    def getModelName(self):\n",
        "        return self.modelName\n",
        "        \n",
        "    def recommend(self, user_id, items_to_ignore=[], topn=10, verbose=False):\n",
        "        #Getting the top-1000 Content-based filtering recommendations\n",
        "        CBRecommendationsDF = self.CBModel.recommend(user_id, items_to_ignore=items_to_ignore, verbose=verbose,\n",
        "                                                           topn=1000).rename(columns={'score': 'scoreCB'})\n",
        "        \n",
        "        #Getting the top-1000 Collaborative filtering recommendations\n",
        "        SVDRecommendationsDF = self.SVDmodel.recommend(user_id, items_to_ignore=items_to_ignore, verbose=verbose, \n",
        "                                                             topn=1000).rename(columns={'score': 'scoreCF'})\n",
        "        \n",
        "        #Combining the results by contentId\n",
        "        HBRecommendationsDF = CBRecommendationsDF.merge(SVDRecommendationsDF,\n",
        "                                                        how = 'inner', \n",
        "                                                        left_on = 'itemId', \n",
        "                                                        right_on = 'itemId')\n",
        "        \n",
        "        #Computing a hybrid recommendation score based on CF and CB scores\n",
        "        HBRecommendationsDF['score'] = HBRecommendationsDF['scoreCB'] * HBRecommendationsDF['scoreCF']\n",
        "        \n",
        "        #Sorting recommendations by hybrid score\n",
        "        recommendationsDF = HBRecommendationsDF.sort_values('score', ascending=False).head(topn)\n",
        "\n",
        "        if verbose:\n",
        "            if self.itemsDF is None:\n",
        "                raise Exception('The items data frame (itemsDF) is required in verbose mode')\n",
        "\n",
        "            recommendationsDF = recommendationsDF.merge(self.itemsDF, how = 'left', \n",
        "                                                        left_on = 'itemId', \n",
        "                                                        right_on = 'itemId')[['itemId', 'itemName','score']]\n",
        "\n",
        "        return recommendationsDF"
      ]
    },
    {
      "cell_type": "code",
      "execution_count": null,
      "metadata": {
        "id": "QyGIRKlHtPPz"
      },
      "outputs": [],
      "source": [
        "HBModel = HBRecommender('HB', CBModel, SVDModel, itemsDF)"
      ]
    },
    {
      "cell_type": "markdown",
      "metadata": {
        "id": "Hmv8yoH67e0w"
      },
      "source": [
        "Vejamos as recomendações oferecidas pela abordagem para um usuário específico de nossa base de dados:"
      ]
    },
    {
      "cell_type": "code",
      "execution_count": null,
      "metadata": {
        "colab": {
          "base_uri": "https://localhost:8080/",
          "height": 204
        },
        "id": "xa4HWZBcj5W1",
        "outputId": "bb9e74b6-c6a3-476d-9ffb-5dee6dba3cee"
      },
      "outputs": [
        {
          "data": {
            "text/html": [
              "<div>\n",
              "<style scoped>\n",
              "    .dataframe tbody tr th:only-of-type {\n",
              "        vertical-align: middle;\n",
              "    }\n",
              "\n",
              "    .dataframe tbody tr th {\n",
              "        vertical-align: top;\n",
              "    }\n",
              "\n",
              "    .dataframe thead th {\n",
              "        text-align: right;\n",
              "    }\n",
              "</style>\n",
              "<table border=\"1\" class=\"dataframe\">\n",
              "  <thead>\n",
              "    <tr style=\"text-align: right;\">\n",
              "      <th></th>\n",
              "      <th>itemId</th>\n",
              "      <th>itemName</th>\n",
              "      <th>score</th>\n",
              "    </tr>\n",
              "  </thead>\n",
              "  <tbody>\n",
              "    <tr>\n",
              "      <th>0</th>\n",
              "      <td>2105</td>\n",
              "      <td>American Pie</td>\n",
              "      <td>0.105301</td>\n",
              "    </tr>\n",
              "    <tr>\n",
              "      <th>1</th>\n",
              "      <td>2193</td>\n",
              "      <td>My Tutor</td>\n",
              "      <td>0.048051</td>\n",
              "    </tr>\n",
              "    <tr>\n",
              "      <th>2</th>\n",
              "      <td>1371</td>\n",
              "      <td>Rocky III</td>\n",
              "      <td>0.044051</td>\n",
              "    </tr>\n",
              "    <tr>\n",
              "      <th>3</th>\n",
              "      <td>2455</td>\n",
              "      <td>Confidentially Yours</td>\n",
              "      <td>0.037459</td>\n",
              "    </tr>\n",
              "    <tr>\n",
              "      <th>4</th>\n",
              "      <td>541</td>\n",
              "      <td>The Man with the Golden Arm</td>\n",
              "      <td>0.025616</td>\n",
              "    </tr>\n",
              "  </tbody>\n",
              "</table>\n",
              "</div>"
            ],
            "text/plain": [
              "   itemId                     itemName     score\n",
              "0    2105                 American Pie  0.105301\n",
              "1    2193                     My Tutor  0.048051\n",
              "2    1371                    Rocky III  0.044051\n",
              "3    2455         Confidentially Yours  0.037459\n",
              "4     541  The Man with the Golden Arm  0.025616"
            ]
          },
          "execution_count": 60,
          "metadata": {
            "tags": []
          },
          "output_type": "execute_result"
        }
      ],
      "source": [
        "recommendedItens = HBModel.recommend(1, topn=10, verbose=True)\n",
        "recommendedItens.sort_values(ascending=False,by=['score']).head(5)"
      ]
    },
    {
      "cell_type": "markdown",
      "metadata": {
        "id": "ZuYscJzD9JJW"
      },
      "source": [
        "## Avaliação das Abordagens\n",
        "---\n",
        "Para comparar as diferentes abordagens de recomendação precisamos estabelecer métricas e modelos de avaliação, além de adotar técnicas de validação estatística de resultados. A seguir apresento as métricas, modelos e técnicas utilizadas para avaliar as abordagens previamente apresentadas. "
      ]
    },
    {
      "cell_type": "markdown",
      "metadata": {
        "id": "rJmNmdovEnMX"
      },
      "source": [
        "### Métricas de Avaliação\n",
        "\n",
        "---\n",
        "Podemos avaliar sistemas de recomendação sob diferentes aspectos, cobrindo diferentes expectativas dos usuários:\n",
        "\n",
        "\n",
        "1.   Acurárica (*accuracy*): capacidade do sistema de recomendar itens *\"corretos\"* para o usuário, onde* \"correto\"* significa itens similares àqueles que o sistema já sabe que o usuário tem interesse.\n",
        "2.   Novidade (*novelty*): capacidade do sistema recomendar itens *\"novos\"* para o usuário, onde *\"novo\"* significa itens que o usuário desconhece.\n",
        "1.   Diversidade (*diversity*): capacidade do sistema recomendar itens* \"diversos\"* para o usuário, onde *\"diverso\"* significa um conjunto de itens com características bem diferentes uns dos outros.\n",
        "2.   Surpresa (*serendipity*): capacidade do sistema recomendar itens *\"surpreendentes\"* para o usuário, onde *\"surpreendente\"* significa itens com características que o usuário nem sabia que existia."
      ]
    },
    {
      "cell_type": "markdown",
      "metadata": {
        "id": "kJB9ajYQK-RW"
      },
      "source": [
        "#### Acurácia\n",
        "\n",
        "---\n",
        "\n",
        "Existem diferentes métricas para avaliação da acurácia de sistemas de recomendação, mais ou menos adequadas dependendo do tipo de predição que o recomendador provê:\n",
        "\n",
        "*   Predição de *Rating*: recomendadores que predizem o valor efetivo do *rating* que um usuário atribui a um item são recomendadores preditores de *ratings*. Para eles, comumente utilizamos métricas de erro, tais como [MAE (Mean Absolute Error)](https://en.wikipedia.org/wiki/Mean_absolute_error), [MSE(Mean Squared Error)](https://en.wikipedia.org/wiki/Mean_squared_error) e [RMSE (Root Mean Squared Error)](https://en.wikipedia.org/wiki/Root-mean-square_deviation). Particularmente, tais métricas acumulam erros (diferenças) de predição e quanto maior o valor da métrica, menor a acurácia da predição. \n",
        "*   Predição de Ranking:  recomendadores que predizem a ordem com que itens devem ser recomendados a usuários, considerando a relevância do item ao usuário, são recomendadores preditores de ranking. Comumente eles oferecem listas de recomendações e utilizamos métricas de recuperação de informação baseadas em relevância, tais como [P@n (Precision at n)](https://en.wikipedia.org/wiki/Evaluation_measures_%28information_retrieval%29#Precision_at_K), [Recall](https://en.wikipedia.org/wiki/Evaluation_measures_%28information_retrieval%29#Recall), [MAP (Mean Average Precision)](https://en.wikipedia.org/wiki/Evaluation_measures_%28information_retrieval%29#Mean_average_precision) e [nDCG (normalized Discounted Cumulative Gain](https://en.wikipedia.org/wiki/Evaluation_measures_%28information_retrieval%29#Discounted_cumulative_gain). \n",
        "\n",
        "Veja também a postagem sobre [avaliação de sistemas de recomendação](http://fastml.com/evaluating-recommender-systems/)."
      ]
    },
    {
      "cell_type": "markdown",
      "metadata": {
        "id": "g_fXw41GmEPw"
      },
      "source": [
        "##### MAE\n",
        "\n",
        "---\n",
        "\n",
        "MAE mede a diferença entre observações pareadas que expressam o mesmo fenômeno, por exemplo *ratings* preditos e observados em um sistema de recomendação. Em particular, considerando um evento com $n$ ocorrências, onde em cada ocorrência temos um valor predito $\\hat{y}_i$ e um valor observado $y_i$, define-se MAE como:\n",
        "$$MAE = \\frac{\\sum_{i=1}^{n} |y_i - \\hat{y}_i|}{n}$$\n",
        "No código abaixo, denominamos a série de valores preditos como `y_score` e a série de valores observados como `y_true`:"
      ]
    },
    {
      "cell_type": "code",
      "execution_count": null,
      "metadata": {
        "id": "h39tdy2BxRfA"
      },
      "outputs": [],
      "source": [
        "def MAE(y_true, y_score):\n",
        "    return (np.absolute(y_true - y_score)).sum() / len(y_true)"
      ]
    },
    {
      "cell_type": "code",
      "execution_count": null,
      "metadata": {
        "colab": {
          "base_uri": "https://localhost:8080/",
          "height": 34
        },
        "id": "t96z82mFys9y",
        "outputId": "03c21c47-2693-4bb1-d68a-934b690cccd6"
      },
      "outputs": [
        {
          "name": "stdout",
          "output_type": "stream",
          "text": [
            "MAE: 0.800000\n"
          ]
        }
      ],
      "source": [
        "score=np.array([1, 8, 6, 9, 4])\n",
        "oracle=np.array([1, 7, 5, 8, 3])\n",
        "print(\"MAE: %f\" % MAE(oracle,score))"
      ]
    },
    {
      "cell_type": "markdown",
      "metadata": {
        "id": "A3Y0QAkumKxK"
      },
      "source": [
        "##### MSE\n",
        "\n",
        "---\n",
        "MSE é uma função de risco que apura a média dos quadrados dos erros (perda de erro quadrática ou simplesmente perda quadrática), ou seja, a diferença entre o estimador e o que é estimado. Tal como MAE, ela pode ser usada para medir a diferença entre *ratings* preditos e observados em um sistema de recomendação.\n",
        "$$MSE = \\frac{\\sum_{i=1}^{n} (y_i - \\hat{y}_i)^2}{n}$$\n"
      ]
    },
    {
      "cell_type": "code",
      "execution_count": null,
      "metadata": {
        "id": "7RfyDdBzw72t"
      },
      "outputs": [],
      "source": [
        "def MSE(y_true, y_score):\n",
        "    return np.power((y_true - y_score),2).sum() / len(y_true)"
      ]
    },
    {
      "cell_type": "code",
      "execution_count": null,
      "metadata": {
        "colab": {
          "base_uri": "https://localhost:8080/",
          "height": 34
        },
        "id": "ABalzq95yrlU",
        "outputId": "a4d3b7a5-e5be-4dfa-ef1a-196e367f1adb"
      },
      "outputs": [
        {
          "name": "stdout",
          "output_type": "stream",
          "text": [
            "MSE: 0.800000\n"
          ]
        }
      ],
      "source": [
        "score=np.array([1, 8, 6, 9, 4])\n",
        "oracle=np.array([1, 7, 5, 8, 3])\n",
        "print(\"MSE: %f\" % MSE(oracle,score))"
      ]
    },
    {
      "cell_type": "markdown",
      "metadata": {
        "id": "36iMRutkmO8D"
      },
      "source": [
        "##### RMSE\n",
        "\n",
        "---\n",
        "\n",
        "MSE também é uma função de risco para medição de perda quadrática e tal como MAE e MSE, ela pode ser usada para medir a diferença entre *ratings* preditos e observados em um sistema de recomendação.\n",
        "$$RMSE = \\sqrt{\\frac{\\sum_{i=1}^{n} (y_i - \\hat{y}_i)^2}{n}}$$"
      ]
    },
    {
      "cell_type": "code",
      "execution_count": null,
      "metadata": {
        "id": "TFmAvn4cuqAE"
      },
      "outputs": [],
      "source": [
        "def RMSE(y_true, y_score):\n",
        "    return sqrt(np.power((y_true - y_score),2).sum() / len(y_true))"
      ]
    },
    {
      "cell_type": "code",
      "execution_count": null,
      "metadata": {
        "colab": {
          "base_uri": "https://localhost:8080/",
          "height": 34
        },
        "id": "BTqwFhV5vduD",
        "outputId": "7a8dbd80-ef0d-4751-ad15-aa2b92919b16"
      },
      "outputs": [
        {
          "name": "stdout",
          "output_type": "stream",
          "text": [
            "RMSE: 0.894427\n"
          ]
        }
      ],
      "source": [
        "\n",
        "\n",
        "score=np.array([1, 8, 6, 9, 4])\n",
        "oracle=np.array([1, 7, 5, 8, 3])\n",
        "print(\"RMSE: %f\" % RMSE(oracle,score))"
      ]
    },
    {
      "cell_type": "markdown",
      "metadata": {
        "id": "p7w1bek3mUrw"
      },
      "source": [
        "##### Precisão\n",
        "\n",
        "---\n",
        "\n",
        "Precisão, ou [valores positivamente preditos](https://en.wikipedia.org/wiki/Positive_and_negative_predictive_values), é uma medida de relevância computada pela fração de instâncias relevantes recuperadas dentre todas as instâncias recuperadas. Pode ser usada para medir a *pureza* de uma lista de recomendação. Particularmente, considerando um evento com $n$ ocorrências, onde em cada ocorrência temos um valor de relevância predita $\\hat{y}_i$ e um julgamento binário de relevância $y_i$, define-se Precisão ($P$) como:\n",
        "$$P = \\frac{\\sum_{i=1}^{n} y_i}{n}$$\n",
        "No código abaixo, denominamos a série de valores preditos de relevância como `y_score` e a série de julgamentos binários de relevância como `y_true`:"
      ]
    },
    {
      "cell_type": "code",
      "execution_count": null,
      "metadata": {
        "id": "Bae57FYYUazP"
      },
      "outputs": [],
      "source": [
        "def Precision(y_true, y_score, k=None):\n",
        "    ranking = np.argsort(y_score)[::-1]\n",
        "    rating = y_true[ranking]\n",
        "\n",
        "    if k is not None:\n",
        "        rating = rating[0:k]\n",
        "        \n",
        "    return np.count_nonzero(rating) / len(rating)"
      ]
    },
    {
      "cell_type": "code",
      "execution_count": null,
      "metadata": {
        "colab": {
          "base_uri": "https://localhost:8080/",
          "height": 34
        },
        "id": "MD-ZbC0nVVE4",
        "outputId": "6f3f8b34-5ff8-4d5e-9c6c-6c2d6d831513"
      },
      "outputs": [
        {
          "name": "stdout",
          "output_type": "stream",
          "text": [
            "Precision: 0.800000\n"
          ]
        }
      ],
      "source": [
        "score=np.array([1, 8, 6, 9, 4])\n",
        "oracle=np.array([1, 0, 1, 4, 1])\n",
        "print(\"Precision: %f\" % Precision(oracle,score))"
      ]
    },
    {
      "cell_type": "markdown",
      "metadata": {
        "id": "5Af55T85map-"
      },
      "source": [
        "##### Revocação\n",
        "\n",
        "---\n",
        "\n",
        "Tal como a Precisão, a Revocação (do inglês *Recall*) é também uma medida de relevância, mas computada pela fração de instâncias relevantes recuperadas dentre o total de instâncias relevantes existentes. Pode ser usada para medir a *completude* de uma lista de recomendação. Considerando um evento com $n$ ocorrências e $m$ instâncias relevantes dentre as ocorrências, onde em cada ocorrência temos um valor de relevância predita $\\hat{y}_i$ e um julgamento binário de relevância $y_i$, define-se Revocação ($R$) como:\n",
        "$$R = \\frac{\\sum_{i=1}^{n} y_i}{m}$$"
      ]
    },
    {
      "cell_type": "code",
      "execution_count": null,
      "metadata": {
        "id": "DLViRo5IiMfQ"
      },
      "outputs": [],
      "source": [
        "def Recall(y_true, y_score, k=None):\n",
        "    ranking = np.argsort(y_score)[::-1]\n",
        "    rating = y_true[ranking]\n",
        "    allRelevant = np.count_nonzero(rating)\n",
        "\n",
        "    if k is not None:\n",
        "        rating = rating[0:k]\n",
        "        \n",
        "    return np.count_nonzero(rating) / allRelevant"
      ]
    },
    {
      "cell_type": "code",
      "execution_count": null,
      "metadata": {
        "colab": {
          "base_uri": "https://localhost:8080/",
          "height": 34
        },
        "id": "TbcOdCQWiuoY",
        "outputId": "1c6cb452-7fb6-4707-ac7f-53a10500f30a"
      },
      "outputs": [
        {
          "name": "stdout",
          "output_type": "stream",
          "text": [
            "Recall: 0.500000\n"
          ]
        }
      ],
      "source": [
        "score=np.array([1, 8, 6, 9, 4])\n",
        "oracle=np.array([1, 0, 1, 4, 1])\n",
        "print(\"Recall: %f\" % Recall(oracle,score,k=3))"
      ]
    },
    {
      "cell_type": "markdown",
      "metadata": {
        "id": "RGK1_1DBmeI7"
      },
      "source": [
        "##### Precisão Média\n",
        "\n",
        "---\n",
        "Precisão e revocação são métricas de valores calculados a partir da lista completa de instâncias, sem considerar ordem. Quando tempos uma sequência ordenada de instâncias, é adequado que consideremos a ordem das instâncias no ranking. Considerando um evento com $n$ ocorrências (em ordem decrescente de valores preditos de relevância) e $m$ instâncias relevantes presentes no ranking, onde em cada ocorrência temos um valor predito de relevância $\\hat{y}_i$ e um valor de julgamento binário de relevância $y_i$, define-se Precisão Média ($AP$ do acrônimo em inglês para *Average Precision*) como:\n",
        "$$AP = \\frac{\\sum_{i=1}^{n} P(i) \\times y_i}{m}$$\n",
        "onde $P(i)$ é a precisão na posição de ranking $i$. Cabe ressaltar que a série de valores preditos de relevância deve estar ordenada descendentemente pelo valor predito de relevância $\\hat{y}_i$. No código abaixo, denominamos a série de valores preditos de relevância como `y_score` e a série de julgamentos binários de relevância como `y_true`:"
      ]
    },
    {
      "cell_type": "code",
      "execution_count": null,
      "metadata": {
        "id": "K920onmL0QDc"
      },
      "outputs": [],
      "source": [
        "def getPrecision(hits):\n",
        "    v=np.cumsum(hits)[::-1]\n",
        "    v=np.where((v[1:] - v[:-1]) == 0, 0, v[:-1])\n",
        "    v=np.append(v, hits[0])\n",
        "    pos=np.arange(len(hits))+1\n",
        "    return v[::-1] / pos\n",
        "\n",
        "def AveragePrecision(y_true, y_score, k=None, binary=True):\n",
        "    ranking = np.argsort(y_score)[::-1]\n",
        "    rating = y_true[ranking]\n",
        "    if k is not None:\n",
        "        rating = rating[0:k]\n",
        "    hits=np.where(rating > 0, 1, 0)\n",
        "    if binary:\n",
        "        rating=hits\n",
        "    precision = getPrecision(hits)\n",
        "    return (rating * precision).sum() / np.count_nonzero(hits)"
      ]
    },
    {
      "cell_type": "code",
      "execution_count": null,
      "metadata": {
        "colab": {
          "base_uri": "https://localhost:8080/",
          "height": 34
        },
        "id": "SAE7kZP_PfWJ",
        "outputId": "cc556331-e2ff-47a4-8f0f-e25a96558cae"
      },
      "outputs": [
        {
          "name": "stdout",
          "output_type": "stream",
          "text": [
            "AP: 0.833333\n"
          ]
        }
      ],
      "source": [
        "score=np.array([1, 8, 6, 9, 4])\n",
        "oracle=np.array([1, 0, 1, 4, 1])\n",
        "print(\"AP: %f\" % AveragePrecision(oracle,score,k=3))"
      ]
    },
    {
      "cell_type": "markdown",
      "metadata": {
        "id": "gvN-NSEsmhIK"
      },
      "source": [
        "##### nDCG\n",
        "\n",
        "---\n",
        "A métrica $nDCG$ (acrônimo em inglês para *normalized Discounted Cumulative Gain*) utiliza uma escala não-binária de julgamento de relevância para avaliar a relevância (ganho) de uma instância baseado na sua posição na lista de resultados. A premissa é que uma instância altamente relevante aparecendo em posições finais na lista de resultados deve ser penalizada com a redução de seu valor não-binário de relevância por um fator logarítmico proporcional a sua posição na lista. Particularmente, considerando um evento com $n$ ocorrências (em ordem decrescente de valores preditos de relevância), onde em cada ocorrência temos um valor predito de relevância $\\hat{y}_i$ e um valor de julgamento não-binário de relevância $y_i$, define-se $DCG$ (*Discounted Cumulative Gain*) como:\n",
        "$$DCG =  \\sum_{i=1}^{n} \\frac{y_i}{\\log_2 (i+1)}$$\n",
        "Para normalizar os valores de $DCG$, dividimo-os pelo valor de $IDCG$, ou seja, o valor de $DCG$ do melhor ordenamento possível (decrescente) dos valores de julgamento de relevância não-binários $y_i$:\n",
        "$$nDCG =  \\frac{DCG}{IDCG}$$\n"
      ]
    },
    {
      "cell_type": "code",
      "execution_count": null,
      "metadata": {
        "id": "O0S_MHx4SpuA"
      },
      "outputs": [],
      "source": [
        "def getCumulativeGain(y_true, y_score, k=None):\n",
        "    ranking = np.argsort(y_score)[::-1]\n",
        "    rating = y_true[ranking]\n",
        "    if k is not None:\n",
        "        rating = rating[0:k]    \n",
        "    logIndices = np.log2(np.arange(len(rating))+2)\n",
        "    return (rating / logIndices).sum()\n",
        "\n",
        "\n",
        "def nDCG(y_true, y_score, k=None):\n",
        "    gain = getCumulativeGain(y_true, y_score, k)\n",
        "    norm = getCumulativeGain(y_true[np.argsort(y_true)[::-1]], y_score[np.argsort(y_score)[::-1]], k)\n",
        "    return gain / norm"
      ]
    },
    {
      "cell_type": "code",
      "execution_count": null,
      "metadata": {
        "colab": {
          "base_uri": "https://localhost:8080/",
          "height": 51
        },
        "id": "neY4vf4gpeTb",
        "outputId": "d248ec6b-ae68-40c9-ec50-5d16ad87519f"
      },
      "outputs": [
        {
          "name": "stdout",
          "output_type": "stream",
          "text": [
            "DCG: 4.500000\n",
            "nDCG: 0.877034\n"
          ]
        }
      ],
      "source": [
        "score=np.array([1, 8, 6, 9, 4])\n",
        "oracle=np.array([1, 0, 1, 4, 1])\n",
        "print(\"DCG: %f\" % getCumulativeGain(oracle,score,k=3))\n",
        "print(\"nDCG: %f\" % nDCG(oracle,score,k=3))"
      ]
    },
    {
      "cell_type": "markdown",
      "metadata": {
        "id": "7PeaiHlAJqBY"
      },
      "source": [
        "### Modelos de Avaliação\n",
        "\n",
        "---\n",
        "\n",
        "Como existem diferenças na forma como as abordagens de recomendação são capazes de entregar os resultados, se faz necessário desenvolver diferentes modelos para avaliação das abordagens. Por exemplo, para abordagens capazes de entregar listas ordenadas (ranking) de recomendações é adequado utilizar modelos que avaliem a qualidade do ranking entregue. Já para abordagens capazes de entregar *ratings* de usuários em itens é adequado utilizar modelos que avaliem o quanto os *ratings* entregues são próximas dos *ratings* reais, aquelas o usuário efetivamente atribuiria a itens."
      ]
    },
    {
      "cell_type": "markdown",
      "metadata": {
        "id": "F6lVVV30Mx2W"
      },
      "source": [
        "#### Ranking\n",
        "\n",
        "---\n",
        "\n",
        "O modelo de avaliação de ranking aqui utilizado considera que cada abordagem avaliada seja capaz de sugerir aos usuários um ranking de $k$ itens relevantes. Particularmente, cada abordagem é capaz de associar a cada um dos $k$ items que o usuário não atribuiu *rating* uma medida (*score*) que permite a ordenação dos itens em uma lista de recomendação onde os top-$n$ elementos serão utilizados no cálculo da acurácia da abordagem."
      ]
    },
    {
      "cell_type": "code",
      "execution_count": null,
      "metadata": {
        "id": "c-kOEVXfF7NA"
      },
      "outputs": [],
      "source": [
        "class RankingEvaluator:\n",
        "     \n",
        "    def getRatedItems(self, user_id, ratingsDF):\n",
        "        ratedItems = ratingsDF.loc[user_id]['itemId']\n",
        "        return set(ratedItems if type(ratedItems) == pd.Series else [ratedItems])\n",
        "\n",
        "    def evaluateModelForUser(self, model, user_id, k=1000, n=10):\n",
        "        relevantItems = ratingsTestIndexedDF.loc[user_id]\n",
        "        if type(relevantItems['itemId']) == pd.Series:\n",
        "            relevantItems = set(relevantItems['itemId'])\n",
        "        else:\n",
        "            relevantItems = set([int(relevantItems['itemId'])])\n",
        "        if (not relevantItems or len(relevantItems) < n):\n",
        "            return {}\n",
        "          \n",
        "        APValue = 0\n",
        "        nDCG1Value = 0\n",
        "        nDCG3Value = 0\n",
        "        nDCG5Value = 0\n",
        "        nDCG10Value = 0\n",
        "        recommendationsDF = model.recommend(user_id, \n",
        "                                            items_to_ignore=self.getRatedItems(user_id, ratingsTrainIndexedDF), \n",
        "                                            topn=k)[['itemId', 'score']]\n",
        "        oracleDF = recommendationsDF['itemId'].isin(relevantItems)\n",
        "        if (any(oracleDF)):\n",
        "            APValue = AveragePrecision(oracleDF.values.flatten(), recommendationsDF['score'].values.flatten())\n",
        "            nDCG1Value = nDCG(oracleDF.values.flatten(), recommendationsDF['score'].values.flatten(), k=1)            \n",
        "            nDCG3Value = nDCG(oracleDF.values.flatten(), recommendationsDF['score'].values.flatten(), k=3)\n",
        "            nDCG5Value = nDCG(oracleDF.values.flatten(), recommendationsDF['score'].values.flatten(), k=5)\n",
        "            nDCG10Value = nDCG(oracleDF.values.flatten(), recommendationsDF['score'].values.flatten(), k=10)\n",
        "            \n",
        "        userMetrics = {'relevant': len(relevantItems), \n",
        "                      'AP': APValue,\n",
        "                      'nDCG@1': nDCG1Value,\n",
        "                      'nDCG@3': nDCG3Value,\n",
        "                      'nDCG@5': nDCG5Value,\n",
        "                      'nDCG@10': nDCG10Value}\n",
        "        return userMetrics\n",
        "\n",
        "    def evaluate(self, model, k=1000, n=10):\n",
        "        usersMetrics = []\n",
        "        for idx, user_id in enumerate(list(ratingsTestIndexedDF.index.unique().values)):\n",
        "            userMetrics = self.evaluateModelForUser(model, user_id, k, n) \n",
        "            if (not userMetrics):\n",
        "              continue;\n",
        "            userMetrics['userId'] = user_id\n",
        "            usersMetrics.append(userMetrics)\n",
        "\n",
        "        resultsDF = pd.DataFrame(usersMetrics) \\\n",
        "                      .sort_values('relevant', ascending=False)\n",
        "        \n",
        "        globalMAP = resultsDF['AP'].sum() / float(len(resultsDF))\n",
        "        globalNDCG1 = resultsDF['nDCG@1'].sum() / float(len(resultsDF))\n",
        "        globalNDCG3 = resultsDF['nDCG@3'].sum() / float(len(resultsDF))       \n",
        "        globalNDCG5 = resultsDF['nDCG@5'].sum() / float(len(resultsDF))\n",
        "        globalNDCG10 = resultsDF['nDCG@10'].sum() / float(len(resultsDF))\n",
        "\n",
        "        globalMetrics = {'modelName': model.getModelName(),\n",
        "                          'MAP': globalMAP,\n",
        "                          'nDCG@1': globalNDCG1,\n",
        "                          'nDCG@3': globalNDCG3,\n",
        "                          'nDCG@5': globalNDCG5,\n",
        "                          'nDCG@10': globalNDCG10}  \n",
        "        \n",
        "        return globalMetrics, resultsDF\n",
        "    \n",
        "rankingEvaluator = RankingEvaluator()"
      ]
    },
    {
      "cell_type": "markdown",
      "metadata": {
        "id": "YhbJYABzP6U_"
      },
      "source": [
        "Cabe ressaltar que as métricas de avaliação de acurácia utilizadas por esse modelo devem ser métricas de relevância que captem a qualidade do ranking entregue pela abordagem, tais como $P$, $R$, $AP$ e $nDCG$. "
      ]
    },
    {
      "cell_type": "markdown",
      "metadata": {
        "id": "lXz8gtd_POBQ"
      },
      "source": [
        "#### *Rating*\n",
        "\n",
        "---\n",
        "\n",
        "O modelo de avaliação de *rating* aqui utilizado considera que cada abordagem avaliada seja capaz de associar a cada um dos items que o usuário não atribuiu *rating* uma medida (*score*) que corresponde ao *rating* que o usuário efetivamente atribuiria ao item."
      ]
    },
    {
      "cell_type": "code",
      "execution_count": null,
      "metadata": {
        "id": "L9t2PEt4ix95"
      },
      "outputs": [],
      "source": [
        "class RatingEvaluator:\n",
        "     \n",
        "    def getRatedItems(self, user_id, ratingsDF):\n",
        "        ratedItems = ratingsDF.loc[user_id]['itemId']\n",
        "        return set(ratedItems if type(ratedItems) == pd.Series else [ratedItems])\n",
        "\n",
        "    def evaluateModelForUser(self, model, user_id):\n",
        "        MAEValue = 0\n",
        "        MSEValue = 0\n",
        "        RMSEValue = 0\n",
        "        recommendationsDF = model.recommend(user_id, \n",
        "                                            items_to_ignore=self.getRatedItems(user_id, ratingsTrainIndexedDF), \n",
        "                                            topn=1000000000)[['itemId', 'score']]\n",
        "        recommendationsDF.loc[:,'userId'] = pd.Series([user_id]*len(recommendationsDF))     \n",
        "        recommendationsDF = recommendationsDF.merge(ratingsTestDF, how = 'inner', \n",
        "                                                    left_on = ['userId','itemId'], \n",
        "                                                    right_on = ['userId','itemId'])[['userId','itemId','score','rating']]\n",
        "        if (not recommendationsDF.empty):\n",
        "            MAEValue = MAE(recommendationsDF['rating'].values.flatten(), recommendationsDF['score'].values.flatten())\n",
        "            MSEValue = MSE(recommendationsDF['rating'].values.flatten(), recommendationsDF['score'].values.flatten())\n",
        "            RMSEValue = RMSE(recommendationsDF['rating'].values.flatten(), recommendationsDF['score'].values.flatten())\n",
        "            \n",
        "        userMetrics = {'items': len(recommendationsDF), \n",
        "                      'MAE': MAEValue,\n",
        "                      'MSE': MSEValue,\n",
        "                      'RMSE': RMSEValue}\n",
        "        return (userMetrics, recommendationsDF)\n",
        "\n",
        "    def evaluate(self, model):\n",
        "        usersMetrics = []\n",
        "        recommendationsDF = pd.DataFrame(columns=['userId','itemId','score','rating'])\n",
        "        for idx, user_id in enumerate(list(ratingsTestIndexedDF.index.unique().values)):\n",
        "            userMetrics, recommendationDF = self.evaluateModelForUser(model, user_id) \n",
        "            if (recommendationDF.empty):\n",
        "              continue;\n",
        "            userMetrics['userId'] = user_id\n",
        "            usersMetrics.append(userMetrics)\n",
        "            recommendationsDF = recommendationsDF.append(recommendationDF)\n",
        "\n",
        "        resultsDF = pd.DataFrame(usersMetrics) \\\n",
        "                      .sort_values('items', ascending=False)\n",
        "        \n",
        "        globalMAE = MAE(recommendationsDF['rating'].values.flatten(), recommendationsDF['score'].values.flatten())\n",
        "        globalMSE = MSE(recommendationsDF['rating'].values.flatten(), recommendationsDF['score'].values.flatten())\n",
        "        globalRMSE = RMSE(recommendationsDF['rating'].values.flatten(), recommendationsDF['score'].values.flatten())       \n",
        "        \n",
        "        globalMetrics = {'modelName': model.getModelName(),\n",
        "                          'MAE': globalMAE,\n",
        "                          'MSE': globalMSE,\n",
        "                          'RMSE': globalRMSE}  \n",
        "        \n",
        "        return globalMetrics, resultsDF\n",
        "    \n",
        "ratingEvaluator = RatingEvaluator()"
      ]
    },
    {
      "cell_type": "markdown",
      "metadata": {
        "id": "C6Ae9F8qQguO"
      },
      "source": [
        "Cabe ressaltar que as métricas de avaliação de acurácia utilizadas por esse modelo devem ser métricas de erro que captem o quanto os *ratings* entregues pela abordagem estão próximas dos *ratings* efetivamente atribuídos pelo usuário, tais como $MAE$, $MSE$ e $RMSE$."
      ]
    },
    {
      "cell_type": "markdown",
      "metadata": {
        "id": "suexrWzoEuX9"
      },
      "source": [
        "### Técnicas de Validação\n",
        "\n",
        "---\n",
        "\n",
        "Uma das técnicas mais utilizadas para validação estatística de resultados experimentais é a [validação cruzada](https://pt.wikipedia.org/wiki/Valida%C3%A7%C3%A3o_cruzada) (*cross-validation*). O objetivo é observar como os resultados de uma análise experimental em uma amostra de dados podem ser generalizados considerando uma base de dados real. Particularmente, a técnica divide a análise experimental em rodadas (*rounds*), particionando a amostra de dados utilizada no experimento em subconjuntos complementares e, a partir daí, realizando a análise em um subconjunto de treino e validando os resultados em outro conjunto de teste. "
      ]
    },
    {
      "cell_type": "markdown",
      "metadata": {
        "id": "lDST5Z-zdecx"
      },
      "source": [
        "#### Holdout\n",
        "\n",
        "---\n",
        "\n",
        "O método de validação cruzada com  [holdout](https://pt.wikipedia.org/wiki/Valida%C3%A7%C3%A3o_cruzada#M%C3%A9todo_holdout), implica em escolhar aleatoriamente um percentual de amostras de dados para treino e o restante para teste. Ao final da iteração calculamos os valores das métricas de acurácia. Por essa razão é também conhecido como validação cruzada de rodada única. É comum utilizar grande parte dos dados para compor uma amostra aleatória de treino, algo entre 80% a 90%, e o restante para compor a amostra de teste."
      ]
    },
    {
      "cell_type": "markdown",
      "metadata": {
        "id": "OmLnqJTbVXvv"
      },
      "source": [
        "#### k-fold\n",
        "\n",
        "---\n",
        "\n",
        "Uma forma mais efetiva de avaliação seria adotar a [validação cruzada k-fold](https://pt.wikipedia.org/wiki/Valida%C3%A7%C3%A3o_cruzada#M%C3%A9todo_k-fold). Nela, dividimos nossa amostra de dados em $k$ subconjuntos mutuamente exclusivos de mesmo tamanho e, a partir daí, $k-1$ subconjuntos são utilizados para treino e o subconjunto remanescente é utilizado para teste. Este processo é realizado $k$ vezes alternando de forma circular o subconjunto de teste. Ao final das $k$ iterações calculamos os valores médios das métricas de acurácia nessas diversas rodadas de avaliação.\n",
        "\n"
      ]
    },
    {
      "cell_type": "markdown",
      "metadata": {
        "id": "Bm1Q3tE08KwA"
      },
      "source": [
        "Podemos tornar a avaliação ainda mais efetiva se não dividirmos os conjuntos de treino e teste aleatoriamente, mas por datas de referência por exemplo. Nesse caso, o conjunto de treino seria composto por todas as avaliações anteriores a uma determinada data e o conjunto de teste seria formado pelas avaliações restantes. Assim, poderíamos simular o desempenho de uma abordagem para predições futuras."
      ]
    },
    {
      "cell_type": "markdown",
      "metadata": {
        "id": "xHkVQ2csV38F"
      },
      "source": [
        "## Experimentos e Resultados\n",
        "\n",
        "---\n",
        "\n",
        "Nossa avaliação se concentrará no aspecto da acurácia e usaremos o método de validação cruzada com  [holdout](https://pt.wikipedia.org/wiki/Valida%C3%A7%C3%A3o_cruzada#M%C3%A9todo_holdout) com uma amostra aleatória de 80% dos dados para treino das abordagens de recomendação e os 20% restantes para teste.\n",
        "Para todas as abordagens avaliadas utilizaremos o modelo de avaliação de ranking reportando as métricas $MAP$ (acrônimo em inglês para *Mean Average Precision*), $nDCG@1$, $nDCG@3$, $nDCG@5$ e $nDCG@10$ e para as abordagens de filtragem colaborativa utilizaremos também o modelo de avaliação de *rating* reportando as métricas $MAE$, $MSE$ e $RMSE$, uma vez que se trata de abordagens capazes de entregar, além de listas de recomendações, *ratings* de usuários em itens."
      ]
    },
    {
      "cell_type": "code",
      "execution_count": null,
      "metadata": {
        "colab": {
          "base_uri": "https://localhost:8080/",
          "height": 51
        },
        "id": "z4QG1o9OFrHZ",
        "outputId": "e42e0789-98d6-41b8-a130-d7a4c07c92aa"
      },
      "outputs": [
        {
          "name": "stdout",
          "output_type": "stream",
          "text": [
            "# de ratings no subconjunto de treino: 35991\n",
            "# de ratings no subconjunto de teste: 8998\n"
          ]
        }
      ],
      "source": [
        "ratingsTrainDF, ratingsTestDF = train_test_split(ratingsDF,\n",
        "                                                 stratify=ratingsDF['userId'], \n",
        "                                                 test_size=0.20,\n",
        "                                                 random_state=73)\n",
        "\n",
        "print('# de ratings no subconjunto de treino: %d' % len(ratingsTrainDF))\n",
        "print('# de ratings no subconjunto de teste: %d' % len(ratingsTestDF))"
      ]
    },
    {
      "cell_type": "code",
      "execution_count": null,
      "metadata": {
        "id": "0oL0VKeDF0aN"
      },
      "outputs": [],
      "source": [
        "#Indexing by userId to speed up the searches during evaluation\n",
        "ratingsIndexedDF = ratingsDF.set_index('userId')\n",
        "ratingsTrainIndexedDF = ratingsTrainDF.set_index('userId')\n",
        "ratingsTestIndexedDF = ratingsTestDF.set_index('userId')"
      ]
    },
    {
      "cell_type": "markdown",
      "metadata": {
        "id": "qlGq8-a-y7cV"
      },
      "source": [
        "### Popularidade\n",
        "\n",
        "---\n",
        "\n"
      ]
    },
    {
      "cell_type": "code",
      "execution_count": null,
      "metadata": {
        "colab": {
          "base_uri": "https://localhost:8080/",
          "height": 105
        },
        "id": "NvCEmfRDG1LD",
        "outputId": "545fd1c4-b5ce-4f45-f7c6-4f3ca2fd374b"
      },
      "outputs": [
        {
          "name": "stdout",
          "output_type": "stream",
          "text": [
            "Avaliando a abordagem PB...\n",
            "\n",
            "Métricas Globais:\n",
            "{'modelName': 'PB', 'MAP': 0.15822668793437664, 'nDCG@1': 0.36742424242424243, 'nDCG@3': 0.3225414210509233, 'nDCG@5': 0.29469127729147, 'nDCG@10': 0.2626676758723968}\n"
          ]
        }
      ],
      "source": [
        "print('Avaliando a abordagem %s...' % PBModel.getModelName())\n",
        "PBGlobalMetricsRankingDF, PBDetailedMetricsRankingDF = rankingEvaluator.evaluate(PBModel)\n",
        "print('\\nMétricas Globais:\\n%s' % PBGlobalMetricsRankingDF)"
      ]
    },
    {
      "cell_type": "code",
      "execution_count": null,
      "metadata": {
        "colab": {
          "base_uri": "https://localhost:8080/",
          "height": 204
        },
        "id": "_CYbboViN-CP",
        "outputId": "9b4bf091-a47d-43e7-82aa-8b0eb1acc044"
      },
      "outputs": [
        {
          "data": {
            "text/html": [
              "<div>\n",
              "<style scoped>\n",
              "    .dataframe tbody tr th:only-of-type {\n",
              "        vertical-align: middle;\n",
              "    }\n",
              "\n",
              "    .dataframe tbody tr th {\n",
              "        vertical-align: top;\n",
              "    }\n",
              "\n",
              "    .dataframe thead th {\n",
              "        text-align: right;\n",
              "    }\n",
              "</style>\n",
              "<table border=\"1\" class=\"dataframe\">\n",
              "  <thead>\n",
              "    <tr style=\"text-align: right;\">\n",
              "      <th></th>\n",
              "      <th>userId</th>\n",
              "      <th>relevant</th>\n",
              "      <th>AP</th>\n",
              "      <th>nDCG@1</th>\n",
              "      <th>nDCG@3</th>\n",
              "      <th>nDCG@5</th>\n",
              "      <th>nDCG@10</th>\n",
              "    </tr>\n",
              "  </thead>\n",
              "  <tbody>\n",
              "    <tr>\n",
              "      <th>125</th>\n",
              "      <td>2</td>\n",
              "      <td>12</td>\n",
              "      <td>0.108701</td>\n",
              "      <td>0.0</td>\n",
              "      <td>0.0</td>\n",
              "      <td>0.146068</td>\n",
              "      <td>0.168152</td>\n",
              "    </tr>\n",
              "    <tr>\n",
              "      <th>52</th>\n",
              "      <td>4</td>\n",
              "      <td>23</td>\n",
              "      <td>0.055603</td>\n",
              "      <td>0.0</td>\n",
              "      <td>0.0</td>\n",
              "      <td>0.146068</td>\n",
              "      <td>0.094788</td>\n",
              "    </tr>\n",
              "    <tr>\n",
              "      <th>189</th>\n",
              "      <td>5</td>\n",
              "      <td>11</td>\n",
              "      <td>0.110348</td>\n",
              "      <td>0.0</td>\n",
              "      <td>0.0</td>\n",
              "      <td>0.000000</td>\n",
              "      <td>0.066254</td>\n",
              "    </tr>\n",
              "    <tr>\n",
              "      <th>108</th>\n",
              "      <td>15</td>\n",
              "      <td>113</td>\n",
              "      <td>0.553360</td>\n",
              "      <td>1.0</td>\n",
              "      <td>1.0</td>\n",
              "      <td>0.853932</td>\n",
              "      <td>0.905212</td>\n",
              "    </tr>\n",
              "    <tr>\n",
              "      <th>139</th>\n",
              "      <td>17</td>\n",
              "      <td>28</td>\n",
              "      <td>0.063873</td>\n",
              "      <td>0.0</td>\n",
              "      <td>0.0</td>\n",
              "      <td>0.000000</td>\n",
              "      <td>0.000000</td>\n",
              "    </tr>\n",
              "  </tbody>\n",
              "</table>\n",
              "</div>"
            ],
            "text/plain": [
              "     userId  relevant        AP  nDCG@1  nDCG@3    nDCG@5   nDCG@10\n",
              "125       2        12  0.108701     0.0     0.0  0.146068  0.168152\n",
              "52        4        23  0.055603     0.0     0.0  0.146068  0.094788\n",
              "189       5        11  0.110348     0.0     0.0  0.000000  0.066254\n",
              "108      15       113  0.553360     1.0     1.0  0.853932  0.905212\n",
              "139      17        28  0.063873     0.0     0.0  0.000000  0.000000"
            ]
          },
          "execution_count": 80,
          "metadata": {
            "tags": []
          },
          "output_type": "execute_result"
        }
      ],
      "source": [
        "PBDetailedMetricsRankingDF = PBDetailedMetricsRankingDF[['userId', 'relevant', 'AP', 'nDCG@1', 'nDCG@3', 'nDCG@5', 'nDCG@10']]\n",
        "PBDetailedMetricsRankingDF.sort_values(by=['userId']).head(5)"
      ]
    },
    {
      "cell_type": "markdown",
      "metadata": {
        "id": "xbNHGwR3zB5T"
      },
      "source": [
        "### Filtragem Colaborativa\n",
        "\n",
        "---\n",
        "\n"
      ]
    },
    {
      "cell_type": "code",
      "execution_count": null,
      "metadata": {
        "id": "iOz09Cx1ywGt"
      },
      "outputs": [],
      "source": [
        "usersItemsDF = ratingsTrainDF.pivot(index='userId',                           \n",
        "                                    columns='itemId', \n",
        "                                    values='rating').fillna(0)\n",
        "usersItemsMatrix = usersItemsDF.as_matrix()\n",
        "usersSimilarity = pairwise_distances(usersItemsMatrix, metric='cosine')\n",
        "meanUserRating = usersItemsMatrix.mean(axis=1)\n",
        "DiffRating = (usersItemsMatrix - meanUserRating[:, np.newaxis])\n",
        "predictedRatings = meanUserRating[:, np.newaxis] + usersSimilarity.dot(DiffRating) / np.array([np.abs(usersSimilarity).sum(axis=1)]).T\n",
        "CFPredictionsDF = pd.DataFrame(predictedRatings, columns = usersItemsDF.columns, index=usersIds).transpose()\n",
        "UBModel = CFRecommender('CF-UB',CFPredictionsDF, itemsDF)"
      ]
    },
    {
      "cell_type": "code",
      "execution_count": null,
      "metadata": {
        "colab": {
          "base_uri": "https://localhost:8080/",
          "height": 105
        },
        "id": "Xn4O2cX676G1",
        "outputId": "09b16bfb-2d7d-4706-9865-4e640b112f2f"
      },
      "outputs": [
        {
          "name": "stdout",
          "output_type": "stream",
          "text": [
            "Avaliando a abordagem CF-UB...\n",
            "\n",
            "Métricas Globais:\n",
            "{'modelName': 'CF-UB', 'MAP': 0.15131257593213412, 'nDCG@1': 0.3560606060606061, 'nDCG@3': 0.31234146930763707, 'nDCG@5': 0.27820479956548705, 'nDCG@10': 0.2506124106918677}\n"
          ]
        }
      ],
      "source": [
        "print('Avaliando a abordagem %s...' % UBModel.getModelName())\n",
        "UBGlobalMetricsRankingDF, UBDetailedMetricsRankingDF = rankingEvaluator.evaluate(UBModel)\n",
        "print('\\nMétricas Globais:\\n%s' % UBGlobalMetricsRankingDF)"
      ]
    },
    {
      "cell_type": "code",
      "execution_count": null,
      "metadata": {
        "colab": {
          "base_uri": "https://localhost:8080/",
          "height": 204
        },
        "id": "lYPbEoRr8MSZ",
        "outputId": "1939f11a-4aa8-4e9b-a4e9-95183c35fa1f"
      },
      "outputs": [
        {
          "data": {
            "text/html": [
              "<div>\n",
              "<style scoped>\n",
              "    .dataframe tbody tr th:only-of-type {\n",
              "        vertical-align: middle;\n",
              "    }\n",
              "\n",
              "    .dataframe tbody tr th {\n",
              "        vertical-align: top;\n",
              "    }\n",
              "\n",
              "    .dataframe thead th {\n",
              "        text-align: right;\n",
              "    }\n",
              "</style>\n",
              "<table border=\"1\" class=\"dataframe\">\n",
              "  <thead>\n",
              "    <tr style=\"text-align: right;\">\n",
              "      <th></th>\n",
              "      <th>userId</th>\n",
              "      <th>relevant</th>\n",
              "      <th>AP</th>\n",
              "      <th>nDCG@1</th>\n",
              "      <th>nDCG@3</th>\n",
              "      <th>nDCG@5</th>\n",
              "      <th>nDCG@10</th>\n",
              "    </tr>\n",
              "  </thead>\n",
              "  <tbody>\n",
              "    <tr>\n",
              "      <th>125</th>\n",
              "      <td>2</td>\n",
              "      <td>12</td>\n",
              "      <td>0.082543</td>\n",
              "      <td>0.0</td>\n",
              "      <td>0.0</td>\n",
              "      <td>0.000000</td>\n",
              "      <td>0.136985</td>\n",
              "    </tr>\n",
              "    <tr>\n",
              "      <th>52</th>\n",
              "      <td>4</td>\n",
              "      <td>23</td>\n",
              "      <td>0.055011</td>\n",
              "      <td>0.0</td>\n",
              "      <td>0.0</td>\n",
              "      <td>0.146068</td>\n",
              "      <td>0.094788</td>\n",
              "    </tr>\n",
              "    <tr>\n",
              "      <th>189</th>\n",
              "      <td>5</td>\n",
              "      <td>11</td>\n",
              "      <td>0.106611</td>\n",
              "      <td>0.0</td>\n",
              "      <td>0.0</td>\n",
              "      <td>0.000000</td>\n",
              "      <td>0.069431</td>\n",
              "    </tr>\n",
              "    <tr>\n",
              "      <th>108</th>\n",
              "      <td>15</td>\n",
              "      <td>113</td>\n",
              "      <td>0.558989</td>\n",
              "      <td>1.0</td>\n",
              "      <td>1.0</td>\n",
              "      <td>0.853932</td>\n",
              "      <td>0.905212</td>\n",
              "    </tr>\n",
              "    <tr>\n",
              "      <th>139</th>\n",
              "      <td>17</td>\n",
              "      <td>28</td>\n",
              "      <td>0.056074</td>\n",
              "      <td>0.0</td>\n",
              "      <td>0.0</td>\n",
              "      <td>0.000000</td>\n",
              "      <td>0.000000</td>\n",
              "    </tr>\n",
              "  </tbody>\n",
              "</table>\n",
              "</div>"
            ],
            "text/plain": [
              "     userId  relevant        AP  nDCG@1  nDCG@3    nDCG@5   nDCG@10\n",
              "125       2        12  0.082543     0.0     0.0  0.000000  0.136985\n",
              "52        4        23  0.055011     0.0     0.0  0.146068  0.094788\n",
              "189       5        11  0.106611     0.0     0.0  0.000000  0.069431\n",
              "108      15       113  0.558989     1.0     1.0  0.853932  0.905212\n",
              "139      17        28  0.056074     0.0     0.0  0.000000  0.000000"
            ]
          },
          "execution_count": 83,
          "metadata": {
            "tags": []
          },
          "output_type": "execute_result"
        }
      ],
      "source": [
        "UBDetailedMetricsRankingDF = UBDetailedMetricsRankingDF[['userId', 'relevant', 'AP', 'nDCG@1', 'nDCG@3', 'nDCG@5', 'nDCG@10']]\n",
        "UBDetailedMetricsRankingDF.sort_values(by=['userId']).head(5)"
      ]
    },
    {
      "cell_type": "code",
      "execution_count": null,
      "metadata": {
        "colab": {
          "base_uri": "https://localhost:8080/",
          "height": 85
        },
        "id": "YPoBcaI2dP0F",
        "outputId": "cd685279-44ac-40e5-d757-8ceaabad3bc6"
      },
      "outputs": [
        {
          "name": "stdout",
          "output_type": "stream",
          "text": [
            "Avaliando a abordagem CF-UB...\n",
            "\n",
            "Métricas Globais:\n",
            "{'modelName': 'CF-UB', 'MAE': 3.1382009155616135, 'MSE': 10.923634761102752, 'RMSE': 3.305092246988388}\n"
          ]
        }
      ],
      "source": [
        "print('Avaliando a abordagem %s...' % UBModel.getModelName())\n",
        "UBGlobalMetricsRatingDF, UBDetailedMetricsRatingDF = ratingEvaluator.evaluate(UBModel)\n",
        "print('\\nMétricas Globais:\\n%s' % UBGlobalMetricsRatingDF)"
      ]
    },
    {
      "cell_type": "code",
      "execution_count": null,
      "metadata": {
        "colab": {
          "base_uri": "https://localhost:8080/",
          "height": 204
        },
        "id": "4PUxW-X5dcLA",
        "outputId": "09bfe066-2e75-4687-f981-0ce95f8be746"
      },
      "outputs": [
        {
          "data": {
            "text/html": [
              "<div>\n",
              "<style scoped>\n",
              "    .dataframe tbody tr th:only-of-type {\n",
              "        vertical-align: middle;\n",
              "    }\n",
              "\n",
              "    .dataframe tbody tr th {\n",
              "        vertical-align: top;\n",
              "    }\n",
              "\n",
              "    .dataframe thead th {\n",
              "        text-align: right;\n",
              "    }\n",
              "</style>\n",
              "<table border=\"1\" class=\"dataframe\">\n",
              "  <thead>\n",
              "    <tr style=\"text-align: right;\">\n",
              "      <th></th>\n",
              "      <th>userId</th>\n",
              "      <th>items</th>\n",
              "      <th>MAE</th>\n",
              "      <th>MSE</th>\n",
              "      <th>RMSE</th>\n",
              "    </tr>\n",
              "  </thead>\n",
              "  <tbody>\n",
              "    <tr>\n",
              "      <th>370</th>\n",
              "      <td>1</td>\n",
              "      <td>1</td>\n",
              "      <td>0.900551</td>\n",
              "      <td>0.810992</td>\n",
              "      <td>0.900551</td>\n",
              "    </tr>\n",
              "    <tr>\n",
              "      <th>184</th>\n",
              "      <td>2</td>\n",
              "      <td>12</td>\n",
              "      <td>3.427236</td>\n",
              "      <td>12.622670</td>\n",
              "      <td>3.552840</td>\n",
              "    </tr>\n",
              "    <tr>\n",
              "      <th>172</th>\n",
              "      <td>3</td>\n",
              "      <td>5</td>\n",
              "      <td>2.643524</td>\n",
              "      <td>7.296140</td>\n",
              "      <td>2.701137</td>\n",
              "    </tr>\n",
              "    <tr>\n",
              "      <th>67</th>\n",
              "      <td>4</td>\n",
              "      <td>23</td>\n",
              "      <td>3.999656</td>\n",
              "      <td>16.509655</td>\n",
              "      <td>4.063208</td>\n",
              "    </tr>\n",
              "    <tr>\n",
              "      <th>302</th>\n",
              "      <td>5</td>\n",
              "      <td>11</td>\n",
              "      <td>3.215963</td>\n",
              "      <td>11.312145</td>\n",
              "      <td>3.363353</td>\n",
              "    </tr>\n",
              "  </tbody>\n",
              "</table>\n",
              "</div>"
            ],
            "text/plain": [
              "     userId  items       MAE        MSE      RMSE\n",
              "370       1      1  0.900551   0.810992  0.900551\n",
              "184       2     12  3.427236  12.622670  3.552840\n",
              "172       3      5  2.643524   7.296140  2.701137\n",
              "67        4     23  3.999656  16.509655  4.063208\n",
              "302       5     11  3.215963  11.312145  3.363353"
            ]
          },
          "execution_count": 85,
          "metadata": {
            "tags": []
          },
          "output_type": "execute_result"
        }
      ],
      "source": [
        "UBDetailedMetricsRatingDF = UBDetailedMetricsRatingDF[['userId', 'items', 'MAE', 'MSE', 'RMSE']]\n",
        "UBDetailedMetricsRatingDF.sort_values(by=['userId']).head(5)"
      ]
    },
    {
      "cell_type": "code",
      "execution_count": null,
      "metadata": {
        "id": "GOFR-a-TzkvG"
      },
      "outputs": [],
      "source": [
        "itemsSimilarity = pairwise_distances(usersItemsMatrix.T, metric='cosine')\n",
        "predictedRatings = usersItemsMatrix.dot(itemsSimilarity) / np.array([np.abs(itemsSimilarity).sum(axis=1)])\n",
        "CFPredictionsDF = pd.DataFrame(predictedRatings, columns = usersItemsDF.columns, index=usersIds).transpose()\n",
        "IBModel = CFRecommender('CF-IB',CFPredictionsDF, itemsDF)"
      ]
    },
    {
      "cell_type": "code",
      "execution_count": null,
      "metadata": {
        "colab": {
          "base_uri": "https://localhost:8080/",
          "height": 105
        },
        "id": "purCWm-l984i",
        "outputId": "d61e145b-385e-420d-8777-d3c446340738"
      },
      "outputs": [
        {
          "name": "stdout",
          "output_type": "stream",
          "text": [
            "Avaliando a abordagem CF-IB...\n",
            "\n",
            "Métricas Globais:\n",
            "{'modelName': 'CF-IB', 'MAP': 0.0013625277997292725, 'nDCG@1': 0.0, 'nDCG@3': 0.001893939393939394, 'nDCG@5': 0.001893939393939394, 'nDCG@10': 0.001893939393939394}\n"
          ]
        }
      ],
      "source": [
        "print('Avaliando a abordagem %s...' % IBModel.getModelName())\n",
        "IBGlobalMetricsRankingDF, IBDetailedMetricsRankingDF = rankingEvaluator.evaluate(IBModel)\n",
        "print('\\nMétricas Globais:\\n%s' % IBGlobalMetricsRankingDF)"
      ]
    },
    {
      "cell_type": "code",
      "execution_count": null,
      "metadata": {
        "colab": {
          "base_uri": "https://localhost:8080/",
          "height": 204
        },
        "id": "7fhsouMG-qXK",
        "outputId": "8af34708-211a-4239-9fa6-282580d18811"
      },
      "outputs": [
        {
          "data": {
            "text/html": [
              "<div>\n",
              "<style scoped>\n",
              "    .dataframe tbody tr th:only-of-type {\n",
              "        vertical-align: middle;\n",
              "    }\n",
              "\n",
              "    .dataframe tbody tr th {\n",
              "        vertical-align: top;\n",
              "    }\n",
              "\n",
              "    .dataframe thead th {\n",
              "        text-align: right;\n",
              "    }\n",
              "</style>\n",
              "<table border=\"1\" class=\"dataframe\">\n",
              "  <thead>\n",
              "    <tr style=\"text-align: right;\">\n",
              "      <th></th>\n",
              "      <th>userId</th>\n",
              "      <th>relevant</th>\n",
              "      <th>AP</th>\n",
              "      <th>nDCG@1</th>\n",
              "      <th>nDCG@3</th>\n",
              "      <th>nDCG@5</th>\n",
              "      <th>nDCG@10</th>\n",
              "    </tr>\n",
              "  </thead>\n",
              "  <tbody>\n",
              "    <tr>\n",
              "      <th>125</th>\n",
              "      <td>2</td>\n",
              "      <td>12</td>\n",
              "      <td>0.000000</td>\n",
              "      <td>0.0</td>\n",
              "      <td>0.0</td>\n",
              "      <td>0.0</td>\n",
              "      <td>0.0</td>\n",
              "    </tr>\n",
              "    <tr>\n",
              "      <th>52</th>\n",
              "      <td>4</td>\n",
              "      <td>23</td>\n",
              "      <td>0.001259</td>\n",
              "      <td>0.0</td>\n",
              "      <td>0.0</td>\n",
              "      <td>0.0</td>\n",
              "      <td>0.0</td>\n",
              "    </tr>\n",
              "    <tr>\n",
              "      <th>189</th>\n",
              "      <td>5</td>\n",
              "      <td>11</td>\n",
              "      <td>0.000000</td>\n",
              "      <td>0.0</td>\n",
              "      <td>0.0</td>\n",
              "      <td>0.0</td>\n",
              "      <td>0.0</td>\n",
              "    </tr>\n",
              "    <tr>\n",
              "      <th>108</th>\n",
              "      <td>15</td>\n",
              "      <td>113</td>\n",
              "      <td>0.014083</td>\n",
              "      <td>0.0</td>\n",
              "      <td>0.0</td>\n",
              "      <td>0.0</td>\n",
              "      <td>0.0</td>\n",
              "    </tr>\n",
              "    <tr>\n",
              "      <th>139</th>\n",
              "      <td>17</td>\n",
              "      <td>28</td>\n",
              "      <td>0.001186</td>\n",
              "      <td>0.0</td>\n",
              "      <td>0.0</td>\n",
              "      <td>0.0</td>\n",
              "      <td>0.0</td>\n",
              "    </tr>\n",
              "  </tbody>\n",
              "</table>\n",
              "</div>"
            ],
            "text/plain": [
              "     userId  relevant        AP  nDCG@1  nDCG@3  nDCG@5  nDCG@10\n",
              "125       2        12  0.000000     0.0     0.0     0.0      0.0\n",
              "52        4        23  0.001259     0.0     0.0     0.0      0.0\n",
              "189       5        11  0.000000     0.0     0.0     0.0      0.0\n",
              "108      15       113  0.014083     0.0     0.0     0.0      0.0\n",
              "139      17        28  0.001186     0.0     0.0     0.0      0.0"
            ]
          },
          "execution_count": 88,
          "metadata": {
            "tags": []
          },
          "output_type": "execute_result"
        }
      ],
      "source": [
        "IBDetailedMetricsRankingDF = IBDetailedMetricsRankingDF[['userId', 'relevant', 'AP', 'nDCG@1', 'nDCG@3', 'nDCG@5', 'nDCG@10']]\n",
        "IBDetailedMetricsRankingDF.sort_values(by=['userId']).head(5)"
      ]
    },
    {
      "cell_type": "code",
      "execution_count": null,
      "metadata": {
        "colab": {
          "base_uri": "https://localhost:8080/",
          "height": 85
        },
        "id": "YWF4maB6eKYb",
        "outputId": "56f64269-b022-45e2-911d-a1d07fe6314b"
      },
      "outputs": [
        {
          "name": "stdout",
          "output_type": "stream",
          "text": [
            "Avaliando a abordagem CF-IB...\n",
            "\n",
            "Métricas Globais:\n",
            "{'modelName': 'CF-IB', 'MAE': 3.3088777524970236, 'MSE': 12.181068395235782, 'RMSE': 3.490138735814922}\n"
          ]
        }
      ],
      "source": [
        "print('Avaliando a abordagem %s...' % IBModel.getModelName())\n",
        "IBGlobalMetricsRatingDF, IBDetailedMetricsRatingDF = ratingEvaluator.evaluate(IBModel)\n",
        "print('\\nMétricas Globais:\\n%s' % IBGlobalMetricsRatingDF)"
      ]
    },
    {
      "cell_type": "code",
      "execution_count": null,
      "metadata": {
        "colab": {
          "base_uri": "https://localhost:8080/",
          "height": 204
        },
        "id": "2dCRxrRlen71",
        "outputId": "f31c20e0-2722-453c-f51c-8c6c7e0a9f0a"
      },
      "outputs": [
        {
          "data": {
            "text/html": [
              "<div>\n",
              "<style scoped>\n",
              "    .dataframe tbody tr th:only-of-type {\n",
              "        vertical-align: middle;\n",
              "    }\n",
              "\n",
              "    .dataframe tbody tr th {\n",
              "        vertical-align: top;\n",
              "    }\n",
              "\n",
              "    .dataframe thead th {\n",
              "        text-align: right;\n",
              "    }\n",
              "</style>\n",
              "<table border=\"1\" class=\"dataframe\">\n",
              "  <thead>\n",
              "    <tr style=\"text-align: right;\">\n",
              "      <th></th>\n",
              "      <th>userId</th>\n",
              "      <th>items</th>\n",
              "      <th>MAE</th>\n",
              "      <th>MSE</th>\n",
              "      <th>RMSE</th>\n",
              "    </tr>\n",
              "  </thead>\n",
              "  <tbody>\n",
              "    <tr>\n",
              "      <th>370</th>\n",
              "      <td>1</td>\n",
              "      <td>1</td>\n",
              "      <td>0.995757</td>\n",
              "      <td>0.991532</td>\n",
              "      <td>0.995757</td>\n",
              "    </tr>\n",
              "    <tr>\n",
              "      <th>184</th>\n",
              "      <td>2</td>\n",
              "      <td>5</td>\n",
              "      <td>4.549639</td>\n",
              "      <td>20.939325</td>\n",
              "      <td>4.575951</td>\n",
              "    </tr>\n",
              "    <tr>\n",
              "      <th>172</th>\n",
              "      <td>3</td>\n",
              "      <td>2</td>\n",
              "      <td>3.226992</td>\n",
              "      <td>10.476722</td>\n",
              "      <td>3.236777</td>\n",
              "    </tr>\n",
              "    <tr>\n",
              "      <th>67</th>\n",
              "      <td>4</td>\n",
              "      <td>20</td>\n",
              "      <td>4.118606</td>\n",
              "      <td>17.552883</td>\n",
              "      <td>4.189616</td>\n",
              "    </tr>\n",
              "    <tr>\n",
              "      <th>302</th>\n",
              "      <td>5</td>\n",
              "      <td>8</td>\n",
              "      <td>3.571402</td>\n",
              "      <td>13.865774</td>\n",
              "      <td>3.723678</td>\n",
              "    </tr>\n",
              "  </tbody>\n",
              "</table>\n",
              "</div>"
            ],
            "text/plain": [
              "     userId  items       MAE        MSE      RMSE\n",
              "370       1      1  0.995757   0.991532  0.995757\n",
              "184       2      5  4.549639  20.939325  4.575951\n",
              "172       3      2  3.226992  10.476722  3.236777\n",
              "67        4     20  4.118606  17.552883  4.189616\n",
              "302       5      8  3.571402  13.865774  3.723678"
            ]
          },
          "execution_count": 90,
          "metadata": {
            "tags": []
          },
          "output_type": "execute_result"
        }
      ],
      "source": [
        "IBDetailedMetricsRatingDF = IBDetailedMetricsRatingDF[['userId', 'items', 'MAE', 'MSE', 'RMSE']]\n",
        "IBDetailedMetricsRatingDF.sort_values(by=['userId']).head(5)"
      ]
    },
    {
      "cell_type": "code",
      "execution_count": null,
      "metadata": {
        "id": "8_bGsbA3z6la"
      },
      "outputs": [],
      "source": [
        "#Performs matrix factorization of the original user item matrix\n",
        "U, sigma, Vt = svds(usersItemsMatrix, k=15)\n",
        "sigma = np.diag(sigma)\n",
        "predictedRatings = np.dot(np.dot(U, sigma), Vt) \n",
        "CFPredictionsDF = pd.DataFrame(predictedRatings, columns = usersItemsDF.columns, index=usersIds).transpose()\n",
        "SVDModel = CFRecommender('CF-SVD',CFPredictionsDF, itemsDF)"
      ]
    },
    {
      "cell_type": "code",
      "execution_count": null,
      "metadata": {
        "colab": {
          "base_uri": "https://localhost:8080/",
          "height": 105
        },
        "id": "OYmgEe91InPU",
        "outputId": "67ab72be-bdaa-4ede-fd70-b7b67b18a4b5"
      },
      "outputs": [
        {
          "name": "stdout",
          "output_type": "stream",
          "text": [
            "Avaliando a abordagem CF-SVD...\n",
            "\n",
            "Métricas Globais:\n",
            "{'modelName': 'CF-SVD', 'MAP': 0.2581748739287532, 'nDCG@1': 0.571969696969697, 'nDCG@3': 0.5052483883350573, 'nDCG@5': 0.4803589426590167, 'nDCG@10': 0.4095631375632427}\n"
          ]
        }
      ],
      "source": [
        "print('Avaliando a abordagem %s...' % SVDModel.getModelName())\n",
        "SVDGlobalMetricsRankingDF, SVDDetailedMetricsRankingDF = rankingEvaluator.evaluate(SVDModel)\n",
        "print('\\nMétricas Globais:\\n%s' % SVDGlobalMetricsRankingDF)"
      ]
    },
    {
      "cell_type": "code",
      "execution_count": null,
      "metadata": {
        "colab": {
          "base_uri": "https://localhost:8080/",
          "height": 204
        },
        "id": "ebJGOgZyQPJo",
        "outputId": "cf730451-1114-40af-db2c-54ef3bedc303"
      },
      "outputs": [
        {
          "data": {
            "text/html": [
              "<div>\n",
              "<style scoped>\n",
              "    .dataframe tbody tr th:only-of-type {\n",
              "        vertical-align: middle;\n",
              "    }\n",
              "\n",
              "    .dataframe tbody tr th {\n",
              "        vertical-align: top;\n",
              "    }\n",
              "\n",
              "    .dataframe thead th {\n",
              "        text-align: right;\n",
              "    }\n",
              "</style>\n",
              "<table border=\"1\" class=\"dataframe\">\n",
              "  <thead>\n",
              "    <tr style=\"text-align: right;\">\n",
              "      <th></th>\n",
              "      <th>userId</th>\n",
              "      <th>relevant</th>\n",
              "      <th>AP</th>\n",
              "      <th>nDCG@1</th>\n",
              "      <th>nDCG@3</th>\n",
              "      <th>nDCG@5</th>\n",
              "      <th>nDCG@10</th>\n",
              "    </tr>\n",
              "  </thead>\n",
              "  <tbody>\n",
              "    <tr>\n",
              "      <th>125</th>\n",
              "      <td>2</td>\n",
              "      <td>12</td>\n",
              "      <td>0.358489</td>\n",
              "      <td>0.0</td>\n",
              "      <td>0.296082</td>\n",
              "      <td>0.345191</td>\n",
              "      <td>0.297369</td>\n",
              "    </tr>\n",
              "    <tr>\n",
              "      <th>52</th>\n",
              "      <td>4</td>\n",
              "      <td>23</td>\n",
              "      <td>0.186376</td>\n",
              "      <td>0.0</td>\n",
              "      <td>0.296082</td>\n",
              "      <td>0.491260</td>\n",
              "      <td>0.318794</td>\n",
              "    </tr>\n",
              "    <tr>\n",
              "      <th>189</th>\n",
              "      <td>5</td>\n",
              "      <td>11</td>\n",
              "      <td>0.300979</td>\n",
              "      <td>1.0</td>\n",
              "      <td>0.469279</td>\n",
              "      <td>0.485229</td>\n",
              "      <td>0.393278</td>\n",
              "    </tr>\n",
              "    <tr>\n",
              "      <th>108</th>\n",
              "      <td>15</td>\n",
              "      <td>113</td>\n",
              "      <td>0.424804</td>\n",
              "      <td>1.0</td>\n",
              "      <td>1.000000</td>\n",
              "      <td>1.000000</td>\n",
              "      <td>0.930569</td>\n",
              "    </tr>\n",
              "    <tr>\n",
              "      <th>139</th>\n",
              "      <td>17</td>\n",
              "      <td>28</td>\n",
              "      <td>0.226389</td>\n",
              "      <td>0.0</td>\n",
              "      <td>0.296082</td>\n",
              "      <td>0.491260</td>\n",
              "      <td>0.318794</td>\n",
              "    </tr>\n",
              "  </tbody>\n",
              "</table>\n",
              "</div>"
            ],
            "text/plain": [
              "     userId  relevant        AP  nDCG@1    nDCG@3    nDCG@5   nDCG@10\n",
              "125       2        12  0.358489     0.0  0.296082  0.345191  0.297369\n",
              "52        4        23  0.186376     0.0  0.296082  0.491260  0.318794\n",
              "189       5        11  0.300979     1.0  0.469279  0.485229  0.393278\n",
              "108      15       113  0.424804     1.0  1.000000  1.000000  0.930569\n",
              "139      17        28  0.226389     0.0  0.296082  0.491260  0.318794"
            ]
          },
          "execution_count": 93,
          "metadata": {
            "tags": []
          },
          "output_type": "execute_result"
        }
      ],
      "source": [
        "SVDDetailedMetricsRankingDF = SVDDetailedMetricsRankingDF[['userId', 'relevant', 'AP', 'nDCG@1', 'nDCG@3', 'nDCG@5', 'nDCG@10']]\n",
        "SVDDetailedMetricsRankingDF.sort_values(by=['userId']).head(5)"
      ]
    },
    {
      "cell_type": "code",
      "execution_count": null,
      "metadata": {
        "colab": {
          "base_uri": "https://localhost:8080/",
          "height": 85
        },
        "id": "tDzpiKlCfIax",
        "outputId": "b3896d20-4bfd-452a-df94-aa18fd6908d2"
      },
      "outputs": [
        {
          "name": "stdout",
          "output_type": "stream",
          "text": [
            "Avaliando a abordagem CF-SVD...\n",
            "\n",
            "Métricas Globais:\n",
            "{'modelName': 'CF-SVD', 'MAE': 2.689091364993289, 'MSE': 8.545003884998136, 'RMSE': 2.923183860963613}\n"
          ]
        }
      ],
      "source": [
        "print('Avaliando a abordagem %s...' % SVDModel.getModelName())\n",
        "SVDGlobalMetricsRatingDF, SVDDetailedMetricsRatingDF = ratingEvaluator.evaluate(SVDModel)\n",
        "print('\\nMétricas Globais:\\n%s' % SVDGlobalMetricsRatingDF)"
      ]
    },
    {
      "cell_type": "code",
      "execution_count": null,
      "metadata": {
        "colab": {
          "base_uri": "https://localhost:8080/",
          "height": 204
        },
        "id": "aqxIEwVJfT0U",
        "outputId": "02a422b4-351e-4311-ea09-1b0c061c6a77"
      },
      "outputs": [
        {
          "data": {
            "text/html": [
              "<div>\n",
              "<style scoped>\n",
              "    .dataframe tbody tr th:only-of-type {\n",
              "        vertical-align: middle;\n",
              "    }\n",
              "\n",
              "    .dataframe tbody tr th {\n",
              "        vertical-align: top;\n",
              "    }\n",
              "\n",
              "    .dataframe thead th {\n",
              "        text-align: right;\n",
              "    }\n",
              "</style>\n",
              "<table border=\"1\" class=\"dataframe\">\n",
              "  <thead>\n",
              "    <tr style=\"text-align: right;\">\n",
              "      <th></th>\n",
              "      <th>userId</th>\n",
              "      <th>items</th>\n",
              "      <th>MAE</th>\n",
              "      <th>MSE</th>\n",
              "      <th>RMSE</th>\n",
              "    </tr>\n",
              "  </thead>\n",
              "  <tbody>\n",
              "    <tr>\n",
              "      <th>370</th>\n",
              "      <td>1</td>\n",
              "      <td>1</td>\n",
              "      <td>0.973754</td>\n",
              "      <td>0.948197</td>\n",
              "      <td>0.973754</td>\n",
              "    </tr>\n",
              "    <tr>\n",
              "      <th>184</th>\n",
              "      <td>2</td>\n",
              "      <td>12</td>\n",
              "      <td>2.483678</td>\n",
              "      <td>7.712095</td>\n",
              "      <td>2.777066</td>\n",
              "    </tr>\n",
              "    <tr>\n",
              "      <th>172</th>\n",
              "      <td>3</td>\n",
              "      <td>5</td>\n",
              "      <td>2.544921</td>\n",
              "      <td>6.950695</td>\n",
              "      <td>2.636417</td>\n",
              "    </tr>\n",
              "    <tr>\n",
              "      <th>67</th>\n",
              "      <td>4</td>\n",
              "      <td>22</td>\n",
              "      <td>3.361205</td>\n",
              "      <td>12.168472</td>\n",
              "      <td>3.488334</td>\n",
              "    </tr>\n",
              "    <tr>\n",
              "      <th>302</th>\n",
              "      <td>5</td>\n",
              "      <td>11</td>\n",
              "      <td>2.831258</td>\n",
              "      <td>8.791108</td>\n",
              "      <td>2.964980</td>\n",
              "    </tr>\n",
              "  </tbody>\n",
              "</table>\n",
              "</div>"
            ],
            "text/plain": [
              "     userId  items       MAE        MSE      RMSE\n",
              "370       1      1  0.973754   0.948197  0.973754\n",
              "184       2     12  2.483678   7.712095  2.777066\n",
              "172       3      5  2.544921   6.950695  2.636417\n",
              "67        4     22  3.361205  12.168472  3.488334\n",
              "302       5     11  2.831258   8.791108  2.964980"
            ]
          },
          "execution_count": 96,
          "metadata": {
            "tags": []
          },
          "output_type": "execute_result"
        }
      ],
      "source": [
        "SVDDetailedMetricsRatingDF = SVDDetailedMetricsRatingDF[['userId', 'items', 'MAE', 'MSE', 'RMSE']]\n",
        "SVDDetailedMetricsRatingDF.sort_values(by=['userId']).head(5)"
      ]
    },
    {
      "cell_type": "markdown",
      "metadata": {
        "id": "i6rABQBMzKlx"
      },
      "source": [
        "### Baseada em Conteúdo\n",
        "\n",
        "---\n",
        "\n"
      ]
    },
    {
      "cell_type": "code",
      "execution_count": null,
      "metadata": {
        "colab": {
          "base_uri": "https://localhost:8080/",
          "height": 105
        },
        "id": "vCUEhpJXHobU",
        "outputId": "07615502-28b7-4251-92e2-593b3e5125d2"
      },
      "outputs": [
        {
          "name": "stdout",
          "output_type": "stream",
          "text": [
            "Avaliando a abordagem CB...\n",
            "\n",
            "Métricas Globais:\n",
            "{'modelName': 'CB', 'MAP': 0.06458902405853534, 'nDCG@1': 0.13257575757575757, 'nDCG@3': 0.10389462274815263, 'nDCG@5': 0.0937439912954684, 'nDCG@10': 0.0894926093527777}\n"
          ]
        }
      ],
      "source": [
        "print('Avaliando a abordagem %s...' % CBModel.getModelName())\n",
        "CBGlobalMetricsRankingDF, CBDetailedMetricsRankingDF = rankingEvaluator.evaluate(CBModel)\n",
        "print('\\nMétricas Globais:\\n%s' % CBGlobalMetricsRankingDF)"
      ]
    },
    {
      "cell_type": "code",
      "execution_count": null,
      "metadata": {
        "colab": {
          "base_uri": "https://localhost:8080/",
          "height": 204
        },
        "id": "WMBT7TADPFgK",
        "outputId": "09d7e320-3e89-43ac-fa15-61a5837a7514"
      },
      "outputs": [
        {
          "data": {
            "text/html": [
              "<div>\n",
              "<style scoped>\n",
              "    .dataframe tbody tr th:only-of-type {\n",
              "        vertical-align: middle;\n",
              "    }\n",
              "\n",
              "    .dataframe tbody tr th {\n",
              "        vertical-align: top;\n",
              "    }\n",
              "\n",
              "    .dataframe thead th {\n",
              "        text-align: right;\n",
              "    }\n",
              "</style>\n",
              "<table border=\"1\" class=\"dataframe\">\n",
              "  <thead>\n",
              "    <tr style=\"text-align: right;\">\n",
              "      <th></th>\n",
              "      <th>userId</th>\n",
              "      <th>relevant</th>\n",
              "      <th>AP</th>\n",
              "      <th>nDCG@1</th>\n",
              "      <th>nDCG@3</th>\n",
              "      <th>nDCG@5</th>\n",
              "      <th>nDCG@10</th>\n",
              "    </tr>\n",
              "  </thead>\n",
              "  <tbody>\n",
              "    <tr>\n",
              "      <th>125</th>\n",
              "      <td>2</td>\n",
              "      <td>12</td>\n",
              "      <td>0.153179</td>\n",
              "      <td>1.0</td>\n",
              "      <td>0.469279</td>\n",
              "      <td>0.33916</td>\n",
              "      <td>0.283713</td>\n",
              "    </tr>\n",
              "    <tr>\n",
              "      <th>52</th>\n",
              "      <td>4</td>\n",
              "      <td>23</td>\n",
              "      <td>0.009892</td>\n",
              "      <td>0.0</td>\n",
              "      <td>0.000000</td>\n",
              "      <td>0.00000</td>\n",
              "      <td>0.000000</td>\n",
              "    </tr>\n",
              "    <tr>\n",
              "      <th>189</th>\n",
              "      <td>5</td>\n",
              "      <td>11</td>\n",
              "      <td>0.194445</td>\n",
              "      <td>1.0</td>\n",
              "      <td>0.469279</td>\n",
              "      <td>0.33916</td>\n",
              "      <td>0.274876</td>\n",
              "    </tr>\n",
              "    <tr>\n",
              "      <th>108</th>\n",
              "      <td>15</td>\n",
              "      <td>113</td>\n",
              "      <td>0.002917</td>\n",
              "      <td>0.0</td>\n",
              "      <td>0.000000</td>\n",
              "      <td>0.00000</td>\n",
              "      <td>0.000000</td>\n",
              "    </tr>\n",
              "    <tr>\n",
              "      <th>139</th>\n",
              "      <td>17</td>\n",
              "      <td>28</td>\n",
              "      <td>0.044074</td>\n",
              "      <td>0.0</td>\n",
              "      <td>0.000000</td>\n",
              "      <td>0.00000</td>\n",
              "      <td>0.000000</td>\n",
              "    </tr>\n",
              "  </tbody>\n",
              "</table>\n",
              "</div>"
            ],
            "text/plain": [
              "     userId  relevant        AP  nDCG@1    nDCG@3   nDCG@5   nDCG@10\n",
              "125       2        12  0.153179     1.0  0.469279  0.33916  0.283713\n",
              "52        4        23  0.009892     0.0  0.000000  0.00000  0.000000\n",
              "189       5        11  0.194445     1.0  0.469279  0.33916  0.274876\n",
              "108      15       113  0.002917     0.0  0.000000  0.00000  0.000000\n",
              "139      17        28  0.044074     0.0  0.000000  0.00000  0.000000"
            ]
          },
          "execution_count": 98,
          "metadata": {
            "tags": []
          },
          "output_type": "execute_result"
        }
      ],
      "source": [
        "CBDetailedMetricsRankingDF = CBDetailedMetricsRankingDF[['userId', 'relevant', 'AP', 'nDCG@1', 'nDCG@3', 'nDCG@5', 'nDCG@10']]\n",
        "CBDetailedMetricsRankingDF.sort_values(by=['userId']).head(5)"
      ]
    },
    {
      "cell_type": "markdown",
      "metadata": {
        "id": "TvO8n9bxzTaS"
      },
      "source": [
        "### Híbrida\n",
        "\n",
        "---\n",
        "\n"
      ]
    },
    {
      "cell_type": "code",
      "execution_count": null,
      "metadata": {
        "colab": {
          "base_uri": "https://localhost:8080/",
          "height": 105
        },
        "id": "cN3d-WkHI9Zp",
        "outputId": "49beac3e-1f61-493e-832d-36eed98a9e6c"
      },
      "outputs": [
        {
          "name": "stdout",
          "output_type": "stream",
          "text": [
            "Avaliando a abordagem HB...\n",
            "\n",
            "Métricas Globais:\n",
            "{'modelName': 'HB', 'MAP': 0.8084118109843886, 'nDCG@1': 0.9242424242424242, 'nDCG@3': 0.8631871527271356, 'nDCG@5': 0.8249633561366104, 'nDCG@10': 0.852590358217178}\n"
          ]
        }
      ],
      "source": [
        "print('Avaliando a abordagem %s...' % HBModel.getModelName())\n",
        "HBGlobalMetricsRankingDF, HBDetailedMetricsRankingDF = rankingEvaluator.evaluate(HBModel)\n",
        "print('\\nMétricas Globais:\\n%s' % HBGlobalMetricsRankingDF)"
      ]
    },
    {
      "cell_type": "code",
      "execution_count": null,
      "metadata": {
        "colab": {
          "base_uri": "https://localhost:8080/",
          "height": 204
        },
        "id": "rVvA0hgBRTnI",
        "outputId": "bc064ec8-668c-4b55-dcb5-93af5ad14815"
      },
      "outputs": [
        {
          "data": {
            "text/html": [
              "<div>\n",
              "<style scoped>\n",
              "    .dataframe tbody tr th:only-of-type {\n",
              "        vertical-align: middle;\n",
              "    }\n",
              "\n",
              "    .dataframe tbody tr th {\n",
              "        vertical-align: top;\n",
              "    }\n",
              "\n",
              "    .dataframe thead th {\n",
              "        text-align: right;\n",
              "    }\n",
              "</style>\n",
              "<table border=\"1\" class=\"dataframe\">\n",
              "  <thead>\n",
              "    <tr style=\"text-align: right;\">\n",
              "      <th></th>\n",
              "      <th>userId</th>\n",
              "      <th>relevant</th>\n",
              "      <th>AP</th>\n",
              "      <th>nDCG@1</th>\n",
              "      <th>nDCG@3</th>\n",
              "      <th>nDCG@5</th>\n",
              "      <th>nDCG@10</th>\n",
              "    </tr>\n",
              "  </thead>\n",
              "  <tbody>\n",
              "    <tr>\n",
              "      <th>125</th>\n",
              "      <td>2</td>\n",
              "      <td>12</td>\n",
              "      <td>1.000000</td>\n",
              "      <td>1.0</td>\n",
              "      <td>1.000000</td>\n",
              "      <td>1.000000</td>\n",
              "      <td>1.000000</td>\n",
              "    </tr>\n",
              "    <tr>\n",
              "      <th>52</th>\n",
              "      <td>4</td>\n",
              "      <td>23</td>\n",
              "      <td>0.961735</td>\n",
              "      <td>1.0</td>\n",
              "      <td>1.000000</td>\n",
              "      <td>1.000000</td>\n",
              "      <td>0.988801</td>\n",
              "    </tr>\n",
              "    <tr>\n",
              "      <th>189</th>\n",
              "      <td>5</td>\n",
              "      <td>11</td>\n",
              "      <td>0.932540</td>\n",
              "      <td>1.0</td>\n",
              "      <td>1.000000</td>\n",
              "      <td>1.000000</td>\n",
              "      <td>0.979921</td>\n",
              "    </tr>\n",
              "    <tr>\n",
              "      <th>108</th>\n",
              "      <td>15</td>\n",
              "      <td>113</td>\n",
              "      <td>0.271368</td>\n",
              "      <td>0.0</td>\n",
              "      <td>0.000000</td>\n",
              "      <td>0.202107</td>\n",
              "      <td>0.369268</td>\n",
              "    </tr>\n",
              "    <tr>\n",
              "      <th>139</th>\n",
              "      <td>17</td>\n",
              "      <td>28</td>\n",
              "      <td>0.854167</td>\n",
              "      <td>1.0</td>\n",
              "      <td>0.765361</td>\n",
              "      <td>0.804810</td>\n",
              "      <td>0.943866</td>\n",
              "    </tr>\n",
              "  </tbody>\n",
              "</table>\n",
              "</div>"
            ],
            "text/plain": [
              "     userId  relevant        AP  nDCG@1    nDCG@3    nDCG@5   nDCG@10\n",
              "125       2        12  1.000000     1.0  1.000000  1.000000  1.000000\n",
              "52        4        23  0.961735     1.0  1.000000  1.000000  0.988801\n",
              "189       5        11  0.932540     1.0  1.000000  1.000000  0.979921\n",
              "108      15       113  0.271368     0.0  0.000000  0.202107  0.369268\n",
              "139      17        28  0.854167     1.0  0.765361  0.804810  0.943866"
            ]
          },
          "execution_count": 101,
          "metadata": {
            "tags": []
          },
          "output_type": "execute_result"
        }
      ],
      "source": [
        "HBDetailedMetricsRankingDF = HBDetailedMetricsRankingDF[['userId', 'relevant', 'AP', 'nDCG@1', 'nDCG@3', 'nDCG@5', 'nDCG@10']]\n",
        "HBDetailedMetricsRankingDF.sort_values(by=['userId']).head(5)"
      ]
    },
    {
      "cell_type": "markdown",
      "metadata": {
        "id": "VlewVAHHJH-B"
      },
      "source": [
        "### Análise Comparativa\n",
        "---\n"
      ]
    },
    {
      "cell_type": "markdown",
      "metadata": {
        "id": "V3rRIBb7gZcG"
      },
      "source": [
        "#### Ranking\n",
        "\n",
        "---\n",
        "\n"
      ]
    },
    {
      "cell_type": "code",
      "execution_count": null,
      "metadata": {
        "colab": {
          "base_uri": "https://localhost:8080/",
          "height": 266
        },
        "id": "1og9hPxZJR3y",
        "outputId": "fb5a5f67-2b26-4104-da4b-cc55ecc6bd29"
      },
      "outputs": [
        {
          "data": {
            "text/html": [
              "<div>\n",
              "<style scoped>\n",
              "    .dataframe tbody tr th:only-of-type {\n",
              "        vertical-align: middle;\n",
              "    }\n",
              "\n",
              "    .dataframe tbody tr th {\n",
              "        vertical-align: top;\n",
              "    }\n",
              "\n",
              "    .dataframe thead th {\n",
              "        text-align: right;\n",
              "    }\n",
              "</style>\n",
              "<table border=\"1\" class=\"dataframe\">\n",
              "  <thead>\n",
              "    <tr style=\"text-align: right;\">\n",
              "      <th></th>\n",
              "      <th>MAP</th>\n",
              "      <th>nDCG@1</th>\n",
              "      <th>nDCG@3</th>\n",
              "      <th>nDCG@5</th>\n",
              "      <th>nDCG@10</th>\n",
              "    </tr>\n",
              "    <tr>\n",
              "      <th>Abordagem</th>\n",
              "      <th></th>\n",
              "      <th></th>\n",
              "      <th></th>\n",
              "      <th></th>\n",
              "      <th></th>\n",
              "    </tr>\n",
              "  </thead>\n",
              "  <tbody>\n",
              "    <tr>\n",
              "      <th>PB</th>\n",
              "      <td>0.158227</td>\n",
              "      <td>0.367424</td>\n",
              "      <td>0.322541</td>\n",
              "      <td>0.294691</td>\n",
              "      <td>0.262668</td>\n",
              "    </tr>\n",
              "    <tr>\n",
              "      <th>CF-UB</th>\n",
              "      <td>0.151313</td>\n",
              "      <td>0.356061</td>\n",
              "      <td>0.312341</td>\n",
              "      <td>0.278205</td>\n",
              "      <td>0.250612</td>\n",
              "    </tr>\n",
              "    <tr>\n",
              "      <th>CF-IB</th>\n",
              "      <td>0.001363</td>\n",
              "      <td>0.000000</td>\n",
              "      <td>0.001894</td>\n",
              "      <td>0.001894</td>\n",
              "      <td>0.001894</td>\n",
              "    </tr>\n",
              "    <tr>\n",
              "      <th>CF-SVD</th>\n",
              "      <td>0.258175</td>\n",
              "      <td>0.571970</td>\n",
              "      <td>0.505248</td>\n",
              "      <td>0.480359</td>\n",
              "      <td>0.409563</td>\n",
              "    </tr>\n",
              "    <tr>\n",
              "      <th>CB</th>\n",
              "      <td>0.064589</td>\n",
              "      <td>0.132576</td>\n",
              "      <td>0.103895</td>\n",
              "      <td>0.093744</td>\n",
              "      <td>0.089493</td>\n",
              "    </tr>\n",
              "    <tr>\n",
              "      <th>HB</th>\n",
              "      <td>0.808412</td>\n",
              "      <td>0.924242</td>\n",
              "      <td>0.863187</td>\n",
              "      <td>0.824963</td>\n",
              "      <td>0.852590</td>\n",
              "    </tr>\n",
              "  </tbody>\n",
              "</table>\n",
              "</div>"
            ],
            "text/plain": [
              "                MAP    nDCG@1    nDCG@3    nDCG@5   nDCG@10\n",
              "Abordagem                                                  \n",
              "PB         0.158227  0.367424  0.322541  0.294691  0.262668\n",
              "CF-UB      0.151313  0.356061  0.312341  0.278205  0.250612\n",
              "CF-IB      0.001363  0.000000  0.001894  0.001894  0.001894\n",
              "CF-SVD     0.258175  0.571970  0.505248  0.480359  0.409563\n",
              "CB         0.064589  0.132576  0.103895  0.093744  0.089493\n",
              "HB         0.808412  0.924242  0.863187  0.824963  0.852590"
            ]
          },
          "execution_count": 102,
          "metadata": {
            "tags": []
          },
          "output_type": "execute_result"
        }
      ],
      "source": [
        "globalRankingMetricsDF = pd.DataFrame([PBGlobalMetricsRankingDF, UBGlobalMetricsRankingDF, IBGlobalMetricsRankingDF, SVDGlobalMetricsRankingDF, CBGlobalMetricsRankingDF, HBGlobalMetricsRankingDF])\n",
        "globalRankingMetricsDF = globalRankingMetricsDF[['modelName', 'MAP', 'nDCG@1', 'nDCG@3', 'nDCG@5', 'nDCG@10']]\n",
        "globalRankingMetricsDF.columns = ['Abordagem', 'MAP', 'nDCG@1', 'nDCG@3', 'nDCG@5', 'nDCG@10']\n",
        "globalRankingMetricsDF = globalRankingMetricsDF.set_index('Abordagem')\n",
        "globalRankingMetricsDF"
      ]
    },
    {
      "cell_type": "code",
      "execution_count": null,
      "metadata": {
        "colab": {
          "base_uri": "https://localhost:8080/",
          "height": 522
        },
        "id": "Yeu38CU0JVJ0",
        "outputId": "caa201bf-bb02-4e4b-fc56-b8f641cbc389"
      },
      "outputs": [
        {
          "data": {
            "image/png": "[encoded data removed]",
            "text/plain": [
              "<matplotlib.figure.Figure at 0x7f8139409630>"
            ]
          },
          "metadata": {
            "tags": []
          },
          "output_type": "display_data"
        }
      ],
      "source": [
        "%matplotlib inline\n",
        "ax = globalRankingMetricsDF.transpose().plot(kind='bar', figsize=(15,8))\n",
        "for p in ax.patches:\n",
        "    ax.annotate(\"%.3f\" % p.get_height(), (p.get_x() + p.get_width() / 2., p.get_height()), ha='center', va='center', xytext=(0, 10), textcoords='offset points')"
      ]
    },
    {
      "cell_type": "markdown",
      "metadata": {
        "id": "o1ZUKMA0ghuS"
      },
      "source": [
        "#### *Rating*\n",
        "\n",
        "---\n",
        "\n"
      ]
    },
    {
      "cell_type": "code",
      "execution_count": null,
      "metadata": {
        "colab": {
          "base_uri": "https://localhost:8080/",
          "height": 173
        },
        "id": "Ph-ofnD1gvXi",
        "outputId": "59f00f79-8d9a-4cde-cc95-4994bf2c1d15"
      },
      "outputs": [
        {
          "data": {
            "text/html": [
              "<div>\n",
              "<style scoped>\n",
              "    .dataframe tbody tr th:only-of-type {\n",
              "        vertical-align: middle;\n",
              "    }\n",
              "\n",
              "    .dataframe tbody tr th {\n",
              "        vertical-align: top;\n",
              "    }\n",
              "\n",
              "    .dataframe thead th {\n",
              "        text-align: right;\n",
              "    }\n",
              "</style>\n",
              "<table border=\"1\" class=\"dataframe\">\n",
              "  <thead>\n",
              "    <tr style=\"text-align: right;\">\n",
              "      <th></th>\n",
              "      <th>MAE</th>\n",
              "      <th>MSE</th>\n",
              "      <th>RMSE</th>\n",
              "    </tr>\n",
              "    <tr>\n",
              "      <th>Abordagem</th>\n",
              "      <th></th>\n",
              "      <th></th>\n",
              "      <th></th>\n",
              "    </tr>\n",
              "  </thead>\n",
              "  <tbody>\n",
              "    <tr>\n",
              "      <th>CF-UB</th>\n",
              "      <td>3.138201</td>\n",
              "      <td>10.923635</td>\n",
              "      <td>3.305092</td>\n",
              "    </tr>\n",
              "    <tr>\n",
              "      <th>CF-IB</th>\n",
              "      <td>3.308878</td>\n",
              "      <td>12.181068</td>\n",
              "      <td>3.490139</td>\n",
              "    </tr>\n",
              "    <tr>\n",
              "      <th>CF-SVD</th>\n",
              "      <td>2.689091</td>\n",
              "      <td>8.545004</td>\n",
              "      <td>2.923184</td>\n",
              "    </tr>\n",
              "  </tbody>\n",
              "</table>\n",
              "</div>"
            ],
            "text/plain": [
              "                MAE        MSE      RMSE\n",
              "Abordagem                               \n",
              "CF-UB      3.138201  10.923635  3.305092\n",
              "CF-IB      3.308878  12.181068  3.490139\n",
              "CF-SVD     2.689091   8.545004  2.923184"
            ]
          },
          "execution_count": 104,
          "metadata": {
            "tags": []
          },
          "output_type": "execute_result"
        }
      ],
      "source": [
        "globalRatingMetricsDF = pd.DataFrame([UBGlobalMetricsRatingDF, IBGlobalMetricsRatingDF, SVDGlobalMetricsRatingDF])\n",
        "globalRatingMetricsDF = globalRatingMetricsDF[['modelName', 'MAE', 'MSE', 'RMSE']]\n",
        "globalRatingMetricsDF.columns = ['Abordagem', 'MAE', 'MSE', 'RMSE']\n",
        "globalRatingMetricsDF = globalRatingMetricsDF.set_index('Abordagem')\n",
        "globalRatingMetricsDF"
      ]
    },
    {
      "cell_type": "code",
      "execution_count": null,
      "metadata": {
        "colab": {
          "base_uri": "https://localhost:8080/",
          "height": 502
        },
        "id": "fCGVIbRjhJdZ",
        "outputId": "4d30db64-8124-44ce-ca10-55820a1e5524"
      },
      "outputs": [
        {
          "data": {
            "image/png": "[encoded data removed]",
            "text/plain": [
              "<matplotlib.figure.Figure at 0x7f813aae9fd0>"
            ]
          },
          "metadata": {
            "tags": []
          },
          "output_type": "display_data"
        }
      ],
      "source": [
        "%matplotlib inline\n",
        "ax = globalRatingMetricsDF.transpose().plot(kind='bar', figsize=(15,8))\n",
        "for p in ax.patches:\n",
        "    ax.annotate(\"%.3f\" % p.get_height(), (p.get_x() + p.get_width() / 2., p.get_height()), ha='center', va='center', xytext=(0, 10), textcoords='offset points')"
      ]
    },
    {
      "cell_type": "markdown",
      "metadata": {
        "id": "2rIhhoWhJXzW"
      },
      "source": [
        "### Discussões\n",
        "---\n",
        "Os resultados da avaliação apresentados acima mostram que a abordagem híbrida foi a que apresentou melhor acurácia.\n",
        "\n",
        "Vamos verificar o comportamento da melhor abordagem implementada para um usuário específico. Primeiramente, vamos observar os top-$n$ filmes que o usuário  se interessou no conjunto de treino:"
      ]
    },
    {
      "cell_type": "code",
      "execution_count": null,
      "metadata": {
        "id": "eM5qwG7-JfGI"
      },
      "outputs": [],
      "source": [
        "def inspectRatings(user_id, test_set=True):\n",
        "    if test_set:\n",
        "        ratingsDF = ratingsTestIndexedDF\n",
        "    else:\n",
        "        ratingsDF = ratingsTrainIndexedDF\n",
        "    return ratingsDF.loc[user_id].merge(itemsDF, how = 'left', \n",
        "                                        left_on = 'itemId', \n",
        "                                        right_on = 'itemId') \\\n",
        "                    .sort_values('rating', ascending = False)[['itemId','itemName','rating']]"
      ]
    },
    {
      "cell_type": "code",
      "execution_count": null,
      "metadata": {
        "colab": {
          "base_uri": "https://localhost:8080/",
          "height": 204
        },
        "id": "LWWUypOPJlIb",
        "outputId": "d8fac079-3f04-4faa-83b3-0f40893889c6"
      },
      "outputs": [
        {
          "data": {
            "text/html": [
              "<div>\n",
              "<style scoped>\n",
              "    .dataframe tbody tr th:only-of-type {\n",
              "        vertical-align: middle;\n",
              "    }\n",
              "\n",
              "    .dataframe tbody tr th {\n",
              "        vertical-align: top;\n",
              "    }\n",
              "\n",
              "    .dataframe thead th {\n",
              "        text-align: right;\n",
              "    }\n",
              "</style>\n",
              "<table border=\"1\" class=\"dataframe\">\n",
              "  <thead>\n",
              "    <tr style=\"text-align: right;\">\n",
              "      <th></th>\n",
              "      <th>itemId</th>\n",
              "      <th>itemName</th>\n",
              "      <th>rating</th>\n",
              "    </tr>\n",
              "  </thead>\n",
              "  <tbody>\n",
              "    <tr>\n",
              "      <th>3</th>\n",
              "      <td>2105</td>\n",
              "      <td>American Pie</td>\n",
              "      <td>4.0</td>\n",
              "    </tr>\n",
              "    <tr>\n",
              "      <th>4</th>\n",
              "      <td>2455</td>\n",
              "      <td>Confidentially Yours</td>\n",
              "      <td>2.5</td>\n",
              "    </tr>\n",
              "    <tr>\n",
              "      <th>0</th>\n",
              "      <td>1371</td>\n",
              "      <td>Rocky III</td>\n",
              "      <td>2.5</td>\n",
              "    </tr>\n",
              "    <tr>\n",
              "      <th>1</th>\n",
              "      <td>2294</td>\n",
              "      <td>Jay and Silent Bob Strike Back</td>\n",
              "      <td>2.0</td>\n",
              "    </tr>\n",
              "    <tr>\n",
              "      <th>2</th>\n",
              "      <td>2193</td>\n",
              "      <td>My Tutor</td>\n",
              "      <td>2.0</td>\n",
              "    </tr>\n",
              "  </tbody>\n",
              "</table>\n",
              "</div>"
            ],
            "text/plain": [
              "   itemId                        itemName  rating\n",
              "3    2105                    American Pie     4.0\n",
              "4    2455            Confidentially Yours     2.5\n",
              "0    1371                       Rocky III     2.5\n",
              "1    2294  Jay and Silent Bob Strike Back     2.0\n",
              "2    2193                        My Tutor     2.0"
            ]
          },
          "execution_count": 107,
          "metadata": {
            "tags": []
          },
          "output_type": "execute_result"
        }
      ],
      "source": [
        "inspectRatings(1, test_set=False).sort_values(by=['rating','itemId'],ascending=False).head(10)"
      ]
    },
    {
      "cell_type": "markdown",
      "metadata": {
        "id": "OV6b7cRRJo35"
      },
      "source": [
        "Agora vamos observar os top-$n$ filmes recomendados pela abordagem híbrida para esse usuário em particular:"
      ]
    },
    {
      "cell_type": "code",
      "execution_count": null,
      "metadata": {
        "colab": {
          "base_uri": "https://localhost:8080/",
          "height": 359
        },
        "id": "VzhIoLgWJr5P",
        "outputId": "54ddadcd-0b60-4443-df41-f57d19770502"
      },
      "outputs": [
        {
          "data": {
            "text/html": [
              "<div>\n",
              "<style scoped>\n",
              "    .dataframe tbody tr th:only-of-type {\n",
              "        vertical-align: middle;\n",
              "    }\n",
              "\n",
              "    .dataframe tbody tr th {\n",
              "        vertical-align: top;\n",
              "    }\n",
              "\n",
              "    .dataframe thead th {\n",
              "        text-align: right;\n",
              "    }\n",
              "</style>\n",
              "<table border=\"1\" class=\"dataframe\">\n",
              "  <thead>\n",
              "    <tr style=\"text-align: right;\">\n",
              "      <th></th>\n",
              "      <th>itemId</th>\n",
              "      <th>itemName</th>\n",
              "      <th>score</th>\n",
              "    </tr>\n",
              "  </thead>\n",
              "  <tbody>\n",
              "    <tr>\n",
              "      <th>0</th>\n",
              "      <td>2105</td>\n",
              "      <td>American Pie</td>\n",
              "      <td>0.105301</td>\n",
              "    </tr>\n",
              "    <tr>\n",
              "      <th>1</th>\n",
              "      <td>2193</td>\n",
              "      <td>My Tutor</td>\n",
              "      <td>0.048051</td>\n",
              "    </tr>\n",
              "    <tr>\n",
              "      <th>2</th>\n",
              "      <td>1371</td>\n",
              "      <td>Rocky III</td>\n",
              "      <td>0.044051</td>\n",
              "    </tr>\n",
              "    <tr>\n",
              "      <th>3</th>\n",
              "      <td>2455</td>\n",
              "      <td>Confidentially Yours</td>\n",
              "      <td>0.037459</td>\n",
              "    </tr>\n",
              "    <tr>\n",
              "      <th>4</th>\n",
              "      <td>541</td>\n",
              "      <td>The Man with the Golden Arm</td>\n",
              "      <td>0.025616</td>\n",
              "    </tr>\n",
              "    <tr>\n",
              "      <th>5</th>\n",
              "      <td>2294</td>\n",
              "      <td>Jay and Silent Bob Strike Back</td>\n",
              "      <td>0.013206</td>\n",
              "    </tr>\n",
              "    <tr>\n",
              "      <th>6</th>\n",
              "      <td>1584</td>\n",
              "      <td>School of Rock</td>\n",
              "      <td>0.011751</td>\n",
              "    </tr>\n",
              "    <tr>\n",
              "      <th>7</th>\n",
              "      <td>653</td>\n",
              "      <td>Nosferatu</td>\n",
              "      <td>0.009917</td>\n",
              "    </tr>\n",
              "    <tr>\n",
              "      <th>8</th>\n",
              "      <td>919</td>\n",
              "      <td>Blood: The Last Vampire</td>\n",
              "      <td>0.007627</td>\n",
              "    </tr>\n",
              "    <tr>\n",
              "      <th>9</th>\n",
              "      <td>1405</td>\n",
              "      <td>Greed</td>\n",
              "      <td>0.007325</td>\n",
              "    </tr>\n",
              "  </tbody>\n",
              "</table>\n",
              "</div>"
            ],
            "text/plain": [
              "   itemId                        itemName     score\n",
              "0    2105                    American Pie  0.105301\n",
              "1    2193                        My Tutor  0.048051\n",
              "2    1371                       Rocky III  0.044051\n",
              "3    2455            Confidentially Yours  0.037459\n",
              "4     541     The Man with the Golden Arm  0.025616\n",
              "5    2294  Jay and Silent Bob Strike Back  0.013206\n",
              "6    1584                  School of Rock  0.011751\n",
              "7     653                       Nosferatu  0.009917\n",
              "8     919         Blood: The Last Vampire  0.007627\n",
              "9    1405                           Greed  0.007325"
            ]
          },
          "execution_count": 108,
          "metadata": {
            "tags": []
          },
          "output_type": "execute_result"
        }
      ],
      "source": [
        "recommendedItens = HBModel.recommend(1, topn=10, verbose=True)\n",
        "recommendedItens.sort_values(ascending=False,by=['score']).head(10)"
      ]
    },
    {
      "cell_type": "markdown",
      "metadata": {
        "id": "sXU4VXHrJwkZ"
      },
      "source": [
        "## Conclusão\n",
        "---\n",
        "Nesse documento, exploramos e comparamos o desempenho de diferentes abordagens de recomendação utilizando a base de dados [The Movie Dataset](https://www.kaggle.com/rounakbanik/the-movies-dataset). Nesse contexto de recomendação de filmes, a abordagem híbrida apresentou melhor desempenho. Mas ainda há espaço para melhoria:\n",
        "\n",
        "*   A dimensão temporal foi completamente ignorada e simplesmente consideramos que todos os itens estavam disponíveis para serem recomendados para todos os usuários a qualquer tempo. Uma estratégia melhor seria filtrar apenas itens realmente disponíveis para usuários em um determinado momento.\n",
        "*   Evidências de contexto, tais como gênero (categoria do filme), lançamento (data de lançamento do filme) e localização (país, estado e cidade), poderiam ser usadas para melhor modelar as preferências de usuários, sendo incorporadas em modelos [L2R](https://en.wikipedia.org/wiki/Learning_to_rank) ([XGBoost](https://en.wikipedia.org/wiki/Xgboost) para [Gradient Boosting Decision Trees](https://en.wikipedia.org/wiki/Gradient_boosting#Gradient_tree_boosting) com propósito de ranking) ou [logísticos](https://en.wikipedia.org/wiki/Logistic_regression) (com evidências categóricas - one-hot encoding ou [feature hashing](https://en.wikipedia.org/wiki/Feature_hashing)). \n",
        "*   Existem abordagens mais avançadas reportadas pela comunidade científica de RecSys que poderiam ser avaliadas, tais como novas algoritmos para fatoração de matrizes e modelos de aprendizagem profunda (*[deep learning](https://en.wikipedia.org/wiki/Deep_learning)*).\n",
        "\n",
        "Mais sobre abordagens consideradas estado-da-arte em recomendação podem ser encontradas nos anais da [ACM RecSys conference](https://recsys.acm.org/).\n",
        "Além disso, diversos *frameworks* encontram-se disponíveis, tais como os já citados [surprise](https://github.com/NicolasHug/Surprise), [mrec](https://github.com/Mendeley/mrec) e [python-recsys](https://github.com/ocelma/python-recsys), bem como o [Spark ALS Matrix Factorization](https://spark.apache.org/docs/latest/mllib-collaborative-filtering.html), uma implementação distribuída para processamento de bases de dados massivas."
      ]
    }
  ],
  "metadata": {
    "colab": {
      "provenance": [],
      "toc_visible": true
    },
    "kernelspec": {
      "display_name": "Python 3",
      "language": "python",
      "name": "python3"
    },
    "language_info": {
      "codemirror_mode": {
        "name": "ipython",
        "version": 3
      },
      "file_extension": ".py",
      "mimetype": "text/x-python",
      "name": "python",
      "nbconvert_exporter": "python",
      "pygments_lexer": "ipython3",
      "version": "3.10.4"
    },
    "vscode": {
      "interpreter": {
        "hash": "3ad933181bd8a04b432d3370b9dc3b0662ad032c4dfaa4e4f1596c548f763858"
      }
    }
  },
  "nbformat": 4,
  "nbformat_minor": 0
}
